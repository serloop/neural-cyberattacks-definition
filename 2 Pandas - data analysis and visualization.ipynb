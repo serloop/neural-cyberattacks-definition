{
 "cells": [
  {
   "cell_type": "code",
   "execution_count": null,
   "metadata": {},
   "outputs": [],
   "source": [
    "import csv\n",
    "import os, sys\n",
    "from IPython.display import display\n",
    "import pandas as pd\n",
    "import seaborn as sns\n",
    "import matplotlib.pyplot as plt\n",
    "%matplotlib inline\n",
    "import numpy as np\n",
    "import pprint\n",
    "import matplotlib.ticker as ticker"
   ]
  },
  {
   "cell_type": "code",
   "execution_count": null,
   "metadata": {},
   "outputs": [],
   "source": [
    "%autosave 180"
   ]
  },
  {
   "cell_type": "code",
   "execution_count": null,
   "metadata": {},
   "outputs": [],
   "source": [
    "# sns settings\n",
    "plt.rcParams.update({'font.family': 'monospace'})\n",
    "sns.set(style=\"whitegrid\",font_scale=2.5, rc={'figure.figsize':(40,20)})"
   ]
  },
  {
   "cell_type": "code",
   "execution_count": null,
   "metadata": {},
   "outputs": [],
   "source": [
    "kwargs  =   {'edgecolor':\"black\", # for edge color\n",
    "             'linewidth':2, # line width of spot\n",
    "             'linestyle':'-', # line style of spot\n",
    "            }"
   ]
  },
  {
   "cell_type": "code",
   "execution_count": null,
   "metadata": {},
   "outputs": [],
   "source": [
    "# csv to import\n",
    "#csv_filename = \"simulation_data.csv\"\n",
    "#csv_filename = \"simulation_data_MOVING_MOUSE.csv\"\n",
    "csv_filename = \"test.csv\"\n",
    "\n",
    "plots_options = {\n",
    "    \"plots_basic_raster_dots\" : False, # Generate basic dots raster plots\n",
    "    \"plots_aggr_neurons_jointplot\" : False,\n",
    "    \"plots_aggr_neurons_barplot\" : False,\n",
    "    \"plots_aggr_time_instant_jointplot\" : False,\n",
    "    \"plots_aggr_time_instant_barplot\" : True,\n",
    "}\n",
    "\n",
    "list_attacks = ['SCA', 'FOR', \"FLO\", \"JAM\", \"SPO\", \"SYB\"]\n",
    "\n",
    "sns.set(font_scale=1.4)\n",
    "sns.set_style(\"whitegrid\")"
   ]
  },
  {
   "cell_type": "code",
   "execution_count": null,
   "metadata": {},
   "outputs": [],
   "source": [
    "MIN_00 = 25\n",
    "MAX_00 = 50\n",
    "\n",
    "MIN_33 = 325\n",
    "MAX_33 = 350\n",
    "\n",
    "MIN_55 = 625\n",
    "MAX_55 = 650\n",
    "\n",
    "MAX_L1 = 200\n",
    "MAX_L2 = 272"
   ]
  },
  {
   "cell_type": "code",
   "execution_count": null,
   "metadata": {},
   "outputs": [],
   "source": [
    "def append_to_csv_file(filename, line):\n",
    "    # Update the attack file\n",
    "    with open(filename, 'a') as csvFile:\n",
    "        writer = csv.writer(csvFile, delimiter=';')\n",
    "        writer.writerow(line)"
   ]
  },
  {
   "cell_type": "markdown",
   "metadata": {},
   "source": [
    "### Load CSV data with Pandas"
   ]
  },
  {
   "cell_type": "code",
   "execution_count": null,
   "metadata": {
    "scrolled": true
   },
   "outputs": [],
   "source": [
    "df = pd.read_csv(csv_filename, delimiter=\";\", dtype={'n_neurons': np.int32})"
   ]
  },
  {
   "cell_type": "markdown",
   "metadata": {},
   "source": [
    "### Data preprocessing for plotting"
   ]
  },
  {
   "cell_type": "markdown",
   "metadata": {},
   "source": [
    "#### Generic raster plots"
   ]
  },
  {
   "cell_type": "code",
   "execution_count": null,
   "metadata": {},
   "outputs": [],
   "source": [
    "data_initial_state = df[df.attack == \"initial_state\"]\n",
    "data_SCA = df[(df.attack == \"SCA\") & (df.stim_value == 1.0)]\n",
    "data_FOR = df[(df.attack == \"FOR\") & (df.stim_value == -1.0)]\n",
    "\n",
    "data_FLO_00 = df[(df.attack == \"FLO\") & (df.stim_value == 1.0) & (df.coord_attack == \"(0,0)\")]\n",
    "data_FLO_33 = df[(df.attack == \"FLO\") & (df.stim_value == 1.0) & (df.coord_attack == \"(3,3)\")]\n",
    "data_FLO_55 = df[(df.attack == \"FLO\") & (df.stim_value == 1.0) & (df.coord_attack == \"(5,5)\")]\n",
    "\n",
    "data_JAM_00 = df[(df.attack == \"JAM\") & (df.stim_value == -1.0) & (df.coord_attack == \"(0,0)\")]\n",
    "data_JAM_33 = df[(df.attack == \"JAM\") & (df.stim_value == -1.0) & (df.coord_attack == \"(3,3)\")]\n",
    "data_JAM_55 = df[(df.attack == \"JAM\") & (df.stim_value == -1.0) & (df.coord_attack == \"(5,5)\")]\n",
    "\n",
    "data_SPO_00 = df[(df.attack == \"SPO\") & (df.coord_attack == \"(0,0)\")]\n",
    "data_SPO_33 = df[(df.attack == \"SPO\") & (df.coord_attack == \"(3,3)\")]\n",
    "data_SPO_55 = df[(df.attack == \"SPO\") & (df.coord_attack == \"(5,5)\")]\n",
    "\n",
    "data_SYB_00 = df[(df.attack == \"SYB\") & (df.coord_attack == \"(0,0)\")]\n",
    "data_SYB_33 = df[(df.attack == \"SYB\") & (df.coord_attack == \"(3,3)\")]\n",
    "data_SYB_55 = df[(df.attack == \"SYB\") & (df.coord_attack == \"(5,5)\")]\n",
    "\n",
    "concat_SCA = pd.concat([data_initial_state.assign(attack='initial_state'), data_SCA.assign(attack='SCA')])\n",
    "concat_FOR = pd.concat([data_initial_state.assign(attack='initial_state'), data_FOR.assign(attack='FOR')])\n",
    "\n",
    "concat_FLO_00 = pd.concat([data_initial_state.assign(attack='initial_state'), data_FLO_00.assign(attack='FLO')])\n",
    "concat_FLO_33 = pd.concat([data_initial_state.assign(attack='initial_state'), data_FLO_33.assign(attack='FLO')])\n",
    "concat_FLO_55 = pd.concat([data_initial_state.assign(attack='initial_state'), data_FLO_55.assign(attack='FLO')])\n",
    "\n",
    "concat_JAM_00 = pd.concat([data_initial_state.assign(attack='initial_state'), data_JAM_00.assign(attack='JAM')])\n",
    "concat_JAM_33 = pd.concat([data_initial_state.assign(attack='initial_state'), data_JAM_33.assign(attack='JAM')])\n",
    "concat_JAM_55 = pd.concat([data_initial_state.assign(attack='initial_state'), data_JAM_55.assign(attack='JAM')])\n",
    "\n",
    "concat_SPO_00 = pd.concat([data_initial_state.assign(attack='initial_state'), data_SPO_00.assign(attack='SPO')])\n",
    "concat_SPO_33 = pd.concat([data_initial_state.assign(attack='initial_state'), data_SPO_33.assign(attack='SPO')])\n",
    "concat_SPO_55 = pd.concat([data_initial_state.assign(attack='initial_state'), data_SPO_55.assign(attack='SPO')])\n",
    "\n",
    "concat_SYB_00 = pd.concat([data_initial_state.assign(attack='initial_state'), data_SYB_00.assign(attack='SYB')])\n",
    "concat_SYB_33 = pd.concat([data_initial_state.assign(attack='initial_state'), data_SYB_33.assign(attack='SYB')])\n",
    "concat_SYB_55 = pd.concat([data_initial_state.assign(attack='initial_state'), data_SYB_55.assign(attack='SYB')])"
   ]
  },
  {
   "cell_type": "code",
   "execution_count": null,
   "metadata": {},
   "outputs": [],
   "source": [
    "d_initial_aggr_neuron"
   ]
  },
  {
   "cell_type": "code",
   "execution_count": null,
   "metadata": {},
   "outputs": [],
   "source": [
    "d_initial_aggr_time"
   ]
  },
  {
   "cell_type": "markdown",
   "metadata": {},
   "source": [
    "#### Neuron aggregation"
   ]
  },
  {
   "cell_type": "code",
   "execution_count": null,
   "metadata": {},
   "outputs": [],
   "source": [
    "# Aggregate by neuron: [n_neuron, count spikes]\n",
    "\n",
    "grouped = data_initial_state.groupby('neuron').count()[\"time_delta\"]\n",
    "d_initial_aggr_neuron = pd.DataFrame()\n",
    "d_initial_aggr_neuron['neuron'] = grouped.index\n",
    "d_initial_aggr_neuron['n_spikes'] = grouped.tolist()\n",
    "\n",
    "grouped = data_SCA.groupby('neuron').count()[\"time_delta\"]\n",
    "d_SCA_aggr_neuron = pd.DataFrame()\n",
    "d_SCA_aggr_neuron['neuron'] = grouped.index\n",
    "d_SCA_aggr_neuron['n_spikes'] = grouped.tolist()\n",
    "\n",
    "grouped = data_FOR.groupby('neuron').count()[\"time_delta\"]\n",
    "d_FOR_aggr_neuron = pd.DataFrame()\n",
    "d_FOR_aggr_neuron['neuron'] = grouped.index\n",
    "d_FOR_aggr_neuron['n_spikes'] = grouped.tolist()\n",
    "\n",
    "\n",
    "grouped = data_FLO_00.groupby('neuron').count()[\"time_delta\"]\n",
    "d_FLO_aggr_neuron_00 = pd.DataFrame()\n",
    "d_FLO_aggr_neuron_00['neuron'] = grouped.index\n",
    "d_FLO_aggr_neuron_00['n_spikes'] = grouped.tolist()\n",
    "\n",
    "grouped = data_FLO_33.groupby('neuron').count()[\"time_delta\"]\n",
    "d_FLO_aggr_neuron_33 = pd.DataFrame()\n",
    "d_FLO_aggr_neuron_33['neuron'] = grouped.index\n",
    "d_FLO_aggr_neuron_33['n_spikes'] = grouped.tolist()\n",
    "\n",
    "grouped = data_FLO_55.groupby('neuron').count()[\"time_delta\"]\n",
    "d_FLO_aggr_neuron_55 = pd.DataFrame()\n",
    "d_FLO_aggr_neuron_55['neuron'] = grouped.index\n",
    "d_FLO_aggr_neuron_55['n_spikes'] = grouped.tolist()\n",
    "\n",
    "\n",
    "grouped = data_JAM_00.groupby('neuron').count()[\"time_delta\"]\n",
    "d_JAM_aggr_neuron_00 = pd.DataFrame()\n",
    "d_JAM_aggr_neuron_00['neuron'] = grouped.index\n",
    "d_JAM_aggr_neuron_00['n_spikes'] = grouped.tolist()\n",
    "\n",
    "grouped = data_JAM_33.groupby('neuron').count()[\"time_delta\"]\n",
    "d_JAM_aggr_neuron_33= pd.DataFrame()\n",
    "d_JAM_aggr_neuron_33['neuron'] = grouped.index\n",
    "d_JAM_aggr_neuron_33['n_spikes'] = grouped.tolist()\n",
    "\n",
    "grouped = data_JAM_55.groupby('neuron').count()[\"time_delta\"]\n",
    "d_JAM_aggr_neuron_55 = pd.DataFrame()\n",
    "d_JAM_aggr_neuron_55['neuron'] = grouped.index\n",
    "d_JAM_aggr_neuron_55['n_spikes'] = grouped.tolist()\n",
    "\n",
    "\n",
    "grouped = data_SPO_00.groupby('neuron').count()[\"time_delta\"]\n",
    "d_SPO_aggr_neuron_00 = pd.DataFrame()\n",
    "d_SPO_aggr_neuron_00['neuron'] = grouped.index\n",
    "d_SPO_aggr_neuron_00['n_spikes'] = grouped.tolist()\n",
    "\n",
    "grouped = data_SPO_33.groupby('neuron').count()[\"time_delta\"]\n",
    "d_SPO_aggr_neuron_33 = pd.DataFrame()\n",
    "d_SPO_aggr_neuron_33['neuron'] = grouped.index\n",
    "d_SPO_aggr_neuron_33['n_spikes'] = grouped.tolist()\n",
    "\n",
    "grouped = data_SPO_55.groupby('neuron').count()[\"time_delta\"]\n",
    "d_SPO_aggr_neuron_55 = pd.DataFrame()\n",
    "d_SPO_aggr_neuron_55['neuron'] = grouped.index\n",
    "d_SPO_aggr_neuron_55['n_spikes'] = grouped.tolist()\n",
    "\n",
    "\n",
    "grouped = data_SYB_00.groupby('neuron').count()[\"time_delta\"]\n",
    "d_SYB_aggr_neuron_00 = pd.DataFrame()\n",
    "d_SYB_aggr_neuron_00['neuron'] = grouped.index\n",
    "d_SYB_aggr_neuron_00['n_spikes'] = grouped.tolist()\n",
    "\n",
    "grouped = data_SYB_33.groupby('neuron').count()[\"time_delta\"]\n",
    "d_SYB_aggr_neuron_33 = pd.DataFrame()\n",
    "d_SYB_aggr_neuron_33['neuron'] = grouped.index\n",
    "d_SYB_aggr_neuron_33['n_spikes'] = grouped.tolist()\n",
    "\n",
    "grouped = data_SYB_55.groupby('neuron').count()[\"time_delta\"]\n",
    "d_SYB_aggr_neuron_55 = pd.DataFrame()\n",
    "d_SYB_aggr_neuron_55['neuron'] = grouped.index\n",
    "d_SYB_aggr_neuron_55['n_spikes'] = grouped.tolist()\n",
    "\n",
    "\n",
    "concat_SCA_aggr_neuron = pd.concat([d_initial_aggr_neuron.assign(attack='initial_state'), d_SCA_aggr_neuron.assign(attack='SCA')])\n",
    "concat_FOR_aggr_neuron = pd.concat([d_initial_aggr_neuron.assign(attack='initial_state'), d_FOR_aggr_neuron.assign(attack='FOR')]) \n",
    "concat_FLO_aggr_neuron_00 = pd.concat([d_initial_aggr_neuron.assign(attack='initial_state'), d_FLO_aggr_neuron_00.assign(attack='FLO')])\n",
    "concat_FLO_aggr_neuron_33 = pd.concat([d_initial_aggr_neuron.assign(attack='initial_state'), d_FLO_aggr_neuron_33.assign(attack='FLO')])\n",
    "concat_FLO_aggr_neuron_55 = pd.concat([d_initial_aggr_neuron.assign(attack='initial_state'), d_FLO_aggr_neuron_55.assign(attack='FLO')])\n",
    "concat_JAM_aggr_neuron_00 = pd.concat([d_initial_aggr_neuron.assign(attack='initial_state'), d_JAM_aggr_neuron_00.assign(attack='JAM')])\n",
    "concat_JAM_aggr_neuron_33 = pd.concat([d_initial_aggr_neuron.assign(attack='initial_state'), d_JAM_aggr_neuron_33.assign(attack='JAM')])\n",
    "concat_JAM_aggr_neuron_55 = pd.concat([d_initial_aggr_neuron.assign(attack='initial_state'), d_JAM_aggr_neuron_55.assign(attack='JAM')])\n",
    "concat_SPO_aggr_neuron_00 = pd.concat([d_initial_aggr_neuron.assign(attack='initial_state'), d_SPO_aggr_neuron_00.assign(attack='SPO')])\n",
    "concat_SPO_aggr_neuron_33 = pd.concat([d_initial_aggr_neuron.assign(attack='initial_state'), d_SPO_aggr_neuron_33.assign(attack='SPO')])\n",
    "concat_SPO_aggr_neuron_55 = pd.concat([d_initial_aggr_neuron.assign(attack='initial_state'), d_SPO_aggr_neuron_55.assign(attack='SPO')])\n",
    "concat_SYB_aggr_neuron_00 = pd.concat([d_initial_aggr_neuron.assign(attack='initial_state'), d_SYB_aggr_neuron_00.assign(attack='SYB')])\n",
    "concat_SYB_aggr_neuron_33 = pd.concat([d_initial_aggr_neuron.assign(attack='initial_state'), d_SYB_aggr_neuron_33.assign(attack='SYB')])\n",
    "concat_SYB_aggr_neuron_55 = pd.concat([d_initial_aggr_neuron.assign(attack='initial_state'), d_SYB_aggr_neuron_55.assign(attack='SYB')])"
   ]
  },
  {
   "cell_type": "markdown",
   "metadata": {},
   "source": [
    "#### Time instant aggregation"
   ]
  },
  {
   "cell_type": "code",
   "execution_count": null,
   "metadata": {},
   "outputs": [],
   "source": [
    "grouped = data_initial_state.groupby('time_delta').count()[\"neuron\"]\n",
    "d_initial_aggr_time = pd.DataFrame()\n",
    "d_initial_aggr_time['n_spikes'] = grouped.index\n",
    "d_initial_aggr_time['neuron'] = grouped.tolist()\n",
    "\n",
    "grouped = data_SCA.groupby('time_delta').count()[\"neuron\"]\n",
    "d_SCA_aggr_time = pd.DataFrame()\n",
    "d_SCA_aggr_time['n_spikes'] = grouped.index\n",
    "d_SCA_aggr_time['neuron'] = grouped.tolist()\n",
    "\n",
    "grouped = data_FOR.groupby('time_delta').count()[\"neuron\"]\n",
    "d_FOR_aggr_time = pd.DataFrame()\n",
    "d_FOR_aggr_time['n_spikes'] = grouped.index\n",
    "d_FOR_aggr_time['neuron'] = grouped.tolist()\n",
    "\n",
    "\n",
    "grouped = data_FLO_00.groupby('time_delta').count()[\"neuron\"]\n",
    "d_FLO_aggr_time_00 = pd.DataFrame()\n",
    "d_FLO_aggr_time_00['n_spikes'] = grouped.index\n",
    "d_FLO_aggr_time_00['neuron'] = grouped.tolist()\n",
    "\n",
    "grouped = data_FLO_33.groupby('time_delta').count()[\"neuron\"]\n",
    "d_FLO_aggr_time_33 = pd.DataFrame()\n",
    "d_FLO_aggr_time_33['n_spikes'] = grouped.index\n",
    "d_FLO_aggr_time_33['neuron'] = grouped.tolist()\n",
    "\n",
    "grouped = data_FLO_55.groupby('time_delta').count()[\"neuron\"]\n",
    "d_FLO_aggr_time_55 = pd.DataFrame()\n",
    "d_FLO_aggr_time_55['n_spikes'] = grouped.index\n",
    "d_FLO_aggr_time_55['neuron'] = grouped.tolist()\n",
    "\n",
    "\n",
    "grouped = data_JAM_00.groupby('time_delta').count()[\"neuron\"]\n",
    "d_JAM_aggr_time_00 = pd.DataFrame()\n",
    "d_JAM_aggr_time_00['n_spikes'] = grouped.index\n",
    "d_JAM_aggr_time_00['neuron'] = grouped.tolist()\n",
    "\n",
    "grouped = data_JAM_33.groupby('time_delta').count()[\"neuron\"]\n",
    "d_JAM_aggr_time_33 = pd.DataFrame()\n",
    "d_JAM_aggr_time_33['n_spikes'] = grouped.index\n",
    "d_JAM_aggr_time_33['neuron'] = grouped.tolist()\n",
    "\n",
    "grouped = data_JAM_55.groupby('time_delta').count()[\"neuron\"]\n",
    "d_JAM_aggr_time_55 = pd.DataFrame()\n",
    "d_JAM_aggr_time_55['n_spikes'] = grouped.index\n",
    "d_JAM_aggr_time_55['neuron'] = grouped.tolist()\n",
    "\n",
    "\n",
    "grouped = data_SPO_00.groupby('time_delta').count()[\"neuron\"]\n",
    "d_SPO_aggr_time_00 = pd.DataFrame()\n",
    "d_SPO_aggr_time_00['n_spikes'] = grouped.index\n",
    "d_SPO_aggr_time_00['neuron'] = grouped.tolist()\n",
    "\n",
    "grouped = data_SPO_33.groupby('time_delta').count()[\"neuron\"]\n",
    "d_SPO_aggr_time_33 = pd.DataFrame()\n",
    "d_SPO_aggr_time_33['n_spikes'] = grouped.index\n",
    "d_SPO_aggr_time_33['neuron'] = grouped.tolist()\n",
    "\n",
    "grouped = data_SPO_55.groupby('time_delta').count()[\"neuron\"]\n",
    "d_SPO_aggr_time_55 = pd.DataFrame()\n",
    "d_SPO_aggr_time_55['n_spikes'] = grouped.index\n",
    "d_SPO_aggr_time_55['neuron'] = grouped.tolist()\n",
    "\n",
    "\n",
    "grouped = data_SYB_00.groupby('time_delta').count()[\"neuron\"]\n",
    "d_SYB_aggr_time_00 = pd.DataFrame()\n",
    "d_SYB_aggr_time_00['n_spikes'] = grouped.index\n",
    "d_SYB_aggr_time_00['neuron'] = grouped.tolist()\n",
    "\n",
    "grouped = data_SYB_33.groupby('time_delta').count()[\"neuron\"]\n",
    "d_SYB_aggr_time_33 = pd.DataFrame()\n",
    "d_SYB_aggr_time_33['n_spikes'] = grouped.index\n",
    "d_SYB_aggr_time_33['neuron'] = grouped.tolist()\n",
    "\n",
    "grouped = data_SYB_55.groupby('time_delta').count()[\"neuron\"]\n",
    "d_SYB_aggr_time_55 = pd.DataFrame()\n",
    "d_SYB_aggr_time_55['n_spikes'] = grouped.index\n",
    "d_SYB_aggr_time_55['neuron'] = grouped.tolist()\n",
    "\n",
    "concat_SCA_aggr_time = pd.concat([d_initial_aggr_time.assign(attack='initial_state'), d_SCA_aggr_time.assign(attack='SCA')])\n",
    "concat_FOR_aggr_time = pd.concat([d_initial_aggr_time.assign(attack='initial_state'), d_FOR_aggr_time.assign(attack='FOR')])\n",
    "concat_FLO_aggr_time_00 = pd.concat([d_initial_aggr_time.assign(attack='initial_state'), d_FLO_aggr_time_00.assign(attack='FLO')])\n",
    "concat_FLO_aggr_time_33 = pd.concat([d_initial_aggr_time.assign(attack='initial_state'), d_FLO_aggr_time_33.assign(attack='FLO')])\n",
    "concat_FLO_aggr_time_55 = pd.concat([d_initial_aggr_time.assign(attack='initial_state'), d_FLO_aggr_time_55.assign(attack='FLO')])\n",
    "concat_JAM_aggr_time_00 = pd.concat([d_initial_aggr_time.assign(attack='initial_state'), d_JAM_aggr_time_00.assign(attack='JAM')])\n",
    "concat_JAM_aggr_time_33 = pd.concat([d_initial_aggr_time.assign(attack='initial_state'), d_JAM_aggr_time_33.assign(attack='JAM')])\n",
    "concat_JAM_aggr_time_55 = pd.concat([d_initial_aggr_time.assign(attack='initial_state'), d_JAM_aggr_time_55.assign(attack='JAM')])\n",
    "concat_SPO_aggr_time_00 = pd.concat([d_initial_aggr_time.assign(attack='initial_state'), d_SPO_aggr_time_00.assign(attack='SPO')])\n",
    "concat_SPO_aggr_time_33 = pd.concat([d_initial_aggr_time.assign(attack='initial_state'), d_SPO_aggr_time_33.assign(attack='SPO')])\n",
    "concat_SPO_aggr_time_55 = pd.concat([d_initial_aggr_time.assign(attack='initial_state'), d_SPO_aggr_time_55.assign(attack='SPO')])\n",
    "concat_SYB_aggr_time_00 = pd.concat([d_initial_aggr_time.assign(attack='initial_state'), d_SYB_aggr_time_00.assign(attack='SYB')])\n",
    "concat_SYB_aggr_time_33 = pd.concat([d_initial_aggr_time.assign(attack='initial_state'), d_SYB_aggr_time_33.assign(attack='SYB')])\n",
    "concat_SYB_aggr_time_55 = pd.concat([d_initial_aggr_time.assign(attack='initial_state'), d_SYB_aggr_time_55.assign(attack='SYB')])"
   ]
  },
  {
   "cell_type": "markdown",
   "metadata": {},
   "source": [
    "### Initial_state"
   ]
  },
  {
   "cell_type": "markdown",
   "metadata": {},
   "source": [
    "#### Raster plot"
   ]
  },
  {
   "cell_type": "code",
   "execution_count": null,
   "metadata": {},
   "outputs": [],
   "source": [
    "fig,ax = plt.subplots()\n",
    "sns.scatterplot(x='time_delta', y='neuron', data=data_initial_state,\n",
    "                hue='attack', palette=[\"#092C48\"]) #, style='dataset'\n",
    "\n",
    "cont = 25\n",
    "for a in range(0, 28):\n",
    "    plt.axvline(x=cont*a, color=\"red\")\n",
    "\n",
    "ax.xaxis.set_major_locator(ticker.MultipleLocator(25))"
   ]
  },
  {
   "cell_type": "markdown",
   "metadata": {},
   "source": [
    "### Initial_state vs SCA"
   ]
  },
  {
   "cell_type": "markdown",
   "metadata": {},
   "source": [
    "#### Raster plot"
   ]
  },
  {
   "cell_type": "code",
   "execution_count": null,
   "metadata": {},
   "outputs": [],
   "source": [
    "fig,ax = plt.subplots()\n",
    "ax = sns.scatterplot(x='time_delta', y='neuron', data=concat_SCA,\n",
    "                hue='attack', palette=[\"#C59434\", \"#092C48\"], alpha=0.6) #, style='dataset'\n",
    "\n",
    "#sns.scatterplot(x='time_delta', y='neuron', data=data_initial_state,\n",
    "#                hue='attack', palette=[\"white\"], alpha=1, marker=\"o\", **kwargs) #, style='dataset'\n",
    "\n",
    "#sns.scatterplot(x='time_delta', y='neuron', data=data_SCA,\n",
    "#                hue='attack', palette=[\"black\"], alpha=1, marker=\"x\", **kwargs) #, style='dataset'\n",
    "\n",
    "cont = 25\n",
    "for a in range(0, 28):\n",
    "    plt.axvline(x=cont*a, color=\"red\")\n",
    "\n",
    "ax.xaxis.set_major_locator(ticker.MultipleLocator(25))"
   ]
  },
  {
   "cell_type": "code",
   "execution_count": null,
   "metadata": {
    "scrolled": false
   },
   "outputs": [],
   "source": [
    "# (0,0)\n",
    "#sns.scatterplot(x='time_delta', y='neuron', data=concat_SCA[(concat_SCA.time_delta >= MIN_00) & (concat_SCA.time_delta <= MAX_00)],\n",
    "#                hue='attack', s=80, palette=[\"#C59434\", \"#092C48\"], alpha=0.6) #, style='dataset'\n",
    "\n",
    "sns.scatterplot(x='time_delta', y='neuron', data=data_initial_state[(data_initial_state.time_delta >= MIN_00) & (data_initial_state.time_delta <= MAX_00)],\n",
    "                hue='attack', s=50, palette=[\"white\"], alpha=1, marker=\"o\", **kwargs) #, style='dataset'\n",
    "\n",
    "sns.scatterplot(x='time_delta', y='neuron', data=data_SCA[(data_SCA.time_delta >= MIN_00) & (data_SCA.time_delta <= MAX_00)],\n",
    "                hue='attack', s=50, palette=[\"black\"], alpha=1, marker=\"x\", **kwargs) #, style='dataset'\n"
   ]
  },
  {
   "cell_type": "code",
   "execution_count": null,
   "metadata": {
    "scrolled": false
   },
   "outputs": [],
   "source": [
    "# (3,3)\n",
    "#sns.scatterplot(x='time_delta', y='neuron', data=concat_SCA[(concat_SCA.time_delta >= MIN_33) & (concat_SCA.time_delta <= MAX_33)],\n",
    "#                hue='attack', s=80, palette=[\"#C59434\", \"#092C48\"], alpha=0.5) #, style='dataset'\n",
    "\n",
    "sns.scatterplot(x='time_delta', y='neuron', data=data_initial_state[(data_initial_state.time_delta >= MIN_33) & (data_initial_state.time_delta <= MAX_33)],\n",
    "                hue='attack', s=80, palette=[\"#C59434\"], alpha=1, marker=\"o\") #, style='dataset'\n",
    "\n",
    "sns.scatterplot(x='time_delta', y='neuron', data=data_SCA[(data_SCA.time_delta >= MIN_33) & (data_SCA.time_delta <= MAX_33)],\n",
    "                hue='attack', s=80, palette=[\"#092C48\"], alpha=1, marker=\"x\") #, style='dataset'"
   ]
  },
  {
   "cell_type": "code",
   "execution_count": null,
   "metadata": {
    "scrolled": false
   },
   "outputs": [],
   "source": [
    "# (5,5)\n",
    "#sns.scatterplot(x='time_delta', y='neuron', data=concat_SCA[(concat_SCA.time_delta >= MIN_55) & (concat_SCA.time_delta <= MAX_55)],\n",
    "#                hue='attack', s=80, palette=[\"#C59434\", \"#092C48\"], alpha=0.5) #, style='dataset'\n",
    "\n",
    "sns.scatterplot(x='time_delta', y='neuron', data=data_initial_state[(data_initial_state.time_delta >= MIN_55) & (data_initial_state.time_delta <= MAX_55)],\n",
    "                hue='attack', s=80, palette=[\"#C59434\"], alpha=1, marker=\"o\") #, style='dataset'\n",
    "\n",
    "sns.scatterplot(x='time_delta', y='neuron', data=data_SCA[(data_SCA.time_delta >= MIN_55) & (data_SCA.time_delta <= MAX_55)],\n",
    "                hue='attack', s=80, palette=[\"#092C48\"], alpha=1, marker=\"x\") #, style='dataset'"
   ]
  },
  {
   "cell_type": "markdown",
   "metadata": {},
   "source": [
    "#### Neuron aggregation: Scatter plot"
   ]
  },
  {
   "cell_type": "code",
   "execution_count": null,
   "metadata": {},
   "outputs": [],
   "source": [
    "#sns.scatterplot(x='neuron', y='n_spikes', data=concat_SCA_aggr_neuron,\n",
    "#                hue='attack', s=80, palette=[\"#C59434\", \"#092c48\"], alpha=0.7) # style='dataset', markers=[\"o\", \"X\"]\n",
    "\n",
    "\n",
    "sns.scatterplot(x='neuron', y='n_spikes', data=concat_SCA_aggr_neuron[concat_SCA_aggr_neuron.attack == \"initial_state\"],\n",
    "                hue='attack', s=80, palette=[\"#C59434\"], alpha=1, marker=\"o\") #, style='dataset'\n",
    "\n",
    "sns.scatterplot(x='neuron', y='n_spikes', data=concat_SCA_aggr_neuron[concat_SCA_aggr_neuron.attack == \"SCA\"],\n",
    "                hue='attack', s=80, palette=[\"#092C48\"], alpha=1, marker=\"x\") #, style='dataset'\n",
    "\n",
    "plt.legend(loc='upper left')\n",
    "plt.show()"
   ]
  },
  {
   "cell_type": "markdown",
   "metadata": {},
   "source": [
    "#### Neuron aggregation: Barplot"
   ]
  },
  {
   "cell_type": "code",
   "execution_count": null,
   "metadata": {},
   "outputs": [],
   "source": [
    "#plt.xticks(rotation='vertical')\n",
    "#fig, ax = plt.subplots()\n",
    "#fig.set_size_inches(110,40)\n",
    "#ax.tick_params(axis='x', rotation=90)\n",
    "#sns.barplot(data=concat_SCA_aggr_neuron, x = \"neuron\", y =\"n_spikes\", palette=[\"#C59434\", \"#092c48\"], hue=\"attack\", alpha=0.5)"
   ]
  },
  {
   "cell_type": "markdown",
   "metadata": {},
   "source": [
    "#### Time instant aggregation: Scatter plot"
   ]
  },
  {
   "cell_type": "code",
   "execution_count": null,
   "metadata": {},
   "outputs": [],
   "source": [
    "sns.scatterplot(x='n_spikes', y='neuron', data=concat_SCA_aggr_time,\n",
    "                hue='attack', palette=[\"#C59434\", \"#092c48\"], alpha=0.5) # style='dataset', markers=[\"o\", \"X\"]\n",
    "\n",
    "plt.legend(loc='upper left')\n",
    "plt.show()"
   ]
  },
  {
   "cell_type": "code",
   "execution_count": null,
   "metadata": {},
   "outputs": [],
   "source": [
    "# (0,0)\n",
    "#sns.scatterplot(x='n_spikes', y='neuron', data=concat_SCA_aggr_time[(concat_SCA_aggr_time.n_spikes >= MIN_00) & (concat_SCA_aggr_time.n_spikes <= MAX_00)],\n",
    "#                hue='attack', s=80, palette=[\"#C59434\", \"#092c48\"], alpha=0.6) # style='dataset', markers=[\"o\", \"X\"]\n",
    "\n",
    "#plt.legend(loc='upper left')\n",
    "#plt.show()\n",
    "\n",
    "sns.scatterplot(x='n_spikes', y='neuron', data=concat_SCA_aggr_time[(concat_SCA_aggr_time.attack == \"initial_state\") & (concat_SCA_aggr_time.n_spikes >= MIN_00) & (concat_SCA_aggr_time.n_spikes <= MAX_00)],\n",
    "                hue='attack', s=80, palette=[\"#C59434\"], alpha=1, marker=\"o\") #, style='dataset'\n",
    "\n",
    "sns.scatterplot(x='n_spikes', y='neuron', data=concat_SCA_aggr_time[(concat_SCA_aggr_time.attack == \"SCA\") & (concat_SCA_aggr_time.n_spikes >= MIN_00) & (concat_SCA_aggr_time.n_spikes <= MAX_00)],\n",
    "                hue='attack', s=80, palette=[\"#092C48\"], alpha=1, marker=\"x\") #, style='dataset'\n",
    "\n",
    "plt.legend(loc='upper left')\n",
    "plt.show()"
   ]
  },
  {
   "cell_type": "code",
   "execution_count": null,
   "metadata": {},
   "outputs": [],
   "source": [
    "# (3,3)\n",
    "#sns.scatterplot(x='n_spikes', y='neuron', data=concat_SCA_aggr_time[(concat_SCA_aggr_time.n_spikes >= MIN_33) & (concat_SCA_aggr_time.n_spikes <= MAX_33)],\n",
    "#                hue='attack', s=80, palette=[\"#C59434\", \"#092c48\"], alpha=0.6) # style='dataset', markers=[\"o\", \"X\"]\n",
    "\n",
    "sns.scatterplot(x='n_spikes', y='neuron', data=concat_SCA_aggr_time[(concat_SCA_aggr_time.attack == \"initial_state\") & (concat_SCA_aggr_time.n_spikes >= MIN_33) & (concat_SCA_aggr_time.n_spikes <= MAX_33)],\n",
    "                hue='attack', s=80, palette=[\"#C59434\"], alpha=1, marker=\"o\") #, style='dataset'\n",
    "\n",
    "sns.scatterplot(x='n_spikes', y='neuron', data=concat_SCA_aggr_time[(concat_SCA_aggr_time.attack == \"SCA\") & (concat_SCA_aggr_time.n_spikes >= MIN_33) & (concat_SCA_aggr_time.n_spikes <= MAX_33)],\n",
    "                hue='attack', s=80, palette=[\"#092C48\"], alpha=1, marker=\"x\") #, style='dataset'\n",
    "\n",
    "plt.legend(loc='upper left')\n",
    "plt.show()"
   ]
  },
  {
   "cell_type": "code",
   "execution_count": null,
   "metadata": {},
   "outputs": [],
   "source": [
    "# (5,5)\n",
    "#sns.scatterplot(x='n_spikes', y='neuron', data=concat_SCA_aggr_time[(concat_SCA_aggr_time.n_spikes >= MIN_55) & (concat_SCA_aggr_time.n_spikes <= MAX_55)],\n",
    "#                hue='attack', s=80, palette=[\"#C59434\", \"#092c48\"], alpha=0.6) # style='dataset', markers=[\"o\", \"X\"]\n",
    "\n",
    "sns.scatterplot(x='n_spikes', y='neuron', data=concat_SCA_aggr_time[(concat_SCA_aggr_time.attack == \"initial_state\") & (concat_SCA_aggr_time.n_spikes >= MIN_55) & (concat_SCA_aggr_time.n_spikes <= MAX_55)],\n",
    "                hue='attack', s=80, palette=[\"#C59434\"], alpha=1, marker=\"o\") #, style='dataset'\n",
    "\n",
    "sns.scatterplot(x='n_spikes', y='neuron', data=concat_SCA_aggr_time[(concat_SCA_aggr_time.attack == \"SCA\") & (concat_SCA_aggr_time.n_spikes >= MIN_55) & (concat_SCA_aggr_time.n_spikes <= MAX_55)],\n",
    "                hue='attack', s=80, palette=[\"#092C48\"], alpha=1, marker=\"x\") #, style='dataset'\n",
    "\n",
    "plt.legend(loc='upper left')\n",
    "plt.show()"
   ]
  },
  {
   "cell_type": "markdown",
   "metadata": {},
   "source": [
    "### Initial_state vs FOR"
   ]
  },
  {
   "cell_type": "markdown",
   "metadata": {},
   "source": [
    "#### Raster plot"
   ]
  },
  {
   "cell_type": "code",
   "execution_count": null,
   "metadata": {
    "scrolled": false
   },
   "outputs": [],
   "source": [
    "fig,ax = plt.subplots()\n",
    "ax = sns.scatterplot(x='time_delta', y='neuron', data=concat_FOR,\n",
    "                hue='attack', palette=[\"#C59434\", \"#092C48\"], alpha=0.6) #, style='dataset'\n",
    "\n",
    "#sns.scatterplot(x='time_delta', y='neuron', data=data_initial_state,\n",
    "#                hue='attack', palette=[\"#C59434\"], alpha=1, marker=\"o\") #, style='dataset'\n",
    "\n",
    "#sns.scatterplot(x='time_delta', y='neuron', data=data_FOR,\n",
    "#                hue='attack', palette=[\"#092C48\"], alpha=1, marker=\"x\") #, style='dataset'\n",
    "\n",
    "cont = 25\n",
    "for a in range(0, 28):\n",
    "    plt.axvline(x=cont*a, color=\"red\")\n",
    "\n",
    "ax.xaxis.set_major_locator(ticker.MultipleLocator(25))"
   ]
  },
  {
   "cell_type": "code",
   "execution_count": null,
   "metadata": {
    "scrolled": false
   },
   "outputs": [],
   "source": [
    "# (0,0)\n",
    "#sns.scatterplot(x='time_delta', y='neuron', data=concat_FOR[(concat_FOR.time_delta >= MIN_00) & (concat_FOR.time_delta <= MAX_00)],\n",
    "#                hue='attack', s=80, palette=[\"#C59434\", \"#092C48\"], alpha=0.6) #, style='dataset'\n",
    "\n",
    "\n",
    "sns.scatterplot(x='time_delta', y='neuron', data=data_initial_state[(data_initial_state.time_delta >= MIN_00) & (data_initial_state.time_delta <= MAX_00)],\n",
    "                hue='attack', s=80, palette=[\"#C59434\"], alpha=1, marker=\"o\") #, style='dataset'\n",
    "\n",
    "sns.scatterplot(x='time_delta', y='neuron', data=data_FOR[(data_FOR.time_delta >= MIN_00) & (data_FOR.time_delta <= MAX_00)],\n",
    "                hue='attack', s=80, palette=[\"#092C48\"], alpha=1, marker=\"x\") #, style='dataset'\n"
   ]
  },
  {
   "cell_type": "code",
   "execution_count": null,
   "metadata": {
    "scrolled": false
   },
   "outputs": [],
   "source": [
    "# (3,3)\n",
    "#sns.scatterplot(x='time_delta', y='neuron', data=concat_FOR[(concat_FOR.time_delta >= MIN_33) & (concat_FOR.time_delta <= MAX_33)],\n",
    "#                hue='attack', s=80, palette=[\"#C59434\", \"#092C48\"], alpha=0.5) #, style='dataset'\n",
    "\n",
    "sns.scatterplot(x='time_delta', y='neuron', data=data_initial_state[(data_initial_state.time_delta >= MIN_33) & (data_initial_state.time_delta <= MAX_33)],\n",
    "                hue='attack', s=80, palette=[\"#C59434\"], alpha=1, marker=\"o\") #, style='dataset'\n",
    "\n",
    "sns.scatterplot(x='time_delta', y='neuron', data=data_FOR[(data_FOR.time_delta >= MIN_33) & (data_FOR.time_delta <= MAX_33)],\n",
    "                hue='attack', s=80, palette=[\"#092C48\"], alpha=1, marker=\"x\") #, style='dataset'"
   ]
  },
  {
   "cell_type": "code",
   "execution_count": null,
   "metadata": {
    "scrolled": false
   },
   "outputs": [],
   "source": [
    "# (5,5)\n",
    "#sns.scatterplot(x='time_delta', y='neuron', data=concat_FOR[(concat_FOR.time_delta >= MIN_55) & (concat_FOR.time_delta <= MAX_55)],\n",
    "#                hue='attack', s=80, palette=[\"#C59434\", \"#092C48\"], alpha=0.5) #, style='dataset'\n",
    "\n",
    "sns.scatterplot(x='time_delta', y='neuron', data=data_initial_state[(data_initial_state.time_delta >= MIN_55) & (data_initial_state.time_delta <= MAX_55)],\n",
    "                hue='attack', s=80, palette=[\"#C59434\"], alpha=1, marker=\"o\") #, style='dataset'\n",
    "\n",
    "sns.scatterplot(x='time_delta', y='neuron', data=data_FOR[(data_FOR.time_delta >= MIN_55) & (data_FOR.time_delta <= MAX_55)],\n",
    "                hue='attack', s=80, palette=[\"#092C48\"], alpha=1, marker=\"x\") #, style='dataset'"
   ]
  },
  {
   "cell_type": "markdown",
   "metadata": {},
   "source": [
    "#### Neuron aggregation: Scatter plot"
   ]
  },
  {
   "cell_type": "code",
   "execution_count": null,
   "metadata": {},
   "outputs": [],
   "source": [
    "#sns.scatterplot(x='neuron', y='n_spikes', data=concat_FOR_aggr_neuron,\n",
    "#                hue='attack', s=80, palette=[\"#C59434\", \"#092c48\"], alpha=0.7) # style='dataset', markers=[\"o\", \"X\"]\n",
    "\n",
    "\n",
    "sns.scatterplot(x='neuron', y='n_spikes', data=concat_FOR_aggr_neuron[concat_FOR_aggr_neuron.attack == \"initial_state\"],\n",
    "                hue='attack', s=80, palette=[\"#C59434\"], alpha=1, marker=\"o\") #, style='dataset'\n",
    "\n",
    "sns.scatterplot(x='neuron', y='n_spikes', data=concat_FOR_aggr_neuron[concat_FOR_aggr_neuron.attack == \"FOR\"],\n",
    "                hue='attack', s=80, palette=[\"#092C48\"], alpha=1, marker=\"x\") #, style='dataset'\n",
    "\n",
    "plt.legend(loc='upper left')\n",
    "plt.show()"
   ]
  },
  {
   "cell_type": "markdown",
   "metadata": {},
   "source": [
    "#### Neuron aggregation: Barplot"
   ]
  },
  {
   "cell_type": "code",
   "execution_count": null,
   "metadata": {},
   "outputs": [],
   "source": [
    "#plt.xticks(rotation='vertical')\n",
    "#fig, ax = plt.subplots()\n",
    "#fig.set_size_inches(110,40)\n",
    "#ax.tick_params(axis='x', rotation=90)\n",
    "#sns.barplot(data=concat_FOR_aggr_neuron, x = \"neuron\", y =\"n_spikes\", palette=[\"#C59434\", \"#092c48\"], hue=\"attack\", alpha=0.5)"
   ]
  },
  {
   "cell_type": "markdown",
   "metadata": {},
   "source": [
    "#### Time instant aggregation: Scatter plot"
   ]
  },
  {
   "cell_type": "code",
   "execution_count": null,
   "metadata": {},
   "outputs": [],
   "source": [
    "sns.scatterplot(x='n_spikes', y='neuron', data=concat_FOR_aggr_time,\n",
    "                hue='attack', palette=[\"#C59434\", \"#092c48\"], alpha=0.5) # style='dataset', markers=[\"o\", \"X\"]\n",
    "\n",
    "plt.legend(loc='upper left')\n",
    "plt.show()"
   ]
  },
  {
   "cell_type": "code",
   "execution_count": null,
   "metadata": {},
   "outputs": [],
   "source": [
    "# (0,0)\n",
    "#sns.scatterplot(x='n_spikes', y='neuron', data=concat_FOR_aggr_time[(concat_FOR_aggr_time.n_spikes >= MIN_00) & (concat_FOR_aggr_time.n_spikes <= MAX_00)],\n",
    "#                hue='attack', s=80, palette=[\"#C59434\", \"#092c48\"], alpha=0.6) # style='dataset', markers=[\"o\", \"X\"]\n",
    "\n",
    "#plt.legend(loc='upper left')\n",
    "#plt.show()\n",
    "\n",
    "sns.scatterplot(x='n_spikes', y='neuron', data=concat_FOR_aggr_time[(concat_FOR_aggr_time.attack == \"initial_state\") & (concat_FOR_aggr_time.n_spikes >= MIN_00) & (concat_FOR_aggr_time.n_spikes <= MAX_00)],\n",
    "                hue='attack', s=80, palette=[\"#C59434\"], alpha=1, marker=\"o\") #, style='dataset'\n",
    "\n",
    "sns.scatterplot(x='n_spikes', y='neuron', data=concat_FOR_aggr_time[(concat_FOR_aggr_time.attack == \"FOR\") & (concat_FOR_aggr_time.n_spikes >= MIN_00) & (concat_FOR_aggr_time.n_spikes <= MAX_00)],\n",
    "                hue='attack', s=80, palette=[\"#092C48\"], alpha=1, marker=\"x\") #, style='dataset'\n",
    "\n",
    "plt.legend(loc='upper left')\n",
    "plt.show()"
   ]
  },
  {
   "cell_type": "code",
   "execution_count": null,
   "metadata": {},
   "outputs": [],
   "source": [
    "# (3,3)\n",
    "#sns.scatterplot(x='n_spikes', y='neuron', data=concat_FOR_aggr_time[(concat_FOR_aggr_time.n_spikes >= MIN_33) & (concat_FOR_aggr_time.n_spikes <= MAX_33)],\n",
    "#                hue='attack', s=80, palette=[\"#C59434\", \"#092c48\"], alpha=0.6) # style='dataset', markers=[\"o\", \"X\"]\n",
    "\n",
    "sns.scatterplot(x='n_spikes', y='neuron', data=concat_FOR_aggr_time[(concat_FOR_aggr_time.attack == \"initial_state\") & (concat_FOR_aggr_time.n_spikes >= MIN_33) & (concat_FOR_aggr_time.n_spikes <= MAX_33)],\n",
    "                hue='attack', s=80, palette=[\"#C59434\"], alpha=1, marker=\"o\") #, style='dataset'\n",
    "\n",
    "sns.scatterplot(x='n_spikes', y='neuron', data=concat_FOR_aggr_time[(concat_FOR_aggr_time.attack == \"FOR\") & (concat_FOR_aggr_time.n_spikes >= MIN_33) & (concat_FOR_aggr_time.n_spikes <= MAX_33)],\n",
    "                hue='attack', s=80, palette=[\"#092C48\"], alpha=1, marker=\"x\") #, style='dataset'\n",
    "\n",
    "plt.legend(loc='upper left')\n",
    "plt.show()"
   ]
  },
  {
   "cell_type": "code",
   "execution_count": null,
   "metadata": {},
   "outputs": [],
   "source": [
    "# (5,5)\n",
    "#sns.scatterplot(x='n_spikes', y='neuron', data=concat_FOR_aggr_time[(concat_FOR_aggr_time.n_spikes >= MIN_55) & (concat_FOR_aggr_time.n_spikes <= MAX_55)],\n",
    "#                hue='attack', s=80, palette=[\"#C59434\", \"#092c48\"], alpha=0.6) # style='dataset', markers=[\"o\", \"X\"]\n",
    "\n",
    "sns.scatterplot(x='n_spikes', y='neuron', data=concat_FOR_aggr_time[(concat_FOR_aggr_time.attack == \"initial_state\") & (concat_FOR_aggr_time.n_spikes >= MIN_55) & (concat_FOR_aggr_time.n_spikes <= MAX_55)],\n",
    "                hue='attack', s=80, palette=[\"#C59434\"], alpha=1, marker=\"o\") #, style='dataset'\n",
    "\n",
    "sns.scatterplot(x='n_spikes', y='neuron', data=concat_FOR_aggr_time[(concat_FOR_aggr_time.attack == \"FOR\") & (concat_FOR_aggr_time.n_spikes >= MIN_55) & (concat_FOR_aggr_time.n_spikes <= MAX_55)],\n",
    "                hue='attack', s=80, palette=[\"#092C48\"], alpha=1, marker=\"x\") #, style='dataset'\n",
    "\n",
    "plt.legend(loc='upper left')\n",
    "plt.show()"
   ]
  },
  {
   "cell_type": "markdown",
   "metadata": {},
   "source": [
    "### Initial_state vs FLO"
   ]
  },
  {
   "cell_type": "markdown",
   "metadata": {},
   "source": [
    "#### Attack at (0,0)"
   ]
  },
  {
   "cell_type": "markdown",
   "metadata": {},
   "source": [
    "#### Raster plot"
   ]
  },
  {
   "cell_type": "code",
   "execution_count": null,
   "metadata": {},
   "outputs": [],
   "source": [
    "fig,ax = plt.subplots()\n",
    "\n",
    "ax = sns.scatterplot(x='time_delta', y='neuron', data=concat_FLO_00,\n",
    "                hue='attack', palette=[\"#C59434\", \"#092c48\"], alpha=0.7) #, style='dataset'\n",
    "\n",
    "#sns.scatterplot(x='time_delta', y='neuron', data=data_initial_state,\n",
    "#                hue='attack', palette=[\"#C59434\"], alpha=1, marker=\"o\") #, style='dataset'\n",
    "\n",
    "#sns.scatterplot(x='time_delta', y='neuron', data=data_FLO_00,\n",
    "#                hue='attack', palette=[\"#092C48\"], alpha=1, marker=\"x\") #, style='dataset'\n",
    "\n",
    "cont = 25\n",
    "for a in range(0, 28):\n",
    "    plt.axvline(x=cont*a, color=\"red\")\n",
    "\n",
    "ax.xaxis.set_major_locator(ticker.MultipleLocator(25))"
   ]
  },
  {
   "cell_type": "code",
   "execution_count": null,
   "metadata": {
    "scrolled": false
   },
   "outputs": [],
   "source": [
    "# (0,0)\n",
    "#sns.scatterplot(x='time_delta', y='neuron', data=concat_FLO_00[(concat_FLO_00.time_delta >= MIN_00) & (concat_FLO_00.time_delta <= MAX_00)],\n",
    "#                hue='attack', palette=[\"#C59434\", \"#092C48\"], alpha=0.5) #, style='dataset'\n",
    "\n",
    "sns.scatterplot(x='time_delta', y='neuron', data=data_initial_state[(data_initial_state.time_delta >= MIN_00) & (data_initial_state.time_delta <= MAX_00)],\n",
    "                hue='attack', s=80, palette=[\"#C59434\"], alpha=1, marker=\"o\") #, style='dataset'\n",
    "\n",
    "sns.scatterplot(x='time_delta', y='neuron', data=data_FLO_00[(data_FLO_00.time_delta >= MIN_00) & (data_FLO_00.time_delta <= MAX_00)],\n",
    "                hue='attack', s=80, palette=[\"#092C48\"], alpha=1, marker=\"x\") #, style='dataset'"
   ]
  },
  {
   "cell_type": "code",
   "execution_count": null,
   "metadata": {},
   "outputs": [],
   "source": [
    "# (3,3)\n",
    "#sns.scatterplot(x='time_delta', y='neuron', data=concat_FLO_00[(concat_FLO_00.time_delta >= MIN_33) & (concat_FLO_00.time_delta <= MAX_33)],\n",
    "#                hue='attack', palette=[\"#C59434\", \"#092C48\"], alpha=0.5) #, style='dataset'\n",
    "\n",
    "sns.scatterplot(x='time_delta', y='neuron', data=data_initial_state[(data_initial_state.time_delta >= MIN_33) & (data_initial_state.time_delta <= MAX_33)],\n",
    "                hue='attack', s=80, palette=[\"#C59434\"], alpha=1, marker=\"o\") #, style='dataset'\n",
    "\n",
    "sns.scatterplot(x='time_delta', y='neuron', data=data_FLO_00[(data_FLO_00.time_delta >= MIN_33) & (data_FLO_00.time_delta <= MAX_33)],\n",
    "                hue='attack', s=80, palette=[\"#092C48\"], alpha=1, marker=\"x\") #, style='dataset'"
   ]
  },
  {
   "cell_type": "code",
   "execution_count": null,
   "metadata": {},
   "outputs": [],
   "source": [
    "# (5,5)\n",
    "#sns.scatterplot(x='time_delta', y='neuron', data=concat_FLO_00[(concat_FLO_00.time_delta >= MIN_55) & (concat_FLO_00.time_delta <= MAX_55)],\n",
    "#                hue='attack', palette=[\"#C59434\", \"#092C48\"], alpha=0.5) #, style='dataset'\n",
    "\n",
    "sns.scatterplot(x='time_delta', y='neuron', data=data_initial_state[(data_initial_state.time_delta >= MIN_55) & (data_initial_state.time_delta <= MAX_55)],\n",
    "                hue='attack', s=80, palette=[\"#C59434\"], alpha=1, marker=\"o\") #, style='dataset'\n",
    "\n",
    "sns.scatterplot(x='time_delta', y='neuron', data=data_FLO_00[(data_FLO_00.time_delta >= MIN_55) & (data_FLO_00.time_delta <= MAX_55)],\n",
    "                hue='attack', s=80, palette=[\"#092C48\"], alpha=1, marker=\"x\") #, style='dataset'"
   ]
  },
  {
   "cell_type": "markdown",
   "metadata": {},
   "source": [
    "#### Neuron aggregation: Scatter plot"
   ]
  },
  {
   "cell_type": "code",
   "execution_count": null,
   "metadata": {},
   "outputs": [],
   "source": [
    "#sns.scatterplot(x='neuron', y='n_spikes', data=concat_FLO_aggr_neuron_00,\n",
    "#                hue='attack', s=80, palette=[\"#C59434\", \"#092c48\"], alpha=0.6) # style='dataset', markers=[\"o\", \"X\"]\n",
    "\n",
    "sns.scatterplot(x='neuron', y='n_spikes', data=concat_FLO_aggr_neuron_00[concat_FLO_aggr_neuron_00.attack == \"initial_state\"],\n",
    "                hue='attack', s=80, palette=[\"#C59434\"], alpha=1, marker=\"o\") #, style='dataset'\n",
    "\n",
    "sns.scatterplot(x='neuron', y='n_spikes', data=concat_FLO_aggr_neuron_00[concat_FLO_aggr_neuron_00.attack == \"FLO\"],\n",
    "                hue='attack', s=80, palette=[\"#092C48\"], alpha=1, marker=\"x\") #, style='dataset'\n",
    "\n",
    "plt.legend(loc='upper left')\n",
    "plt.show()"
   ]
  },
  {
   "cell_type": "markdown",
   "metadata": {},
   "source": [
    "#### Time instant aggregation: Scatter plot"
   ]
  },
  {
   "cell_type": "code",
   "execution_count": null,
   "metadata": {},
   "outputs": [],
   "source": [
    "# (0,0)\n",
    "#sns.scatterplot(x='n_spikes', y='neuron', data=concat_FLO_aggr_time_00[(concat_FLO_aggr_time_00.n_spikes >= MIN_00) & (concat_FLO_aggr_time_00.n_spikes <= MAX_00)],\n",
    "#                hue='attack', s=80, palette=[\"#C59434\", \"#092c48\"], alpha=0.8) # style='dataset', markers=[\"o\", \"X\"]\n",
    "\n",
    "sns.scatterplot(x='n_spikes', y='neuron', data=concat_FLO_aggr_time_00[(concat_FLO_aggr_time_00.attack == \"initial_state\") & (concat_FLO_aggr_time_00.n_spikes >= MIN_00) & (concat_FLO_aggr_time_00.n_spikes <= MAX_00)],\n",
    "                hue='attack', s=80, palette=[\"#C59434\"], alpha=1, marker=\"o\") #, style='dataset'\n",
    "\n",
    "sns.scatterplot(x='n_spikes', y='neuron', data=concat_FLO_aggr_time_00[(concat_FLO_aggr_time_00.attack == \"FLO\") & (concat_FLO_aggr_time_00.n_spikes >= MIN_00) & (concat_FLO_aggr_time_00.n_spikes <= MAX_00)],\n",
    "                hue='attack', s=80, palette=[\"#092C48\"], alpha=1, marker=\"x\") #, style='dataset'\n",
    "\n",
    "plt.legend(loc='upper left')\n",
    "plt.show()"
   ]
  },
  {
   "cell_type": "code",
   "execution_count": null,
   "metadata": {},
   "outputs": [],
   "source": [
    "# (3,3)\n",
    "#sns.scatterplot(x='n_spikes', y='neuron', data=concat_FLO_aggr_time_00[(concat_FLO_aggr_time_00.n_spikes >= MIN_33) & (concat_FLO_aggr_time_00.n_spikes <= MAX_33)],\n",
    "#                hue='attack', s=80, palette=[\"#C59434\", \"#092c48\"], alpha=0.8) # style='dataset', markers=[\"o\", \"X\"]\n",
    "\n",
    "sns.scatterplot(x='n_spikes', y='neuron', data=concat_FLO_aggr_time_00[(concat_FLO_aggr_time_00.attack == \"initial_state\") & (concat_FLO_aggr_time_00.n_spikes >= MIN_33) & (concat_FLO_aggr_time_00.n_spikes <= MAX_33)],\n",
    "                hue='attack', s=80, palette=[\"#C59434\"], alpha=1, marker=\"o\") #, style='dataset'\n",
    "\n",
    "sns.scatterplot(x='n_spikes', y='neuron', data=concat_FLO_aggr_time_00[(concat_FLO_aggr_time_00.attack == \"FLO\") & (concat_FLO_aggr_time_00.n_spikes >= MIN_33) & (concat_FLO_aggr_time_00.n_spikes <= MAX_33)],\n",
    "                hue='attack', s=80, palette=[\"#092C48\"], alpha=1, marker=\"x\") #, style='dataset'\n",
    "\n",
    "plt.legend(loc='upper left')\n",
    "plt.show()"
   ]
  },
  {
   "cell_type": "code",
   "execution_count": null,
   "metadata": {},
   "outputs": [],
   "source": [
    "# (5,5)\n",
    "#sns.scatterplot(x='n_spikes', y='neuron', data=concat_FLO_aggr_time_00[(concat_FLO_aggr_time_00.n_spikes >= MIN_55) & (concat_FLO_aggr_time_00.n_spikes <= MAX_55)],\n",
    "#                hue='attack', s=80, palette=[\"#C59434\", \"#092c48\"], alpha=0.8) # style='dataset', markers=[\"o\", \"X\"]\n",
    "\n",
    "sns.scatterplot(x='n_spikes', y='neuron', data=concat_FLO_aggr_time_00[(concat_FLO_aggr_time_00.attack == \"initial_state\") & (concat_FLO_aggr_time_00.n_spikes >= MIN_55) & (concat_FLO_aggr_time_00.n_spikes <= MAX_55)],\n",
    "                hue='attack', s=80, palette=[\"#C59434\"], alpha=1, marker=\"o\") #, style='dataset'\n",
    "\n",
    "sns.scatterplot(x='n_spikes', y='neuron', data=concat_FLO_aggr_time_00[(concat_FLO_aggr_time_00.attack == \"FLO\") & (concat_FLO_aggr_time_00.n_spikes >= MIN_55) & (concat_FLO_aggr_time_00.n_spikes <= MAX_55)],\n",
    "                hue='attack', s=80, palette=[\"#092C48\"], alpha=1, marker=\"x\") #, style='dataset'\n",
    "\n",
    "plt.legend(loc='upper left')\n",
    "plt.show()"
   ]
  },
  {
   "cell_type": "markdown",
   "metadata": {},
   "source": [
    "#### Attack at (3,3)"
   ]
  },
  {
   "cell_type": "markdown",
   "metadata": {},
   "source": [
    "#### Raster plot"
   ]
  },
  {
   "cell_type": "code",
   "execution_count": null,
   "metadata": {},
   "outputs": [],
   "source": [
    "fig,ax = plt.subplots()\n",
    "\n",
    "ax = sns.scatterplot(x='time_delta', y='neuron', data=concat_FLO_33,\n",
    "                hue='attack', palette=[\"#C59434\", \"#092c48\"], alpha=0.7) #, style='dataset'\n",
    "\n",
    "#sns.scatterplot(x='time_delta', y='neuron', data=data_initial_state,\n",
    "#                hue='attack', palette=[\"#C59434\"], alpha=1, marker=\"o\") #, style='dataset'\n",
    "\n",
    "#sns.scatterplot(x='time_delta', y='neuron', data=data_FLO_33,\n",
    "#                hue='attack', palette=[\"#092C48\"], alpha=1, marker=\"x\") #, style='dataset'\n",
    "\n",
    "cont = 25\n",
    "for a in range(0, 28):\n",
    "    plt.axvline(x=cont*a, color=\"red\")\n",
    "\n",
    "ax.xaxis.set_major_locator(ticker.MultipleLocator(25))"
   ]
  },
  {
   "cell_type": "code",
   "execution_count": null,
   "metadata": {
    "scrolled": false
   },
   "outputs": [],
   "source": [
    "# (0,0)\n",
    "#sns.scatterplot(x='time_delta', y='neuron', data=concat_FLO_00[(concat_FLO_00.time_delta >= MIN_00) & (concat_FLO_00.time_delta <= MAX_00)],\n",
    "#                hue='attack', palette=[\"#C59434\", \"#092C48\"], alpha=0.5) #, style='dataset'\n",
    "\n",
    "sns.scatterplot(x='time_delta', y='neuron', data=data_initial_state[(data_initial_state.time_delta >= MIN_00) & (data_initial_state.time_delta <= MAX_00)],\n",
    "                hue='attack', s=80, palette=[\"#C59434\"], alpha=1, marker=\"o\") #, style='dataset'\n",
    "\n",
    "sns.scatterplot(x='time_delta', y='neuron', data=data_FLO_33[(data_FLO_33.time_delta >= MIN_00) & (data_FLO_33.time_delta <= MAX_00)],\n",
    "                hue='attack', s=80, palette=[\"#092C48\"], alpha=1, marker=\"x\") #, style='dataset'"
   ]
  },
  {
   "cell_type": "code",
   "execution_count": null,
   "metadata": {},
   "outputs": [],
   "source": [
    "# (3,3)\n",
    "#sns.scatterplot(x='time_delta', y='neuron', data=concat_FLO_33[(concat_FLO_33.time_delta >= MIN_33) & (concat_FLO_33.time_delta <= MAX_33)],\n",
    "#                hue='attack', palette=[\"#C59434\", \"#092C48\"], alpha=0.5) #, style='dataset'\n",
    "\n",
    "sns.scatterplot(x='time_delta', y='neuron', data=data_initial_state[(data_initial_state.time_delta >= MIN_33) & (data_initial_state.time_delta <= MAX_33)],\n",
    "                hue='attack', s=80, palette=[\"#C59434\"], alpha=1, marker=\"o\") #, style='dataset'\n",
    "\n",
    "sns.scatterplot(x='time_delta', y='neuron', data=data_FLO_33[(data_FLO_33.time_delta >= MIN_33) & (data_FLO_33.time_delta <= MAX_33)],\n",
    "                hue='attack', s=80, palette=[\"#092C48\"], alpha=1, marker=\"x\") #, style='dataset'"
   ]
  },
  {
   "cell_type": "code",
   "execution_count": null,
   "metadata": {},
   "outputs": [],
   "source": [
    "# (5,5)\n",
    "#sns.scatterplot(x='time_delta', y='neuron', data=concat_FLO_33[(concat_FLO_33.time_delta >= MIN_55) & (concat_FLO_33.time_delta <= MAX_55)],\n",
    "#                hue='attack', palette=[\"#C59434\", \"#092C48\"], alpha=0.5) #, style='dataset'\n",
    "\n",
    "sns.scatterplot(x='time_delta', y='neuron', data=data_initial_state[(data_initial_state.time_delta >= MIN_55) & (data_initial_state.time_delta <= MAX_55)],\n",
    "                hue='attack', s=80, palette=[\"#C59434\"], alpha=1, marker=\"o\") #, style='dataset'\n",
    "\n",
    "sns.scatterplot(x='time_delta', y='neuron', data=data_FLO_33[(data_FLO_33.time_delta >= MIN_55) & (data_FLO_33.time_delta <= MAX_55)],\n",
    "                hue='attack', s=80, palette=[\"#092C48\"], alpha=1, marker=\"x\") #, style='dataset'"
   ]
  },
  {
   "cell_type": "markdown",
   "metadata": {},
   "source": [
    "#### Neuron aggregation: Scatter plot"
   ]
  },
  {
   "cell_type": "code",
   "execution_count": null,
   "metadata": {},
   "outputs": [],
   "source": [
    "#sns.scatterplot(x='neuron', y='n_spikes', data=concat_FLO_aggr_neuron_33,\n",
    "#                hue='attack', s=80, palette=[\"#C59434\", \"#092c48\"], alpha=0.6) # style='dataset', markers=[\"o\", \"X\"]\n",
    "\n",
    "sns.scatterplot(x='neuron', y='n_spikes', data=concat_FLO_aggr_neuron_33[concat_FLO_aggr_neuron_33.attack == \"initial_state\"],\n",
    "                hue='attack', s=80, palette=[\"#C59434\"], alpha=1, marker=\"o\") #, style='dataset'\n",
    "\n",
    "sns.scatterplot(x='neuron', y='n_spikes', data=concat_FLO_aggr_neuron_33[concat_FLO_aggr_neuron_33.attack == \"FLO\"],\n",
    "                hue='attack', s=80, palette=[\"#092C48\"], alpha=1, marker=\"x\") #, style='dataset'\n",
    "\n",
    "plt.legend(loc='upper left')\n",
    "plt.show()"
   ]
  },
  {
   "cell_type": "markdown",
   "metadata": {},
   "source": [
    "#### Time instant aggregation: Scatter plot"
   ]
  },
  {
   "cell_type": "code",
   "execution_count": null,
   "metadata": {},
   "outputs": [],
   "source": [
    "# (0,0)\n",
    "#sns.scatterplot(x='n_spikes', y='neuron', data=concat_FLO_aggr_time_00[(concat_FLO_aggr_time_00.n_spikes >= MIN_00) & (concat_FLO_aggr_time_00.n_spikes <= MAX_00)],\n",
    "#                hue='attack', s=80, palette=[\"#C59434\", \"#092c48\"], alpha=0.8) # style='dataset', markers=[\"o\", \"X\"]\n",
    "\n",
    "sns.scatterplot(x='n_spikes', y='neuron', data=concat_FLO_aggr_time_33[(concat_FLO_aggr_time_33.attack == \"initial_state\") & (concat_FLO_aggr_time_33.n_spikes >= MIN_00) & (concat_FLO_aggr_time_33.n_spikes <= MAX_00)],\n",
    "                hue='attack', s=80, palette=[\"#C59434\"], alpha=1, marker=\"o\") #, style='dataset'\n",
    "\n",
    "sns.scatterplot(x='n_spikes', y='neuron', data=concat_FLO_aggr_time_33[(concat_FLO_aggr_time_33.attack == \"FLO\") & (concat_FLO_aggr_time_33.n_spikes >= MIN_00) & (concat_FLO_aggr_time_33.n_spikes <= MAX_00)],\n",
    "                hue='attack', s=80, palette=[\"#092C48\"], alpha=1, marker=\"x\") #, style='dataset'\n",
    "\n",
    "plt.legend(loc='upper left')\n",
    "plt.show()"
   ]
  },
  {
   "cell_type": "code",
   "execution_count": null,
   "metadata": {},
   "outputs": [],
   "source": [
    "# (3,3)\n",
    "#sns.scatterplot(x='n_spikes', y='neuron', data=concat_FLO_aggr_time_33[(concat_FLO_aggr_time_33.n_spikes >= MIN_33) & (concat_FLO_aggr_time_33.n_spikes <= MAX_33)],\n",
    "#                hue='attack', s=80, palette=[\"#C59434\", \"#092c48\"], alpha=0.8) # style='dataset', markers=[\"o\", \"X\"]\n",
    "\n",
    "sns.scatterplot(x='n_spikes', y='neuron', data=concat_FLO_aggr_time_33[(concat_FLO_aggr_time_33.attack == \"initial_state\") & (concat_FLO_aggr_time_33.n_spikes >= MIN_33) & (concat_FLO_aggr_time_33.n_spikes <= MAX_33)],\n",
    "                hue='attack', s=80, palette=[\"#C59434\"], alpha=1, marker=\"o\") #, style='dataset'\n",
    "\n",
    "sns.scatterplot(x='n_spikes', y='neuron', data=concat_FLO_aggr_time_33[(concat_FLO_aggr_time_33.attack == \"FLO\") & (concat_FLO_aggr_time_33.n_spikes >= MIN_33) & (concat_FLO_aggr_time_33.n_spikes <= MAX_33)],\n",
    "                hue='attack', s=80, palette=[\"#092C48\"], alpha=1, marker=\"x\") #, style='dataset'\n",
    "\n",
    "plt.legend(loc='upper left')\n",
    "plt.show()"
   ]
  },
  {
   "cell_type": "code",
   "execution_count": null,
   "metadata": {},
   "outputs": [],
   "source": [
    "# (5,5)\n",
    "#sns.scatterplot(x='n_spikes', y='neuron', data=concat_FLO_aggr_time_33[(concat_FLO_aggr_time_33.n_spikes >= MIN_55) & (concat_FLO_aggr_time_33.n_spikes <= MAX_55)],\n",
    "#                hue='attack', s=80, palette=[\"#C59434\", \"#092c48\"], alpha=0.8) # style='dataset', markers=[\"o\", \"X\"]\n",
    "\n",
    "sns.scatterplot(x='n_spikes', y='neuron', data=concat_FLO_aggr_time_33[(concat_FLO_aggr_time_33.attack == \"initial_state\") & (concat_FLO_aggr_time_33.n_spikes >= MIN_55) & (concat_FLO_aggr_time_33.n_spikes <= MAX_55)],\n",
    "                hue='attack', s=80, palette=[\"#C59434\"], alpha=1, marker=\"o\") #, style='dataset'\n",
    "\n",
    "sns.scatterplot(x='n_spikes', y='neuron', data=concat_FLO_aggr_time_33[(concat_FLO_aggr_time_33.attack == \"FLO\") & (concat_FLO_aggr_time_33.n_spikes >= MIN_55) & (concat_FLO_aggr_time_33.n_spikes <= MAX_55)],\n",
    "                hue='attack', s=80, palette=[\"#092C48\"], alpha=1, marker=\"x\") #, style='dataset'\n",
    "\n",
    "plt.legend(loc='upper left')\n",
    "plt.show()"
   ]
  },
  {
   "cell_type": "markdown",
   "metadata": {},
   "source": [
    "#### Attack at (5,5)"
   ]
  },
  {
   "cell_type": "markdown",
   "metadata": {},
   "source": [
    "#### Raster plot"
   ]
  },
  {
   "cell_type": "code",
   "execution_count": null,
   "metadata": {},
   "outputs": [],
   "source": [
    "fig,ax = plt.subplots()\n",
    "\n",
    "ax = sns.scatterplot(x='time_delta', y='neuron', data=concat_FLO_55,\n",
    "                hue='attack', palette=[\"#C59434\", \"#092c48\"], alpha=0.7) #, style='dataset'\n",
    "\n",
    "#sns.scatterplot(x='time_delta', y='neuron', data=data_initial_state,\n",
    "#                hue='attack', palette=[\"#C59434\"], alpha=1, marker=\"o\") #, style='dataset'\n",
    "\n",
    "#sns.scatterplot(x='time_delta', y='neuron', data=data_FLO_55,\n",
    "#                hue='attack', palette=[\"#092C48\"], alpha=1, marker=\"x\") #, style='dataset'\n",
    "\n",
    "cont = 25\n",
    "for a in range(0, 28):\n",
    "    plt.axvline(x=cont*a, color=\"red\")\n",
    "\n",
    "ax.xaxis.set_major_locator(ticker.MultipleLocator(25))"
   ]
  },
  {
   "cell_type": "code",
   "execution_count": null,
   "metadata": {
    "scrolled": false
   },
   "outputs": [],
   "source": [
    "# (0,0)\n",
    "#sns.scatterplot(x='time_delta', y='neuron', data=concat_FLO_55[(concat_FLO_55.time_delta >= MIN_00) & (concat_FLO_55.time_delta <= MAX_00)],\n",
    "#                hue='attack', palette=[\"#C59434\", \"#092C48\"], alpha=0.5) #, style='dataset'\n",
    "\n",
    "sns.scatterplot(x='time_delta', y='neuron', data=data_initial_state[(data_initial_state.time_delta >= MIN_00) & (data_initial_state.time_delta <= MAX_00)],\n",
    "                hue='attack', s=80, palette=[\"#C59434\"], alpha=1, marker=\"o\") #, style='dataset'\n",
    "\n",
    "sns.scatterplot(x='time_delta', y='neuron', data=data_FLO_55[(data_FLO_55.time_delta >= MIN_00) & (data_FLO_55.time_delta <= MAX_00)],\n",
    "                hue='attack', s=80, palette=[\"#092C48\"], alpha=1, marker=\"x\") #, style='dataset'"
   ]
  },
  {
   "cell_type": "code",
   "execution_count": null,
   "metadata": {},
   "outputs": [],
   "source": [
    "# (3,3)\n",
    "#sns.scatterplot(x='time_delta', y='neuron', data=concat_FLO_55[(concat_FLO_55.time_delta >= MIN_33) & (concat_FLO_55.time_delta <= MAX_33)],\n",
    "#                hue='attack', palette=[\"#C59434\", \"#092C48\"], alpha=0.5) #, style='dataset'\n",
    "\n",
    "sns.scatterplot(x='time_delta', y='neuron', data=data_initial_state[(data_initial_state.time_delta >= MIN_33) & (data_initial_state.time_delta <= MAX_33)],\n",
    "                hue='attack', s=80, palette=[\"#C59434\"], alpha=1, marker=\"o\") #, style='dataset'\n",
    "\n",
    "sns.scatterplot(x='time_delta', y='neuron', data=data_FLO_55[(data_FLO_55.time_delta >= MIN_33) & (data_FLO_55.time_delta <= MAX_33)],\n",
    "                hue='attack', s=80, palette=[\"#092C48\"], alpha=1, marker=\"x\") #, style='dataset'"
   ]
  },
  {
   "cell_type": "code",
   "execution_count": null,
   "metadata": {},
   "outputs": [],
   "source": [
    "# (5,5)\n",
    "#sns.scatterplot(x='time_delta', y='neuron', data=concat_FLO_55[(concat_FLO_55.time_delta >= MIN_55) & (concat_FLO_55.time_delta <= MAX_55)],\n",
    "#                hue='attack', palette=[\"#C59434\", \"#092C48\"], alpha=0.5) #, style='dataset'\n",
    "\n",
    "sns.scatterplot(x='time_delta', y='neuron', data=data_initial_state[(data_initial_state.time_delta >= MIN_55) & (data_initial_state.time_delta <= MAX_55)],\n",
    "                hue='attack', s=80, palette=[\"#C59434\"], alpha=1, marker=\"o\") #, style='dataset'\n",
    "\n",
    "sns.scatterplot(x='time_delta', y='neuron', data=data_FLO_55[(data_FLO_55.time_delta >= MIN_55) & (data_FLO_55.time_delta <= MAX_55)],\n",
    "                hue='attack', s=80, palette=[\"#092C48\"], alpha=1, marker=\"x\") #, style='dataset'"
   ]
  },
  {
   "cell_type": "markdown",
   "metadata": {},
   "source": [
    "#### Neuron aggregation: Scatter plot"
   ]
  },
  {
   "cell_type": "code",
   "execution_count": null,
   "metadata": {},
   "outputs": [],
   "source": [
    "#sns.scatterplot(x='neuron', y='n_spikes', data=concat_FLO_aggr_neuron_55,\n",
    "#                hue='attack', s=80, palette=[\"#C59434\", \"#092c48\"], alpha=0.6) # style='dataset', markers=[\"o\", \"X\"]\n",
    "\n",
    "sns.scatterplot(x='neuron', y='n_spikes', data=concat_FLO_aggr_neuron_55[concat_FLO_aggr_neuron_55.attack == \"initial_state\"],\n",
    "                hue='attack', s=80, palette=[\"#C59434\"], alpha=1, marker=\"o\") #, style='dataset'\n",
    "\n",
    "sns.scatterplot(x='neuron', y='n_spikes', data=concat_FLO_aggr_neuron_55[concat_FLO_aggr_neuron_55.attack == \"FLO\"],\n",
    "                hue='attack', s=80, palette=[\"#092C48\"], alpha=1, marker=\"x\") #, style='dataset'\n",
    "\n",
    "plt.legend(loc='upper left')\n",
    "plt.show()"
   ]
  },
  {
   "cell_type": "markdown",
   "metadata": {},
   "source": [
    "#### Time instant aggregation: Scatter plot"
   ]
  },
  {
   "cell_type": "code",
   "execution_count": null,
   "metadata": {},
   "outputs": [],
   "source": [
    "# (0,0)\n",
    "#sns.scatterplot(x='n_spikes', y='neuron', data=concat_FLO_aggr_time_55[(concat_FLO_aggr_time_55.n_spikes >= MIN_00) & (concat_FLO_aggr_time_55.n_spikes <= MAX_00)],\n",
    "#                hue='attack', s=80, palette=[\"#C59434\", \"#092c48\"], alpha=0.8) # style='dataset', markers=[\"o\", \"X\"]\n",
    "\n",
    "sns.scatterplot(x='n_spikes', y='neuron', data=concat_FLO_aggr_time_55[(concat_FLO_aggr_time_55.attack == \"initial_state\") & (concat_FLO_aggr_time_55.n_spikes >= MIN_00) & (concat_FLO_aggr_time_55.n_spikes <= MAX_00)],\n",
    "                hue='attack', s=80, palette=[\"#C59434\"], alpha=1, marker=\"o\") #, style='dataset'\n",
    "\n",
    "sns.scatterplot(x='n_spikes', y='neuron', data=concat_FLO_aggr_time_00[(concat_FLO_aggr_time_55.attack == \"FLO\") & (concat_FLO_aggr_time_55.n_spikes >= MIN_00) & (concat_FLO_aggr_time_55.n_spikes <= MAX_00)],\n",
    "                hue='attack', s=80, palette=[\"#092C48\"], alpha=1, marker=\"x\") #, style='dataset'\n",
    "\n",
    "plt.legend(loc='upper left')\n",
    "plt.show()"
   ]
  },
  {
   "cell_type": "code",
   "execution_count": null,
   "metadata": {},
   "outputs": [],
   "source": [
    "# (3,3)\n",
    "#sns.scatterplot(x='n_spikes', y='neuron', data=concat_FLO_aggr_time_55[(concat_FLO_aggr_time_55.n_spikes >= MIN_33) & (concat_FLO_aggr_time_55.n_spikes <= MAX_33)],\n",
    "#                hue='attack', s=80, palette=[\"#C59434\", \"#092c48\"], alpha=0.8) # style='dataset', markers=[\"o\", \"X\"]\n",
    "\n",
    "sns.scatterplot(x='n_spikes', y='neuron', data=concat_FLO_aggr_time_55[(concat_FLO_aggr_time_55.attack == \"initial_state\") & (concat_FLO_aggr_time_55.n_spikes >= MIN_33) & (concat_FLO_aggr_time_55.n_spikes <= MAX_33)],\n",
    "                hue='attack', s=80, palette=[\"#C59434\"], alpha=1, marker=\"o\") #, style='dataset'\n",
    "\n",
    "sns.scatterplot(x='n_spikes', y='neuron', data=concat_FLO_aggr_time_55[(concat_FLO_aggr_time_55.attack == \"FLO\") & (concat_FLO_aggr_time_55.n_spikes >= MIN_33) & (concat_FLO_aggr_time_55.n_spikes <= MAX_33)],\n",
    "                hue='attack', s=80, palette=[\"#092C48\"], alpha=1, marker=\"x\") #, style='dataset'\n",
    "\n",
    "plt.legend(loc='upper left')\n",
    "plt.show()"
   ]
  },
  {
   "cell_type": "code",
   "execution_count": null,
   "metadata": {
    "scrolled": false
   },
   "outputs": [],
   "source": [
    "# (5,5)\n",
    "#sns.scatterplot(x='n_spikes', y='neuron', data=concat_FLO_aggr_time_55[(concat_FLO_aggr_time_55.n_spikes >= MIN_55) & (concat_FLO_aggr_time_55.n_spikes <= MAX_55)],\n",
    "#                hue='attack', s=80, palette=[\"#C59434\", \"#092c48\"], alpha=0.8) # style='dataset', markers=[\"o\", \"X\"]\n",
    "\n",
    "sns.scatterplot(x='n_spikes', y='neuron', data=concat_FLO_aggr_time_55[(concat_FLO_aggr_time_55.attack == \"initial_state\") & (concat_FLO_aggr_time_55.n_spikes >= MIN_55) & (concat_FLO_aggr_time_55.n_spikes <= MAX_55)],\n",
    "                hue='attack', s=80, palette=[\"#C59434\"], alpha=1, marker=\"o\") #, style='dataset'\n",
    "\n",
    "sns.scatterplot(x='n_spikes', y='neuron', data=concat_FLO_aggr_time_55[(concat_FLO_aggr_time_55.attack == \"FLO\") & (concat_FLO_aggr_time_55.n_spikes >= MIN_55) & (concat_FLO_aggr_time_55.n_spikes <= MAX_55)],\n",
    "                hue='attack', s=80, palette=[\"#092C48\"], alpha=1, marker=\"x\") #, style='dataset'\n",
    "\n",
    "plt.legend(loc='upper left')\n",
    "plt.show()"
   ]
  },
  {
   "cell_type": "markdown",
   "metadata": {},
   "source": [
    "### Initial_state vs JAM"
   ]
  },
  {
   "cell_type": "markdown",
   "metadata": {},
   "source": [
    "#### Attack at (0,0)"
   ]
  },
  {
   "cell_type": "markdown",
   "metadata": {},
   "source": [
    "#### Raster plot"
   ]
  },
  {
   "cell_type": "code",
   "execution_count": null,
   "metadata": {},
   "outputs": [],
   "source": [
    "fig,ax = plt.subplots()\n",
    "\n",
    "ax = sns.scatterplot(x='time_delta', y='neuron', data=concat_JAM_00,\n",
    "                hue='attack', palette=[\"#C59434\", \"#092c48\"], alpha=0.7) #, style='dataset'\n",
    "\n",
    "#sns.scatterplot(x='time_delta', y='neuron', data=data_initial_state,\n",
    "#                hue='attack', palette=[\"#C59434\"], alpha=1, marker=\"o\") #, style='dataset'\n",
    "\n",
    "#sns.scatterplot(x='time_delta', y='neuron', data=data_JAM_00,\n",
    "#                hue='attack', palette=[\"#092C48\"], alpha=1, marker=\"x\") #, style='dataset'\n",
    "\n",
    "cont = 25\n",
    "for a in range(0, 28):\n",
    "    plt.axvline(x=cont*a, color=\"red\")\n",
    "\n",
    "ax.xaxis.set_major_locator(ticker.MultipleLocator(25))"
   ]
  },
  {
   "cell_type": "code",
   "execution_count": null,
   "metadata": {
    "scrolled": false
   },
   "outputs": [],
   "source": [
    "# (0,0)\n",
    "#sns.scatterplot(x='time_delta', y='neuron', data=concat_JAM_00[(concat_JAM_00.time_delta >= MIN_00) & (concat_JAM_00.time_delta <= MAX_00)],\n",
    "#                hue='attack', palette=[\"#C59434\", \"#092C48\"], alpha=0.5) #, style='dataset'\n",
    "\n",
    "sns.scatterplot(x='time_delta', y='neuron', data=data_initial_state[(data_initial_state.time_delta >= MIN_00) & (data_initial_state.time_delta <= MAX_00)],\n",
    "                hue='attack', s=80, palette=[\"#C59434\"], alpha=1, marker=\"o\") #, style='dataset'\n",
    "\n",
    "sns.scatterplot(x='time_delta', y='neuron', data=data_JAM_00[(data_JAM_00.time_delta >= MIN_00) & (data_JAM_00.time_delta <= MAX_00)],\n",
    "                hue='attack', s=80, palette=[\"#092C48\"], alpha=1, marker=\"x\") #, style='dataset'"
   ]
  },
  {
   "cell_type": "code",
   "execution_count": null,
   "metadata": {},
   "outputs": [],
   "source": [
    "# (3,3)\n",
    "#sns.scatterplot(x='time_delta', y='neuron', data=concat_JAM_00[(concat_JAM_00.time_delta >= MIN_33) & (concat_JAM_00.time_delta <= MAX_33)],\n",
    "#                hue='attack', palette=[\"#C59434\", \"#092C48\"], alpha=0.5) #, style='dataset'\n",
    "\n",
    "sns.scatterplot(x='time_delta', y='neuron', data=data_initial_state[(data_initial_state.time_delta >= MIN_33) & (data_initial_state.time_delta <= MAX_33)],\n",
    "                hue='attack', s=80, palette=[\"#C59434\"], alpha=1, marker=\"o\") #, style='dataset'\n",
    "\n",
    "sns.scatterplot(x='time_delta', y='neuron', data=data_JAM_00[(data_JAM_00.time_delta >= MIN_33) & (data_JAM_00.time_delta <= MAX_33)],\n",
    "                hue='attack', s=80, palette=[\"#092C48\"], alpha=1, marker=\"x\") #, style='dataset'"
   ]
  },
  {
   "cell_type": "code",
   "execution_count": null,
   "metadata": {},
   "outputs": [],
   "source": [
    "# (5,5)\n",
    "#sns.scatterplot(x='time_delta', y='neuron', data=concat_JAM_00[(concat_JAM_00.time_delta >= MIN_55) & (concat_JAM_00.time_delta <= MAX_55)],\n",
    "#                hue='attack', palette=[\"#C59434\", \"#092C48\"], alpha=0.5) #, style='dataset'\n",
    "\n",
    "sns.scatterplot(x='time_delta', y='neuron', data=data_initial_state[(data_initial_state.time_delta >= MIN_55) & (data_initial_state.time_delta <= MAX_55)],\n",
    "                hue='attack', s=80, palette=[\"#C59434\"], alpha=1, marker=\"o\") #, style='dataset'\n",
    "\n",
    "sns.scatterplot(x='time_delta', y='neuron', data=data_JAM_00[(data_JAM_00.time_delta >= MIN_55) & (data_JAM_00.time_delta <= MAX_55)],\n",
    "                hue='attack', s=80, palette=[\"#092C48\"], alpha=1, marker=\"x\") #, style='dataset'"
   ]
  },
  {
   "cell_type": "markdown",
   "metadata": {},
   "source": [
    "#### Neuron aggregation: Scatter plot"
   ]
  },
  {
   "cell_type": "code",
   "execution_count": null,
   "metadata": {},
   "outputs": [],
   "source": [
    "#sns.scatterplot(x='neuron', y='n_spikes', data=concat_JAM_aggr_neuron_00,\n",
    "#                hue='attack', s=80, palette=[\"#C59434\", \"#092c48\"], alpha=0.6) # style='dataset', markers=[\"o\", \"X\"]\n",
    "\n",
    "sns.scatterplot(x='neuron', y='n_spikes', data=concat_JAM_aggr_neuron_00[concat_JAM_aggr_neuron_00.attack == \"initial_state\"],\n",
    "                hue='attack', s=80, palette=[\"#C59434\"], alpha=1, marker=\"o\") #, style='dataset'\n",
    "\n",
    "sns.scatterplot(x='neuron', y='n_spikes', data=concat_JAM_aggr_neuron_00[concat_JAM_aggr_neuron_00.attack == \"FLO\"],\n",
    "                hue='attack', s=80, palette=[\"#092C48\"], alpha=1, marker=\"x\") #, style='dataset'\n",
    "\n",
    "plt.legend(loc='upper left')\n",
    "plt.show()"
   ]
  },
  {
   "cell_type": "markdown",
   "metadata": {},
   "source": [
    "#### Time instant aggregation: Scatter plot"
   ]
  },
  {
   "cell_type": "code",
   "execution_count": null,
   "metadata": {},
   "outputs": [],
   "source": [
    "# (0,0)\n",
    "#sns.scatterplot(x='n_spikes', y='neuron', data=concat_JAM_aggr_time_00[(concat_JAM_aggr_time_00.n_spikes >= MIN_00) & (concat_JAM_aggr_time_00.n_spikes <= MAX_00)],\n",
    "#                hue='attack', s=80, palette=[\"#C59434\", \"#092c48\"], alpha=0.8) # style='dataset', markers=[\"o\", \"X\"]\n",
    "\n",
    "sns.scatterplot(x='n_spikes', y='neuron', data=concat_JAM_aggr_time_00[(concat_JAM_aggr_time_00.attack == \"initial_state\") & (concat_JAM_aggr_time_00.n_spikes >= MIN_00) & (concat_JAM_aggr_time_00.n_spikes <= MAX_00)],\n",
    "                hue='attack', s=80, palette=[\"#C59434\"], alpha=1, marker=\"o\") #, style='dataset'\n",
    "\n",
    "sns.scatterplot(x='n_spikes', y='neuron', data=concat_JAM_aggr_time_00[(concat_JAM_aggr_time_00.attack == \"JAM\") & (concat_JAM_aggr_time_00.n_spikes >= MIN_00) & (concat_JAM_aggr_time_00.n_spikes <= MAX_00)],\n",
    "                hue='attack', s=80, palette=[\"#092C48\"], alpha=1, marker=\"x\") #, style='dataset'\n",
    "\n",
    "plt.legend(loc='upper left')\n",
    "plt.show()"
   ]
  },
  {
   "cell_type": "code",
   "execution_count": null,
   "metadata": {},
   "outputs": [],
   "source": [
    "# (3,3)\n",
    "#sns.scatterplot(x='n_spikes', y='neuron', data=concat_JAM_aggr_time_00[(concat_JAM_aggr_time_00.n_spikes >= MIN_33) & (concat_JAM_aggr_time_00.n_spikes <= MAX_33)],\n",
    "#                hue='attack', s=80, palette=[\"#C59434\", \"#092c48\"], alpha=0.8) # style='dataset', markers=[\"o\", \"X\"]\n",
    "\n",
    "sns.scatterplot(x='n_spikes', y='neuron', data=concat_JAM_aggr_time_00[(concat_JAM_aggr_time_00.attack == \"initial_state\") & (concat_JAM_aggr_time_00.n_spikes >= MIN_33) & (concat_JAM_aggr_time_00.n_spikes <= MAX_33)],\n",
    "                hue='attack', s=80, palette=[\"#C59434\"], alpha=1, marker=\"o\") #, style='dataset'\n",
    "\n",
    "sns.scatterplot(x='n_spikes', y='neuron', data=concat_JAM_aggr_time_00[(concat_JAM_aggr_time_00.attack == \"JAM\") & (concat_JAM_aggr_time_00.n_spikes >= MIN_33) & (concat_JAM_aggr_time_00.n_spikes <= MAX_33)],\n",
    "                hue='attack', s=80, palette=[\"#092C48\"], alpha=1, marker=\"x\") #, style='dataset'\n",
    "\n",
    "plt.legend(loc='upper left')\n",
    "plt.show()"
   ]
  },
  {
   "cell_type": "code",
   "execution_count": null,
   "metadata": {},
   "outputs": [],
   "source": [
    "# (5,5)\n",
    "#sns.scatterplot(x='n_spikes', y='neuron', data=concat_JAM_aggr_time_00[(concat_JAM_aggr_time_00.n_spikes >= MIN_55) & (concat_JAM_aggr_time_00.n_spikes <= MAX_55)],\n",
    "#                hue='attack', s=80, palette=[\"#C59434\", \"#092c48\"], alpha=0.8) # style='dataset', markers=[\"o\", \"X\"]\n",
    "\n",
    "sns.scatterplot(x='n_spikes', y='neuron', data=concat_JAM_aggr_time_00[(concat_JAM_aggr_time_00.attack == \"initial_state\") & (concat_JAM_aggr_time_00.n_spikes >= MIN_55) & (concat_JAM_aggr_time_00.n_spikes <= MAX_55)],\n",
    "                hue='attack', s=80, palette=[\"#C59434\"], alpha=1, marker=\"o\") #, style='dataset'\n",
    "\n",
    "sns.scatterplot(x='n_spikes', y='neuron', data=concat_JAM_aggr_time_00[(concat_JAM_aggr_time_00.attack == \"JAM\") & (concat_JAM_aggr_time_00.n_spikes >= MIN_55) & (concat_JAM_aggr_time_00.n_spikes <= MAX_55)],\n",
    "                hue='attack', s=80, palette=[\"#092C48\"], alpha=1, marker=\"x\") #, style='dataset'\n",
    "\n",
    "plt.legend(loc='upper left')\n",
    "plt.show()"
   ]
  },
  {
   "cell_type": "markdown",
   "metadata": {},
   "source": [
    "#### Attack at (3,3)"
   ]
  },
  {
   "cell_type": "markdown",
   "metadata": {},
   "source": [
    "#### Raster plot"
   ]
  },
  {
   "cell_type": "code",
   "execution_count": null,
   "metadata": {},
   "outputs": [],
   "source": [
    "fig,ax = plt.subplots()\n",
    "\n",
    "ax = sns.scatterplot(x='time_delta', y='neuron', data=concat_JAM_33,\n",
    "                hue='attack', palette=[\"#C59434\", \"#092c48\"], alpha=0.7) #, style='dataset'\n",
    "\n",
    "#sns.scatterplot(x='time_delta', y='neuron', data=data_initial_state,\n",
    "#                hue='attack', palette=[\"#C59434\"], alpha=1, marker=\"o\") #, style='dataset'\n",
    "\n",
    "#sns.scatterplot(x='time_delta', y='neuron', data=data_JAM_33,\n",
    "#                hue='attack', palette=[\"#092C48\"], alpha=1, marker=\"x\") #, style='dataset'\n",
    "\n",
    "cont = 25\n",
    "for a in range(0, 28):\n",
    "    plt.axvline(x=cont*a, color=\"red\")\n",
    "\n",
    "ax.xaxis.set_major_locator(ticker.MultipleLocator(25))"
   ]
  },
  {
   "cell_type": "code",
   "execution_count": null,
   "metadata": {
    "scrolled": false
   },
   "outputs": [],
   "source": [
    "# (0,0)\n",
    "#sns.scatterplot(x='time_delta', y='neuron', data=concat_JAM_00[(concat_JAM_00.time_delta >= MIN_00) & (concat_JAM_00.time_delta <= MAX_00)],\n",
    "#                hue='attack', palette=[\"#C59434\", \"#092C48\"], alpha=0.5) #, style='dataset'\n",
    "\n",
    "sns.scatterplot(x='time_delta', y='neuron', data=data_initial_state[(data_initial_state.time_delta >= MIN_00) & (data_initial_state.time_delta <= MAX_00)],\n",
    "                hue='attack', s=80, palette=[\"#C59434\"], alpha=1, marker=\"o\") #, style='dataset'\n",
    "\n",
    "sns.scatterplot(x='time_delta', y='neuron', data=data_JAM_33[(data_JAM_33.time_delta >= MIN_00) & (data_JAM_33.time_delta <= MAX_00)],\n",
    "                hue='attack', s=80, palette=[\"#092C48\"], alpha=1, marker=\"x\") #, style='dataset'"
   ]
  },
  {
   "cell_type": "code",
   "execution_count": null,
   "metadata": {},
   "outputs": [],
   "source": [
    "# (3,3)\n",
    "#sns.scatterplot(x='time_delta', y='neuron', data=concat_JAM_33[(concat_FLO_33.time_delta >= MIN_33) & (concat_JAM_33.time_delta <= MAX_33)],\n",
    "#                hue='attack', palette=[\"#C59434\", \"#092C48\"], alpha=0.5) #, style='dataset'\n",
    "\n",
    "sns.scatterplot(x='time_delta', y='neuron', data=data_initial_state[(data_initial_state.time_delta >= MIN_33) & (data_initial_state.time_delta <= MAX_33)],\n",
    "                hue='attack', s=80, palette=[\"#C59434\"], alpha=1, marker=\"o\") #, style='dataset'\n",
    "\n",
    "sns.scatterplot(x='time_delta', y='neuron', data=data_JAM_33[(data_JAM_33.time_delta >= MIN_33) & (data_JAM_33.time_delta <= MAX_33)],\n",
    "                hue='attack', s=80, palette=[\"#092C48\"], alpha=1, marker=\"x\") #, style='dataset'"
   ]
  },
  {
   "cell_type": "code",
   "execution_count": null,
   "metadata": {},
   "outputs": [],
   "source": [
    "# (5,5)\n",
    "#sns.scatterplot(x='time_delta', y='neuron', data=concat_JAM_33[(concat_FLO_33.time_delta >= MIN_55) & (concat_JAM_33.time_delta <= MAX_55)],\n",
    "#                hue='attack', palette=[\"#C59434\", \"#092C48\"], alpha=0.5) #, style='dataset'\n",
    "\n",
    "sns.scatterplot(x='time_delta', y='neuron', data=data_initial_state[(data_initial_state.time_delta >= MIN_55) & (data_initial_state.time_delta <= MAX_55)],\n",
    "                hue='attack', s=80, palette=[\"#C59434\"], alpha=1, marker=\"o\") #, style='dataset'\n",
    "\n",
    "sns.scatterplot(x='time_delta', y='neuron', data=data_JAM_33[(data_JAM_33.time_delta >= MIN_55) & (data_JAM_33.time_delta <= MAX_55)],\n",
    "                hue='attack', s=80, palette=[\"#092C48\"], alpha=1, marker=\"x\") #, style='dataset'"
   ]
  },
  {
   "cell_type": "markdown",
   "metadata": {},
   "source": [
    "#### Neuron aggregation: Scatter plot"
   ]
  },
  {
   "cell_type": "code",
   "execution_count": null,
   "metadata": {},
   "outputs": [],
   "source": [
    "#sns.scatterplot(x='neuron', y='n_spikes', data=concat_JAM_aggr_neuron_33,\n",
    "#                hue='attack', s=80, palette=[\"#C59434\", \"#092c48\"], alpha=0.6) # style='dataset', markers=[\"o\", \"X\"]\n",
    "\n",
    "sns.scatterplot(x='neuron', y='n_spikes', data=concat_JAM_aggr_neuron_33[concat_JAM_aggr_neuron_33.attack == \"initial_state\"],\n",
    "                hue='attack', s=80, palette=[\"#C59434\"], alpha=1, marker=\"o\") #, style='dataset'\n",
    "\n",
    "sns.scatterplot(x='neuron', y='n_spikes', data=concat_JAM_aggr_neuron_33[concat_JAM_aggr_neuron_33.attack == \"JAM\"],\n",
    "                hue='attack', s=80, palette=[\"#092C48\"], alpha=1, marker=\"x\") #, style='dataset'\n",
    "\n",
    "plt.legend(loc='upper left')\n",
    "plt.show()"
   ]
  },
  {
   "cell_type": "markdown",
   "metadata": {},
   "source": [
    "#### Time instant aggregation: Scatter plot"
   ]
  },
  {
   "cell_type": "code",
   "execution_count": null,
   "metadata": {},
   "outputs": [],
   "source": [
    "# (0,0)\n",
    "#sns.scatterplot(x='n_spikes', y='neuron', data=concat_JAM_aggr_time_33[(concat_JAM_aggr_time_33.n_spikes >= MIN_00) & (concat_JAM_aggr_time_33.n_spikes <= MAX_00)],\n",
    "#                hue='attack', s=80, palette=[\"#C59434\", \"#092c48\"], alpha=0.8) # style='dataset', markers=[\"o\", \"X\"]\n",
    "\n",
    "sns.scatterplot(x='n_spikes', y='neuron', data=concat_JAM_aggr_time_33[(concat_JAM_aggr_time_33.attack == \"initial_state\") & (concat_JAM_aggr_time_33.n_spikes >= MIN_00) & (concat_JAM_aggr_time_33.n_spikes <= MAX_00)],\n",
    "                hue='attack', s=80, palette=[\"#C59434\"], alpha=1, marker=\"o\") #, style='dataset'\n",
    "\n",
    "sns.scatterplot(x='n_spikes', y='neuron', data=concat_JAM_aggr_time_33[(concat_JAM_aggr_time_33.attack == \"JAM\") & (concat_JAM_aggr_time_33.n_spikes >= MIN_00) & (concat_JAM_aggr_time_33.n_spikes <= MAX_00)],\n",
    "                hue='attack', s=80, palette=[\"#092C48\"], alpha=1, marker=\"x\") #, style='dataset'\n",
    "\n",
    "plt.legend(loc='upper left')\n",
    "plt.show()"
   ]
  },
  {
   "cell_type": "code",
   "execution_count": null,
   "metadata": {},
   "outputs": [],
   "source": [
    "# (3,3)\n",
    "#sns.scatterplot(x='n_spikes', y='neuron', data=concat_JAM_aggr_time_33[(concat_JAM_aggr_time_33.n_spikes >= MIN_33) & (concat_JAM_aggr_time_33.n_spikes <= MAX_33)],\n",
    "#                hue='attack', s=80, palette=[\"#C59434\", \"#092c48\"], alpha=0.8) # style='dataset', markers=[\"o\", \"X\"]\n",
    "\n",
    "sns.scatterplot(x='n_spikes', y='neuron', data=concat_JAM_aggr_time_33[(concat_JAM_aggr_time_33.attack == \"initial_state\") & (concat_JAM_aggr_time_33.n_spikes >= MIN_33) & (concat_JAM_aggr_time_33.n_spikes <= MAX_33)],\n",
    "                hue='attack', s=80, palette=[\"#C59434\"], alpha=1, marker=\"o\") #, style='dataset'\n",
    "\n",
    "sns.scatterplot(x='n_spikes', y='neuron', data=concat_JAM_aggr_time_33[(concat_JAM_aggr_time_33.attack == \"JAM\") & (concat_JAM_aggr_time_33.n_spikes >= MIN_33) & (concat_JAM_aggr_time_33.n_spikes <= MAX_33)],\n",
    "                hue='attack', s=80, palette=[\"#092C48\"], alpha=1, marker=\"x\") #, style='dataset'\n",
    "\n",
    "plt.legend(loc='upper left')\n",
    "plt.show()"
   ]
  },
  {
   "cell_type": "code",
   "execution_count": null,
   "metadata": {},
   "outputs": [],
   "source": [
    "# (5,5)\n",
    "#sns.scatterplot(x='n_spikes', y='neuron', data=concat_JAM_aggr_time_33[(concat_JAM_aggr_time_33.n_spikes >= MIN_55) & (concat_JAM_aggr_time_33.n_spikes <= MAX_55)],\n",
    "#                hue='attack', s=80, palette=[\"#C59434\", \"#092c48\"], alpha=0.8) # style='dataset', markers=[\"o\", \"X\"]\n",
    "\n",
    "sns.scatterplot(x='n_spikes', y='neuron', data=concat_JAM_aggr_time_33[(concat_JAM_aggr_time_33.attack == \"initial_state\") & (concat_JAM_aggr_time_33.n_spikes >= MIN_55) & (concat_JAM_aggr_time_33.n_spikes <= MAX_55)],\n",
    "                hue='attack', s=80, palette=[\"#C59434\"], alpha=1, marker=\"o\") #, style='dataset'\n",
    "\n",
    "sns.scatterplot(x='n_spikes', y='neuron', data=concat_JAM_aggr_time_33[(concat_JAM_aggr_time_33.attack == \"JAM\") & (concat_JAM_aggr_time_33.n_spikes >= MIN_55) & (concat_JAM_aggr_time_33.n_spikes <= MAX_55)],\n",
    "                hue='attack', s=80, palette=[\"#092C48\"], alpha=1, marker=\"x\") #, style='dataset'\n",
    "\n",
    "plt.legend(loc='upper left')\n",
    "plt.show()"
   ]
  },
  {
   "cell_type": "markdown",
   "metadata": {},
   "source": [
    "#### Attack at (5,5)"
   ]
  },
  {
   "cell_type": "markdown",
   "metadata": {},
   "source": [
    "#### Raster plot"
   ]
  },
  {
   "cell_type": "code",
   "execution_count": null,
   "metadata": {},
   "outputs": [],
   "source": [
    "fig,ax = plt.subplots()\n",
    "\n",
    "ax = sns.scatterplot(x='time_delta', y='neuron', data=concat_JAM_55,\n",
    "                hue='attack', palette=[\"#C59434\", \"#092c48\"], alpha=0.7) #, style='dataset'\n",
    "\n",
    "#sns.scatterplot(x='time_delta', y='neuron', data=data_initial_state,\n",
    "#                hue='attack', palette=[\"#C59434\"], alpha=1, marker=\"o\") #, style='dataset'\n",
    "\n",
    "#sns.scatterplot(x='time_delta', y='neuron', data=data_JAM_55,\n",
    "#                hue='attack', palette=[\"#092C48\"], alpha=1, marker=\"x\") #, style='dataset'\n",
    "\n",
    "cont = 25\n",
    "for a in range(0, 28):\n",
    "    plt.axvline(x=cont*a, color=\"red\")\n",
    "\n",
    "ax.xaxis.set_major_locator(ticker.MultipleLocator(25))"
   ]
  },
  {
   "cell_type": "code",
   "execution_count": null,
   "metadata": {
    "scrolled": false
   },
   "outputs": [],
   "source": [
    "# (0,0)\n",
    "#sns.scatterplot(x='time_delta', y='neuron', data=concat_JAM_55[(concat_FLO_55.time_delta >= MIN_00) & (concat_JAM_55.time_delta <= MAX_00)],\n",
    "#                hue='attack', palette=[\"#C59434\", \"#092C48\"], alpha=0.5) #, style='dataset'\n",
    "\n",
    "sns.scatterplot(x='time_delta', y='neuron', data=data_initial_state[(data_initial_state.time_delta >= MIN_00) & (data_initial_state.time_delta <= MAX_00)],\n",
    "                hue='attack', s=80, palette=[\"#C59434\"], alpha=1, marker=\"o\") #, style='dataset'\n",
    "\n",
    "sns.scatterplot(x='time_delta', y='neuron', data=data_JAM_55[(data_JAM_55.time_delta >= MIN_00) & (data_JAM_55.time_delta <= MAX_00)],\n",
    "                hue='attack', s=80, palette=[\"#092C48\"], alpha=1, marker=\"x\") #, style='dataset'"
   ]
  },
  {
   "cell_type": "code",
   "execution_count": null,
   "metadata": {},
   "outputs": [],
   "source": [
    "# (3,3)\n",
    "#sns.scatterplot(x='time_delta', y='neuron', data=concat_JAM_55[(concat_JAM_55.time_delta >= MIN_33) & (concat_JAM_55.time_delta <= MAX_33)],\n",
    "#                hue='attack', palette=[\"#C59434\", \"#092C48\"], alpha=0.5) #, style='dataset'\n",
    "\n",
    "sns.scatterplot(x='time_delta', y='neuron', data=data_initial_state[(data_initial_state.time_delta >= MIN_33) & (data_initial_state.time_delta <= MAX_33)],\n",
    "                hue='attack', s=80, palette=[\"#C59434\"], alpha=1, marker=\"o\") #, style='dataset'\n",
    "\n",
    "sns.scatterplot(x='time_delta', y='neuron', data=data_JAM_55[(data_JAM_55.time_delta >= MIN_33) & (data_JAM_55.time_delta <= MAX_33)],\n",
    "                hue='attack', s=80, palette=[\"#092C48\"], alpha=1, marker=\"x\") #, style='dataset'"
   ]
  },
  {
   "cell_type": "code",
   "execution_count": null,
   "metadata": {},
   "outputs": [],
   "source": [
    "# (5,5)\n",
    "#sns.scatterplot(x='time_delta', y='neuron', data=concat_JAM_55[(concat_JAM_55.time_delta >= MIN_55) & (concat_JAM_55.time_delta <= MAX_55)],\n",
    "#                hue='attack', palette=[\"#C59434\", \"#092C48\"], alpha=0.5) #, style='dataset'\n",
    "\n",
    "sns.scatterplot(x='time_delta', y='neuron', data=data_initial_state[(data_initial_state.time_delta >= MIN_55) & (data_initial_state.time_delta <= MAX_55)],\n",
    "                hue='attack', s=80, palette=[\"#C59434\"], alpha=1, marker=\"o\") #, style='dataset'\n",
    "\n",
    "sns.scatterplot(x='time_delta', y='neuron', data=data_JAM_55[(data_JAM_55.time_delta >= MIN_55) & (data_JAM_55.time_delta <= MAX_55)],\n",
    "                hue='attack', s=80, palette=[\"#092C48\"], alpha=1, marker=\"x\") #, style='dataset'"
   ]
  },
  {
   "cell_type": "markdown",
   "metadata": {},
   "source": [
    "#### Neuron aggregation: Scatter plot"
   ]
  },
  {
   "cell_type": "code",
   "execution_count": null,
   "metadata": {},
   "outputs": [],
   "source": [
    "#sns.scatterplot(x='neuron', y='n_spikes', data=concat_JAM_aggr_neuron_55,\n",
    "#                hue='attack', s=80, palette=[\"#C59434\", \"#092c48\"], alpha=0.6) # style='dataset', markers=[\"o\", \"X\"]\n",
    "\n",
    "sns.scatterplot(x='neuron', y='n_spikes', data=concat_JAM_aggr_neuron_55[concat_JAM_aggr_neuron_55.attack == \"initial_state\"],\n",
    "                hue='attack', s=80, palette=[\"#C59434\"], alpha=1, marker=\"o\") #, style='dataset'\n",
    "\n",
    "sns.scatterplot(x='neuron', y='n_spikes', data=concat_JAM_aggr_neuron_55[concat_JAM_aggr_neuron_55.attack == \"FLO\"],\n",
    "                hue='attack', s=80, palette=[\"#092C48\"], alpha=1, marker=\"x\") #, style='dataset'\n",
    "\n",
    "plt.legend(loc='upper left')\n",
    "plt.show()"
   ]
  },
  {
   "cell_type": "markdown",
   "metadata": {},
   "source": [
    "#### Time instant aggregation: Scatter plot"
   ]
  },
  {
   "cell_type": "code",
   "execution_count": null,
   "metadata": {},
   "outputs": [],
   "source": [
    "# (0,0)\n",
    "#sns.scatterplot(x='n_spikes', y='neuron', data=concat_JAM_aggr_time_55[(concat_JAM_aggr_time_55.n_spikes >= MIN_00) & (concat_JAM_aggr_time_55.n_spikes <= MAX_00)],\n",
    "#                hue='attack', s=80, palette=[\"#C59434\", \"#092c48\"], alpha=0.8) # style='dataset', markers=[\"o\", \"X\"]\n",
    "\n",
    "sns.scatterplot(x='n_spikes', y='neuron', data=concat_JAM_aggr_time_55[(concat_JAM_aggr_time_55.attack == \"initial_state\") & (concat_JAM_aggr_time_55.n_spikes >= MIN_00) & (concat_JAM_aggr_time_55.n_spikes <= MAX_00)],\n",
    "                hue='attack', s=80, palette=[\"#C59434\"], alpha=1, marker=\"o\") #, style='dataset'\n",
    "\n",
    "sns.scatterplot(x='n_spikes', y='neuron', data=concat_JAM_aggr_time_55[(concat_JAM_aggr_time_55.attack == \"JAM\") & (concat_JAM_aggr_time_55.n_spikes >= MIN_00) & (concat_JAM_aggr_time_55.n_spikes <= MAX_00)],\n",
    "                hue='attack', s=80, palette=[\"#092C48\"], alpha=1, marker=\"x\") #, style='dataset'\n",
    "\n",
    "plt.legend(loc='upper left')\n",
    "plt.show()"
   ]
  },
  {
   "cell_type": "code",
   "execution_count": null,
   "metadata": {},
   "outputs": [],
   "source": [
    "# (3,3)\n",
    "#sns.scatterplot(x='n_spikes', y='neuron', data=concat_JAM_aggr_time_55[(concat_JAM_aggr_time_55.n_spikes >= MIN_33) & (concat_JAM_aggr_time_55.n_spikes <= MAX_33)],\n",
    "#                hue='attack', s=80, palette=[\"#C59434\", \"#092c48\"], alpha=0.8) # style='dataset', markers=[\"o\", \"X\"]\n",
    "\n",
    "sns.scatterplot(x='n_spikes', y='neuron', data=concat_JAM_aggr_time_55[(concat_JAM_aggr_time_55.attack == \"initial_state\") & (concat_JAM_aggr_time_55.n_spikes >= MIN_33) & (concat_JAM_aggr_time_55.n_spikes <= MAX_33)],\n",
    "                hue='attack', s=80, palette=[\"#C59434\"], alpha=1, marker=\"o\") #, style='dataset'\n",
    "\n",
    "sns.scatterplot(x='n_spikes', y='neuron', data=concat_JAM_aggr_time_55[(concat_JAM_aggr_time_55.attack == \"JAM\") & (concat_JAM_aggr_time_55.n_spikes >= MIN_33) & (concat_JAM_aggr_time_55.n_spikes <= MAX_33)],\n",
    "                hue='attack', s=80, palette=[\"#092C48\"], alpha=1, marker=\"x\") #, style='dataset'\n",
    "\n",
    "plt.legend(loc='upper left')\n",
    "plt.show()"
   ]
  },
  {
   "cell_type": "code",
   "execution_count": null,
   "metadata": {
    "scrolled": false
   },
   "outputs": [],
   "source": [
    "# (5,5)\n",
    "#sns.scatterplot(x='n_spikes', y='neuron', data=concat_JAM_aggr_time_55[(concat_JAM_aggr_time_55.n_spikes >= MIN_55) & (concat_JAM_aggr_time_55.n_spikes <= MAX_55)],\n",
    "#                hue='attack', s=80, palette=[\"#C59434\", \"#092c48\"], alpha=0.8) # style='dataset', markers=[\"o\", \"X\"]\n",
    "\n",
    "sns.scatterplot(x='n_spikes', y='neuron', data=concat_JAM_aggr_time_55[(concat_JAM_aggr_time_55.attack == \"initial_state\") & (concat_JAM_aggr_time_55.n_spikes >= MIN_55) & (concat_JAM_aggr_time_55.n_spikes <= MAX_55)],\n",
    "                hue='attack', s=80, palette=[\"#C59434\"], alpha=1, marker=\"o\") #, style='dataset'\n",
    "\n",
    "sns.scatterplot(x='n_spikes', y='neuron', data=concat_JAM_aggr_time_55[(concat_JAM_aggr_time_55.attack == \"JAM\") & (concat_JAM_aggr_time_55.n_spikes >= MIN_55) & (concat_JAM_aggr_time_55.n_spikes <= MAX_55)],\n",
    "                hue='attack', s=80, palette=[\"#092C48\"], alpha=1, marker=\"x\") #, style='dataset'\n",
    "\n",
    "plt.legend(loc='upper left')\n",
    "plt.show()"
   ]
  },
  {
   "cell_type": "markdown",
   "metadata": {},
   "source": [
    "### Initial_state vs SPO"
   ]
  },
  {
   "cell_type": "markdown",
   "metadata": {},
   "source": [
    "#### Attack at (0,0)"
   ]
  },
  {
   "cell_type": "markdown",
   "metadata": {},
   "source": [
    "#### Raster plot"
   ]
  },
  {
   "cell_type": "code",
   "execution_count": null,
   "metadata": {},
   "outputs": [],
   "source": [
    "fig,ax = plt.subplots()\n",
    "\n",
    "ax = sns.scatterplot(x='time_delta', y='neuron', data=concat_SPO_00,\n",
    "                hue='attack', palette=[\"#C59434\", \"#092c48\"], alpha=0.7) #, style='dataset'\n",
    "\n",
    "#sns.scatterplot(x='time_delta', y='neuron', data=data_initial_state,\n",
    "#                hue='attack', palette=[\"#C59434\"], alpha=1, marker=\"o\") #, style='dataset'\n",
    "\n",
    "#sns.scatterplot(x='time_delta', y='neuron', data=data_SPO_00,\n",
    "#                hue='attack', palette=[\"#092C48\"], alpha=1, marker=\"x\") #, style='dataset'\n",
    "\n",
    "cont = 25\n",
    "for a in range(0, 28):\n",
    "    plt.axvline(x=cont*a, color=\"red\")\n",
    "\n",
    "ax.xaxis.set_major_locator(ticker.MultipleLocator(25))"
   ]
  },
  {
   "cell_type": "code",
   "execution_count": null,
   "metadata": {
    "scrolled": false
   },
   "outputs": [],
   "source": [
    "# (0,0)\n",
    "#sns.scatterplot(x='time_delta', y='neuron', data=concat_SPO_00[(concat_SPO_00.time_delta >= MIN_00) & (concat_SPO_00.time_delta <= MAX_00)],\n",
    "#                hue='attack', palette=[\"#C59434\", \"#092C48\"], alpha=0.5) #, style='dataset'\n",
    "\n",
    "sns.scatterplot(x='time_delta', y='neuron', data=data_initial_state[(data_initial_state.time_delta >= MIN_00) & (data_initial_state.time_delta <= MAX_00)],\n",
    "                hue='attack', s=80, palette=[\"#C59434\"], alpha=1, marker=\"o\") #, style='dataset'\n",
    "\n",
    "sns.scatterplot(x='time_delta', y='neuron', data=data_SPO_00[(data_SPO_00.time_delta >= MIN_00) & (data_SPO_00.time_delta <= MAX_00)],\n",
    "                hue='attack', s=80, palette=[\"#092C48\"], alpha=1, marker=\"x\") #, style='dataset'"
   ]
  },
  {
   "cell_type": "code",
   "execution_count": null,
   "metadata": {},
   "outputs": [],
   "source": [
    "# (3,3)\n",
    "#sns.scatterplot(x='time_delta', y='neuron', data=concat_SPO_00[(concat_SPO_00.time_delta >= MIN_33) & (concat_SPO_00.time_delta <= MAX_33)],\n",
    "#                hue='attack', palette=[\"#C59434\", \"#092C48\"], alpha=0.5) #, style='dataset'\n",
    "\n",
    "sns.scatterplot(x='time_delta', y='neuron', data=data_initial_state[(data_initial_state.time_delta >= MIN_33) & (data_initial_state.time_delta <= MAX_33)],\n",
    "                hue='attack', s=80, palette=[\"#C59434\"], alpha=1, marker=\"o\") #, style='dataset'\n",
    "\n",
    "sns.scatterplot(x='time_delta', y='neuron', data=data_SPO_00[(data_SPO_00.time_delta >= MIN_33) & (data_SPO_00.time_delta <= MAX_33)],\n",
    "                hue='attack', s=80, palette=[\"#092C48\"], alpha=1, marker=\"x\") #, style='dataset'"
   ]
  },
  {
   "cell_type": "code",
   "execution_count": null,
   "metadata": {},
   "outputs": [],
   "source": [
    "# (5,5)\n",
    "#sns.scatterplot(x='time_delta', y='neuron', data=concat_SPO_00[(concat_SPO_00.time_delta >= MIN_55) & (concat_SPO_00.time_delta <= MAX_55)],\n",
    "#                hue='attack', palette=[\"#C59434\", \"#092C48\"], alpha=0.5) #, style='dataset'\n",
    "\n",
    "sns.scatterplot(x='time_delta', y='neuron', data=data_initial_state[(data_initial_state.time_delta >= MIN_55) & (data_initial_state.time_delta <= MAX_55)],\n",
    "                hue='attack', s=80, palette=[\"#C59434\"], alpha=1, marker=\"o\") #, style='dataset'\n",
    "\n",
    "sns.scatterplot(x='time_delta', y='neuron', data=data_SPO_00[(data_SPO_00.time_delta >= MIN_55) & (data_SPO_00.time_delta <= MAX_55)],\n",
    "                hue='attack', s=80, palette=[\"#092C48\"], alpha=1, marker=\"x\") #, style='dataset'"
   ]
  },
  {
   "cell_type": "markdown",
   "metadata": {},
   "source": [
    "#### Neuron aggregation: Scatter plot"
   ]
  },
  {
   "cell_type": "code",
   "execution_count": null,
   "metadata": {},
   "outputs": [],
   "source": [
    "#sns.scatterplot(x='neuron', y='n_spikes', data=concat_SPO_aggr_neuron_00,\n",
    "#                hue='attack', s=80, palette=[\"#C59434\", \"#092c48\"], alpha=0.6) # style='dataset', markers=[\"o\", \"X\"]\n",
    "\n",
    "sns.scatterplot(x='neuron', y='n_spikes', data=concat_SPO_aggr_neuron_00[concat_SPO_aggr_neuron_00.attack == \"initial_state\"],\n",
    "                hue='attack', s=80, palette=[\"#C59434\"], alpha=1, marker=\"o\") #, style='dataset'\n",
    "\n",
    "sns.scatterplot(x='neuron', y='n_spikes', data=concat_SPO_aggr_neuron_00[concat_SPO_aggr_neuron_00.attack == \"SPO\"],\n",
    "                hue='attack', s=80, palette=[\"#092C48\"], alpha=1, marker=\"x\") #, style='dataset'\n",
    "\n",
    "plt.legend(loc='upper left')\n",
    "plt.show()"
   ]
  },
  {
   "cell_type": "markdown",
   "metadata": {},
   "source": [
    "#### Time instant aggregation: Scatter plot"
   ]
  },
  {
   "cell_type": "code",
   "execution_count": null,
   "metadata": {},
   "outputs": [],
   "source": [
    "# (0,0)\n",
    "#sns.scatterplot(x='n_spikes', y='neuron', data=concat_SPO_aggr_time_00[(concat_SPO_aggr_time_00.n_spikes >= MIN_00) & (concat_SPO_aggr_time_00.n_spikes <= MAX_00)],\n",
    "#                hue='attack', s=80, palette=[\"#C59434\", \"#092c48\"], alpha=0.8) # style='dataset', markers=[\"o\", \"X\"]\n",
    "\n",
    "sns.scatterplot(x='n_spikes', y='neuron', data=concat_SPO_aggr_time_00[(concat_SPO_aggr_time_00.attack == \"initial_state\") & (concat_SPO_aggr_time_00.n_spikes >= MIN_00) & (concat_SPO_aggr_time_00.n_spikes <= MAX_00)],\n",
    "                hue='attack', s=80, palette=[\"#C59434\"], alpha=1, marker=\"o\") #, style='dataset'\n",
    "\n",
    "sns.scatterplot(x='n_spikes', y='neuron', data=concat_SPO_aggr_time_00[(concat_SPO_aggr_time_00.attack == \"SPO\") & (concat_SPO_aggr_time_00.n_spikes >= MIN_00) & (concat_SPO_aggr_time_00.n_spikes <= MAX_00)],\n",
    "                hue='attack', s=80, palette=[\"#092C48\"], alpha=1, marker=\"x\") #, style='dataset'\n",
    "\n",
    "plt.legend(loc='upper left')\n",
    "plt.show()"
   ]
  },
  {
   "cell_type": "code",
   "execution_count": null,
   "metadata": {},
   "outputs": [],
   "source": [
    "# (3,3)\n",
    "#sns.scatterplot(x='n_spikes', y='neuron', data=concat_SPO_aggr_time_00[(concat_SPO_aggr_time_00.n_spikes >= MIN_33) & (concat_SPO_aggr_time_00.n_spikes <= MAX_33)],\n",
    "#                hue='attack', s=80, palette=[\"#C59434\", \"#092c48\"], alpha=0.8) # style='dataset', markers=[\"o\", \"X\"]\n",
    "\n",
    "sns.scatterplot(x='n_spikes', y='neuron', data=concat_SPO_aggr_time_00[(concat_SPO_aggr_time_00.attack == \"initial_state\") & (concat_SPO_aggr_time_00.n_spikes >= MIN_33) & (concat_SPO_aggr_time_00.n_spikes <= MAX_33)],\n",
    "                hue='attack', s=80, palette=[\"#C59434\"], alpha=1, marker=\"o\") #, style='dataset'\n",
    "\n",
    "sns.scatterplot(x='n_spikes', y='neuron', data=concat_SPO_aggr_time_00[(concat_SPO_aggr_time_00.attack == \"SPO\") & (concat_SPO_aggr_time_00.n_spikes >= MIN_33) & (concat_SPO_aggr_time_00.n_spikes <= MAX_33)],\n",
    "                hue='attack', s=80, palette=[\"#092C48\"], alpha=1, marker=\"x\") #, style='dataset'\n",
    "\n",
    "plt.legend(loc='upper left')\n",
    "plt.show()"
   ]
  },
  {
   "cell_type": "code",
   "execution_count": null,
   "metadata": {},
   "outputs": [],
   "source": [
    "# (5,5)\n",
    "#sns.scatterplot(x='n_spikes', y='neuron', data=concat_SPO_aggr_time_00[(concat_SPO_aggr_time_00.n_spikes >= MIN_55) & (concat_SPO_aggr_time_00.n_spikes <= MAX_55)],\n",
    "#                hue='attack', s=80, palette=[\"#C59434\", \"#092c48\"], alpha=0.8) # style='dataset', markers=[\"o\", \"X\"]\n",
    "\n",
    "sns.scatterplot(x='n_spikes', y='neuron', data=concat_SPO_aggr_time_00[(concat_SPO_aggr_time_00.attack == \"initial_state\") & (concat_SPO_aggr_time_00.n_spikes >= MIN_55) & (concat_SPO_aggr_time_00.n_spikes <= MAX_55)],\n",
    "                hue='attack', s=80, palette=[\"#C59434\"], alpha=1, marker=\"o\") #, style='dataset'\n",
    "\n",
    "sns.scatterplot(x='n_spikes', y='neuron', data=concat_SPO_aggr_time_00[(concat_SPO_aggr_time_00.attack == \"SPO\") & (concat_SPO_aggr_time_00.n_spikes >= MIN_55) & (concat_SPO_aggr_time_00.n_spikes <= MAX_55)],\n",
    "                hue='attack', s=80, palette=[\"#092C48\"], alpha=1, marker=\"x\") #, style='dataset'\n",
    "\n",
    "plt.legend(loc='upper left')\n",
    "plt.show()"
   ]
  },
  {
   "cell_type": "markdown",
   "metadata": {},
   "source": [
    "#### Attack at (3,3)"
   ]
  },
  {
   "cell_type": "markdown",
   "metadata": {},
   "source": [
    "#### Raster plot"
   ]
  },
  {
   "cell_type": "code",
   "execution_count": null,
   "metadata": {},
   "outputs": [],
   "source": [
    "fig,ax = plt.subplots()\n",
    "\n",
    "ax = sns.scatterplot(x='time_delta', y='neuron', data=concat_SPO_33,\n",
    "                hue='attack', palette=[\"#C59434\", \"#092c48\"], alpha=0.7) #, style='dataset'\n",
    "\n",
    "#sns.scatterplot(x='time_delta', y='neuron', data=data_initial_state,\n",
    "#                hue='attack', palette=[\"#C59434\"], alpha=1, marker=\"o\") #, style='dataset'\n",
    "\n",
    "#sns.scatterplot(x='time_delta', y='neuron', data=data_SPO_33,\n",
    "#                hue='attack', palette=[\"#092C48\"], alpha=1, marker=\"x\") #, style='dataset'\n",
    "\n",
    "cont = 25\n",
    "for a in range(0, 28):\n",
    "    plt.axvline(x=cont*a, color=\"red\")\n",
    "\n",
    "ax.xaxis.set_major_locator(ticker.MultipleLocator(25))"
   ]
  },
  {
   "cell_type": "code",
   "execution_count": null,
   "metadata": {
    "scrolled": false
   },
   "outputs": [],
   "source": [
    "# (0,0)\n",
    "#sns.scatterplot(x='time_delta', y='neuron', data=concat_SPO_00[(concat_SPO_00.time_delta >= MIN_00) & (concat_SPO_00.time_delta <= MAX_00)],\n",
    "#                hue='attack', palette=[\"#C59434\", \"#092C48\"], alpha=0.5) #, style='dataset'\n",
    "\n",
    "sns.scatterplot(x='time_delta', y='neuron', data=data_initial_state[(data_initial_state.time_delta >= MIN_00) & (data_initial_state.time_delta <= MAX_00)],\n",
    "                hue='attack', s=80, palette=[\"#C59434\"], alpha=1, marker=\"o\") #, style='dataset'\n",
    "\n",
    "sns.scatterplot(x='time_delta', y='neuron', data=data_SPO_33[(data_SPO_33.time_delta >= MIN_00) & (data_SPO_33.time_delta <= MAX_00)],\n",
    "                hue='attack', s=80, palette=[\"#092C48\"], alpha=1, marker=\"x\") #, style='dataset'"
   ]
  },
  {
   "cell_type": "code",
   "execution_count": null,
   "metadata": {},
   "outputs": [],
   "source": [
    "# (3,3)\n",
    "#sns.scatterplot(x='time_delta', y='neuron', data=concat_SPO_33[(concat_SPO_33.time_delta >= MIN_33) & (concat_SPO_33.time_delta <= MAX_33)],\n",
    "#                hue='attack', palette=[\"#C59434\", \"#092C48\"], alpha=0.5) #, style='dataset'\n",
    "\n",
    "sns.scatterplot(x='time_delta', y='neuron', data=data_initial_state[(data_initial_state.time_delta >= MIN_33) & (data_initial_state.time_delta <= MAX_33)],\n",
    "                hue='attack', s=80, palette=[\"#C59434\"], alpha=1, marker=\"o\") #, style='dataset'\n",
    "\n",
    "sns.scatterplot(x='time_delta', y='neuron', data=data_SPO_33[(data_SPO_33.time_delta >= MIN_33) & (data_SPO_33.time_delta <= MAX_33)],\n",
    "                hue='attack', s=80, palette=[\"#092C48\"], alpha=1, marker=\"x\") #, style='dataset'"
   ]
  },
  {
   "cell_type": "code",
   "execution_count": null,
   "metadata": {},
   "outputs": [],
   "source": [
    "# (5,5)\n",
    "#sns.scatterplot(x='time_delta', y='neuron', data=concat_SPO_33[(concat_SPO_33.time_delta >= MIN_55) & (concat_SPO_33.time_delta <= MAX_55)],\n",
    "#                hue='attack', palette=[\"#C59434\", \"#092C48\"], alpha=0.5) #, style='dataset'\n",
    "\n",
    "sns.scatterplot(x='time_delta', y='neuron', data=data_initial_state[(data_initial_state.time_delta >= MIN_55) & (data_initial_state.time_delta <= MAX_55)],\n",
    "                hue='attack', s=80, palette=[\"#C59434\"], alpha=1, marker=\"o\") #, style='dataset'\n",
    "\n",
    "sns.scatterplot(x='time_delta', y='neuron', data=data_SPO_33[(data_SPO_33.time_delta >= MIN_55) & (data_SPO_33.time_delta <= MAX_55)],\n",
    "                hue='attack', s=80, palette=[\"#092C48\"], alpha=1, marker=\"x\") #, style='dataset'"
   ]
  },
  {
   "cell_type": "markdown",
   "metadata": {},
   "source": [
    "#### Neuron aggregation: Scatter plot"
   ]
  },
  {
   "cell_type": "code",
   "execution_count": null,
   "metadata": {},
   "outputs": [],
   "source": [
    "#sns.scatterplot(x='neuron', y='n_spikes', data=concat_SPO_aggr_neuron_33,\n",
    "#                hue='attack', s=80, palette=[\"#C59434\", \"#092c48\"], alpha=0.6) # style='dataset', markers=[\"o\", \"X\"]\n",
    "\n",
    "sns.scatterplot(x='neuron', y='n_spikes', data=concat_SPO_aggr_neuron_33[concat_SPO_aggr_neuron_33.attack == \"initial_state\"],\n",
    "                hue='attack', s=80, palette=[\"#C59434\"], alpha=1, marker=\"o\") #, style='dataset'\n",
    "\n",
    "sns.scatterplot(x='neuron', y='n_spikes', data=concat_SPO_aggr_neuron_33[concat_SPO_aggr_neuron_33.attack == \"SPO\"],\n",
    "                hue='attack', s=80, palette=[\"#092C48\"], alpha=1, marker=\"x\") #, style='dataset'\n",
    "\n",
    "plt.legend(loc='upper left')\n",
    "plt.show()"
   ]
  },
  {
   "cell_type": "markdown",
   "metadata": {},
   "source": [
    "#### Time instant aggregation: Scatter plot"
   ]
  },
  {
   "cell_type": "code",
   "execution_count": null,
   "metadata": {},
   "outputs": [],
   "source": [
    "# (0,0)\n",
    "#sns.scatterplot(x='n_spikes', y='neuron', data=concat_SPO_aggr_time_33[(concat_SPO_aggr_time_33.n_spikes >= MIN_00) & (concat_SPO_aggr_time_33.n_spikes <= MAX_00)],\n",
    "#                hue='attack', s=80, palette=[\"#C59434\", \"#092c48\"], alpha=0.8) # style='dataset', markers=[\"o\", \"X\"]\n",
    "\n",
    "sns.scatterplot(x='n_spikes', y='neuron', data=concat_SPO_aggr_time_33[(concat_SPO_aggr_time_33.attack == \"initial_state\") & (concat_SPO_aggr_time_33.n_spikes >= MIN_00) & (concat_SPO_aggr_time_33.n_spikes <= MAX_00)],\n",
    "                hue='attack', s=80, palette=[\"#C59434\"], alpha=1, marker=\"o\") #, style='dataset'\n",
    "\n",
    "sns.scatterplot(x='n_spikes', y='neuron', data=concat_SPO_aggr_time_33[(concat_SPO_aggr_time_33.attack == \"SPO\") & (concat_SPO_aggr_time_33.n_spikes >= MIN_00) & (concat_SPO_aggr_time_33.n_spikes <= MAX_00)],\n",
    "                hue='attack', s=80, palette=[\"#092C48\"], alpha=1, marker=\"x\") #, style='dataset'\n",
    "\n",
    "plt.legend(loc='upper left')\n",
    "plt.show()"
   ]
  },
  {
   "cell_type": "code",
   "execution_count": null,
   "metadata": {},
   "outputs": [],
   "source": [
    "# (3,3)\n",
    "#sns.scatterplot(x='n_spikes', y='neuron', data=concat_SPO_aggr_time_33[(concat_SPO_aggr_time_33.n_spikes >= MIN_33) & (concat_SPO_aggr_time_33.n_spikes <= MAX_33)],\n",
    "#                hue='attack', s=80, palette=[\"#C59434\", \"#092c48\"], alpha=0.8) # style='dataset', markers=[\"o\", \"X\"]\n",
    "\n",
    "sns.scatterplot(x='n_spikes', y='neuron', data=concat_SPO_aggr_time_33[(concat_SPO_aggr_time_33.attack == \"initial_state\") & (concat_SPO_aggr_time_33.n_spikes >= MIN_33) & (concat_SPO_aggr_time_33.n_spikes <= MAX_33)],\n",
    "                hue='attack', s=80, palette=[\"#C59434\"], alpha=1, marker=\"o\") #, style='dataset'\n",
    "\n",
    "sns.scatterplot(x='n_spikes', y='neuron', data=concat_SPO_aggr_time_33[(concat_SPO_aggr_time_33.attack == \"SPO\") & (concat_SPO_aggr_time_33.n_spikes >= MIN_33) & (concat_SPO_aggr_time_33.n_spikes <= MAX_33)],\n",
    "                hue='attack', s=80, palette=[\"#092C48\"], alpha=1, marker=\"x\") #, style='dataset'\n",
    "\n",
    "plt.legend(loc='upper left')\n",
    "plt.show()"
   ]
  },
  {
   "cell_type": "code",
   "execution_count": null,
   "metadata": {},
   "outputs": [],
   "source": [
    "# (5,5)\n",
    "#sns.scatterplot(x='n_spikes', y='neuron', data=concat_SPO_aggr_time_33[(concat_SPO_aggr_time_33.n_spikes >= MIN_55) & (concat_SPO_aggr_time_33.n_spikes <= MAX_55)],\n",
    "#                hue='attack', s=80, palette=[\"#C59434\", \"#092c48\"], alpha=0.8) # style='dataset', markers=[\"o\", \"X\"]\n",
    "\n",
    "sns.scatterplot(x='n_spikes', y='neuron', data=concat_SPO_aggr_time_33[(concat_SPO_aggr_time_33.attack == \"initial_state\") & (concat_SPO_aggr_time_33.n_spikes >= MIN_55) & (concat_SPO_aggr_time_33.n_spikes <= MAX_55)],\n",
    "                hue='attack', s=80, palette=[\"#C59434\"], alpha=1, marker=\"o\") #, style='dataset'\n",
    "\n",
    "sns.scatterplot(x='n_spikes', y='neuron', data=concat_SPO_aggr_time_33[(concat_SPO_aggr_time_33.attack == \"SPO\") & (concat_SPO_aggr_time_33.n_spikes >= MIN_55) & (concat_SPO_aggr_time_33.n_spikes <= MAX_55)],\n",
    "                hue='attack', s=80, palette=[\"#092C48\"], alpha=1, marker=\"x\") #, style='dataset'\n",
    "\n",
    "plt.legend(loc='upper left')\n",
    "plt.show()"
   ]
  },
  {
   "cell_type": "markdown",
   "metadata": {},
   "source": [
    "#### Attack at (5,5)"
   ]
  },
  {
   "cell_type": "markdown",
   "metadata": {},
   "source": [
    "#### Raster plot"
   ]
  },
  {
   "cell_type": "code",
   "execution_count": null,
   "metadata": {},
   "outputs": [],
   "source": [
    "fig,ax = plt.subplots()\n",
    "\n",
    "ax = sns.scatterplot(x='time_delta', y='neuron', data=concat_SPO_55,\n",
    "                hue='attack', palette=[\"#C59434\", \"#092c48\"], alpha=0.7) #, style='dataset'\n",
    "\n",
    "#sns.scatterplot(x='time_delta', y='neuron', data=data_initial_state,\n",
    "#                hue='attack', palette=[\"#C59434\"], alpha=1, marker=\"o\") #, style='dataset'\n",
    "\n",
    "#sns.scatterplot(x='time_delta', y='neuron', data=data_SPO_55,\n",
    "#                hue='attack', palette=[\"#092C48\"], alpha=1, marker=\"x\") #, style='dataset'\n",
    "\n",
    "cont = 25\n",
    "for a in range(0, 28):\n",
    "    plt.axvline(x=cont*a, color=\"red\")\n",
    "\n",
    "ax.xaxis.set_major_locator(ticker.MultipleLocator(25))"
   ]
  },
  {
   "cell_type": "code",
   "execution_count": null,
   "metadata": {
    "scrolled": false
   },
   "outputs": [],
   "source": [
    "# (0,0)\n",
    "#sns.scatterplot(x='time_delta', y='neuron', data=concat_SPO_55[(concat_SPO_55.time_delta >= MIN_00) & (concat_SPO_55.time_delta <= MAX_00)],\n",
    "#                hue='attack', palette=[\"#C59434\", \"#092C48\"], alpha=0.5) #, style='dataset'\n",
    "\n",
    "sns.scatterplot(x='time_delta', y='neuron', data=data_initial_state[(data_initial_state.time_delta >= MIN_00) & (data_initial_state.time_delta <= MAX_00)],\n",
    "                hue='attack', s=80, palette=[\"#C59434\"], alpha=1, marker=\"o\") #, style='dataset'\n",
    "\n",
    "sns.scatterplot(x='time_delta', y='neuron', data=data_SPO_55[(data_SPO_55.time_delta >= MIN_00) & (data_SPO_55.time_delta <= MAX_00)],\n",
    "                hue='attack', s=80, palette=[\"#092C48\"], alpha=1, marker=\"x\") #, style='dataset'"
   ]
  },
  {
   "cell_type": "code",
   "execution_count": null,
   "metadata": {},
   "outputs": [],
   "source": [
    "# (3,3)\n",
    "#sns.scatterplot(x='time_delta', y='neuron', data=concat_SPO_55[(concat_SPO_55.time_delta >= MIN_33) & (concat_SPO_55.time_delta <= MAX_33)],\n",
    "#                hue='attack', palette=[\"#C59434\", \"#092C48\"], alpha=0.5) #, style='dataset'\n",
    "\n",
    "sns.scatterplot(x='time_delta', y='neuron', data=data_initial_state[(data_initial_state.time_delta >= MIN_33) & (data_initial_state.time_delta <= MAX_33)],\n",
    "                hue='attack', s=80, palette=[\"#C59434\"], alpha=1, marker=\"o\") #, style='dataset'\n",
    "\n",
    "sns.scatterplot(x='time_delta', y='neuron', data=data_SPO_55[(data_SPO_55.time_delta >= MIN_33) & (data_SPO_55.time_delta <= MAX_33)],\n",
    "                hue='attack', s=80, palette=[\"#092C48\"], alpha=1, marker=\"x\") #, style='dataset'"
   ]
  },
  {
   "cell_type": "code",
   "execution_count": null,
   "metadata": {},
   "outputs": [],
   "source": [
    "# (5,5)\n",
    "#sns.scatterplot(x='time_delta', y='neuron', data=concat_SPO_55[(concat_SPO_55.time_delta >= MIN_55) & (concat_JAM_55.time_delta <= MAX_55)],\n",
    "#                hue='attack', palette=[\"#C59434\", \"#092C48\"], alpha=0.5) #, style='dataset'\n",
    "\n",
    "sns.scatterplot(x='time_delta', y='neuron', data=data_initial_state[(data_initial_state.time_delta >= MIN_55) & (data_initial_state.time_delta <= MAX_55)],\n",
    "                hue='attack', s=80, palette=[\"#C59434\"], alpha=1, marker=\"o\") #, style='dataset'\n",
    "\n",
    "sns.scatterplot(x='time_delta', y='neuron', data=data_SPO_55[(data_SPO_55.time_delta >= MIN_55) & (data_SPO_55.time_delta <= MAX_55)],\n",
    "                hue='attack', s=80, palette=[\"#092C48\"], alpha=1, marker=\"x\") #, style='dataset'"
   ]
  },
  {
   "cell_type": "markdown",
   "metadata": {},
   "source": [
    "#### Neuron aggregation: Scatter plot"
   ]
  },
  {
   "cell_type": "code",
   "execution_count": null,
   "metadata": {},
   "outputs": [],
   "source": [
    "#sns.scatterplot(x='neuron', y='n_spikes', data=concat_SPO_aggr_neuron_55,\n",
    "#                hue='attack', s=80, palette=[\"#C59434\", \"#092c48\"], alpha=0.6) # style='dataset', markers=[\"o\", \"X\"]\n",
    "\n",
    "sns.scatterplot(x='neuron', y='n_spikes', data=concat_SPO_aggr_neuron_55[concat_SPO_aggr_neuron_55.attack == \"initial_state\"],\n",
    "                hue='attack', s=80, palette=[\"#C59434\"], alpha=1, marker=\"o\") #, style='dataset'\n",
    "\n",
    "sns.scatterplot(x='neuron', y='n_spikes', data=concat_SPO_aggr_neuron_55[concat_SPO_aggr_neuron_55.attack == \"SPO\"],\n",
    "                hue='attack', s=80, palette=[\"#092C48\"], alpha=1, marker=\"x\") #, style='dataset'\n",
    "\n",
    "plt.legend(loc='upper left')\n",
    "plt.show()"
   ]
  },
  {
   "cell_type": "markdown",
   "metadata": {},
   "source": [
    "#### Time instant aggregation: Scatter plot"
   ]
  },
  {
   "cell_type": "code",
   "execution_count": null,
   "metadata": {},
   "outputs": [],
   "source": [
    "# (0,0)\n",
    "#sns.scatterplot(x='n_spikes', y='neuron', data=concat_SPO_aggr_time_55[(concat_SPO_aggr_time_55.n_spikes >= MIN_00) & (concat_SPO_aggr_time_55.n_spikes <= MAX_00)],\n",
    "#                hue='attack', s=80, palette=[\"#C59434\", \"#092c48\"], alpha=0.8) # style='dataset', markers=[\"o\", \"X\"]\n",
    "\n",
    "sns.scatterplot(x='n_spikes', y='neuron', data=concat_SPO_aggr_time_55[(concat_SPO_aggr_time_55.attack == \"initial_state\") & (concat_SPO_aggr_time_55.n_spikes >= MIN_00) & (concat_SPO_aggr_time_55.n_spikes <= MAX_00)],\n",
    "                hue='attack', s=80, palette=[\"#C59434\"], alpha=1, marker=\"o\") #, style='dataset'\n",
    "\n",
    "sns.scatterplot(x='n_spikes', y='neuron', data=concat_SPO_aggr_time_55[(concat_SPO_aggr_time_55.attack == \"SPO\") & (concat_SPO_aggr_time_55.n_spikes >= MIN_00) & (concat_SPO_aggr_time_55.n_spikes <= MAX_00)],\n",
    "                hue='attack', s=80, palette=[\"#092C48\"], alpha=1, marker=\"x\") #, style='dataset'\n",
    "\n",
    "plt.legend(loc='upper left')\n",
    "plt.show()"
   ]
  },
  {
   "cell_type": "code",
   "execution_count": null,
   "metadata": {},
   "outputs": [],
   "source": [
    "# (3,3)\n",
    "#sns.scatterplot(x='n_spikes', y='neuron', data=concat_SPO_aggr_time_55[(concat_SPO_aggr_time_55.n_spikes >= MIN_33) & (concat_SPO_aggr_time_55.n_spikes <= MAX_33)],\n",
    "#                hue='attack', s=80, palette=[\"#C59434\", \"#092c48\"], alpha=0.8) # style='dataset', markers=[\"o\", \"X\"]\n",
    "\n",
    "sns.scatterplot(x='n_spikes', y='neuron', data=concat_SPO_aggr_time_55[(concat_SPO_aggr_time_55.attack == \"initial_state\") & (concat_SPO_aggr_time_55.n_spikes >= MIN_33) & (concat_SPO_aggr_time_55.n_spikes <= MAX_33)],\n",
    "                hue='attack', s=80, palette=[\"#C59434\"], alpha=1, marker=\"o\") #, style='dataset'\n",
    "\n",
    "sns.scatterplot(x='n_spikes', y='neuron', data=concat_SPO_aggr_time_55[(concat_SPO_aggr_time_55.attack == \"SPO\") & (concat_SPO_aggr_time_55.n_spikes >= MIN_33) & (concat_SPO_aggr_time_55.n_spikes <= MAX_33)],\n",
    "                hue='attack', s=80, palette=[\"#092C48\"], alpha=1, marker=\"x\") #, style='dataset'\n",
    "\n",
    "plt.legend(loc='upper left')\n",
    "plt.show()"
   ]
  },
  {
   "cell_type": "code",
   "execution_count": null,
   "metadata": {
    "scrolled": false
   },
   "outputs": [],
   "source": [
    "# (5,5)\n",
    "#sns.scatterplot(x='n_spikes', y='neuron', data=concat_SPO_aggr_time_55[(concat_SPO_aggr_time_55.n_spikes >= MIN_55) & (concat_SPO_aggr_time_55.n_spikes <= MAX_55)],\n",
    "#                hue='attack', s=80, palette=[\"#C59434\", \"#092c48\"], alpha=0.8) # style='dataset', markers=[\"o\", \"X\"]\n",
    "\n",
    "sns.scatterplot(x='n_spikes', y='neuron', data=concat_SPO_aggr_time_55[(concat_SPO_aggr_time_55.attack == \"initial_state\") & (concat_SPO_aggr_time_55.n_spikes >= MIN_55) & (concat_SPO_aggr_time_55.n_spikes <= MAX_55)],\n",
    "                hue='attack', s=80, palette=[\"#C59434\"], alpha=1, marker=\"o\") #, style='dataset'\n",
    "\n",
    "sns.scatterplot(x='n_spikes', y='neuron', data=concat_SPO_aggr_time_55[(concat_SPO_aggr_time_55.attack == \"SPO\") & (concat_SPO_aggr_time_55.n_spikes >= MIN_55) & (concat_SPO_aggr_time_55.n_spikes <= MAX_55)],\n",
    "                hue='attack', s=80, palette=[\"#092C48\"], alpha=1, marker=\"x\") #, style='dataset'\n",
    "\n",
    "plt.legend(loc='upper left')\n",
    "plt.show()"
   ]
  },
  {
   "cell_type": "markdown",
   "metadata": {},
   "source": [
    "### Initial_state vs SYB"
   ]
  },
  {
   "cell_type": "markdown",
   "metadata": {},
   "source": [
    "#### Attack at (0,0)"
   ]
  },
  {
   "cell_type": "markdown",
   "metadata": {},
   "source": [
    "#### Raster plot"
   ]
  },
  {
   "cell_type": "code",
   "execution_count": null,
   "metadata": {},
   "outputs": [],
   "source": [
    "fig,ax = plt.subplots()\n",
    "\n",
    "ax = sns.scatterplot(x='time_delta', y='neuron', data=concat_SYB_00,\n",
    "                hue='attack', palette=[\"#C59434\", \"#092c48\"], alpha=0.7) #, style='dataset'\n",
    "\n",
    "#sns.scatterplot(x='time_delta', y='neuron', data=data_initial_state,\n",
    "#                hue='attack', palette=[\"#C59434\"], alpha=1, marker=\"o\") #, style='dataset'\n",
    "\n",
    "#sns.scatterplot(x='time_delta', y='neuron', data=data_SYB_00,\n",
    "#                hue='attack', palette=[\"#092C48\"], alpha=1, marker=\"x\") #, style='dataset'\n",
    "\n",
    "cont = 25\n",
    "for a in range(0, 28):\n",
    "    plt.axvline(x=cont*a, color=\"red\")\n",
    "\n",
    "ax.xaxis.set_major_locator(ticker.MultipleLocator(25))"
   ]
  },
  {
   "cell_type": "code",
   "execution_count": null,
   "metadata": {
    "scrolled": false
   },
   "outputs": [],
   "source": [
    "# (0,0)\n",
    "#sns.scatterplot(x='time_delta', y='neuron', data=concat_SYB_00[(concat_SPO_00.time_delta >= MIN_00) & (concat_SPO_00.time_delta <= MAX_00)],\n",
    "#                hue='attack', palette=[\"#C59434\", \"#092C48\"], alpha=0.5) #, style='dataset'\n",
    "\n",
    "sns.scatterplot(x='time_delta', y='neuron', data=data_initial_state[(data_initial_state.time_delta >= MIN_00) & (data_initial_state.time_delta <= MAX_00)],\n",
    "                hue='attack', s=80, palette=[\"#C59434\"], alpha=1, marker=\"o\") #, style='dataset'\n",
    "\n",
    "sns.scatterplot(x='time_delta', y='neuron', data=data_SYB_00[(data_SYB_00.time_delta >= MIN_00) & (data_SYB_00.time_delta <= MAX_00)],\n",
    "                hue='attack', s=80, palette=[\"#092C48\"], alpha=1, marker=\"x\") #, style='dataset'"
   ]
  },
  {
   "cell_type": "code",
   "execution_count": null,
   "metadata": {},
   "outputs": [],
   "source": [
    "# (3,3)\n",
    "#sns.scatterplot(x='time_delta', y='neuron', data=concat_SPO_00[(concat_SYB_00.time_delta >= MIN_33) & (concat_SYB_00.time_delta <= MAX_33)],\n",
    "#                hue='attack', palette=[\"#C59434\", \"#092C48\"], alpha=0.5) #, style='dataset'\n",
    "\n",
    "sns.scatterplot(x='time_delta', y='neuron', data=data_initial_state[(data_initial_state.time_delta >= MIN_33) & (data_initial_state.time_delta <= MAX_33)],\n",
    "                hue='attack', s=80, palette=[\"#C59434\"], alpha=1, marker=\"o\") #, style='dataset'\n",
    "\n",
    "sns.scatterplot(x='time_delta', y='neuron', data=data_SYB_00[(data_SYB_00.time_delta >= MIN_33) & (data_SYB_00.time_delta <= MAX_33)],\n",
    "                hue='attack', s=80, palette=[\"#092C48\"], alpha=1, marker=\"x\") #, style='dataset'"
   ]
  },
  {
   "cell_type": "code",
   "execution_count": null,
   "metadata": {},
   "outputs": [],
   "source": [
    "# (5,5)\n",
    "#sns.scatterplot(x='time_delta', y='neuron', data=concat_SYB_00[(concat_SYB_00.time_delta >= MIN_55) & (concat_SYB_00.time_delta <= MAX_55)],\n",
    "#                hue='attack', palette=[\"#C59434\", \"#092C48\"], alpha=0.5) #, style='dataset'\n",
    "\n",
    "sns.scatterplot(x='time_delta', y='neuron', data=data_initial_state[(data_initial_state.time_delta >= MIN_55) & (data_initial_state.time_delta <= MAX_55)],\n",
    "                hue='attack', s=80, palette=[\"#C59434\"], alpha=1, marker=\"o\") #, style='dataset'\n",
    "\n",
    "sns.scatterplot(x='time_delta', y='neuron', data=data_SYB_00[(data_SYB_00.time_delta >= MIN_55) & (data_SYB_00.time_delta <= MAX_55)],\n",
    "                hue='attack', s=80, palette=[\"#092C48\"], alpha=1, marker=\"x\") #, style='dataset'"
   ]
  },
  {
   "cell_type": "markdown",
   "metadata": {},
   "source": [
    "#### Neuron aggregation: Scatter plot"
   ]
  },
  {
   "cell_type": "code",
   "execution_count": null,
   "metadata": {},
   "outputs": [],
   "source": [
    "#sns.scatterplot(x='neuron', y='n_spikes', data=concat_SYB_aggr_neuron_00,\n",
    "#                hue='attack', s=80, palette=[\"#C59434\", \"#092c48\"], alpha=0.6) # style='dataset', markers=[\"o\", \"X\"]\n",
    "\n",
    "sns.scatterplot(x='neuron', y='n_spikes', data=concat_SYB_aggr_neuron_00[concat_SYB_aggr_neuron_00.attack == \"initial_state\"],\n",
    "                hue='attack', s=80, palette=[\"#C59434\"], alpha=1, marker=\"o\") #, style='dataset'\n",
    "\n",
    "sns.scatterplot(x='neuron', y='n_spikes', data=concat_SYB_aggr_neuron_00[concat_SYB_aggr_neuron_00.attack == \"SYB\"],\n",
    "                hue='attack', s=80, palette=[\"#092C48\"], alpha=1, marker=\"x\") #, style='dataset'\n",
    "\n",
    "plt.legend(loc='upper left')\n",
    "plt.show()"
   ]
  },
  {
   "cell_type": "markdown",
   "metadata": {},
   "source": [
    "#### Time instant aggregation: Scatter plot"
   ]
  },
  {
   "cell_type": "code",
   "execution_count": null,
   "metadata": {},
   "outputs": [],
   "source": [
    "# (0,0)\n",
    "#sns.scatterplot(x='n_spikes', y='neuron', data=concat_SYB_aggr_time_00[(concat_SYB_aggr_time_00.n_spikes >= MIN_00) & (concat_SYB_aggr_time_00.n_spikes <= MAX_00)],\n",
    "#                hue='attack', s=80, palette=[\"#C59434\", \"#092c48\"], alpha=0.8) # style='dataset', markers=[\"o\", \"X\"]\n",
    "\n",
    "sns.scatterplot(x='n_spikes', y='neuron', data=concat_SYB_aggr_time_00[(concat_SYB_aggr_time_00.attack == \"initial_state\") & (concat_SYB_aggr_time_00.n_spikes >= MIN_00) & (concat_SYB_aggr_time_00.n_spikes <= MAX_00)],\n",
    "                hue='attack', s=80, palette=[\"#C59434\"], alpha=1, marker=\"o\") #, style='dataset'\n",
    "\n",
    "sns.scatterplot(x='n_spikes', y='neuron', data=concat_SYB_aggr_time_00[(concat_SYB_aggr_time_00.attack == \"SYB\") & (concat_SYB_aggr_time_00.n_spikes >= MIN_00) & (concat_SYB_aggr_time_00.n_spikes <= MAX_00)],\n",
    "                hue='attack', s=80, palette=[\"#092C48\"], alpha=1, marker=\"x\") #, style='dataset'\n",
    "\n",
    "plt.legend(loc='upper left')\n",
    "plt.show()"
   ]
  },
  {
   "cell_type": "code",
   "execution_count": null,
   "metadata": {},
   "outputs": [],
   "source": [
    "# (3,3)\n",
    "#sns.scatterplot(x='n_spikes', y='neuron', data=concat_SYB_aggr_time_00[(concat_SYB_aggr_time_00.n_spikes >= MIN_33) & (concat_SYB_aggr_time_00.n_spikes <= MAX_33)],\n",
    "#                hue='attack', s=80, palette=[\"#C59434\", \"#092c48\"], alpha=0.8) # style='dataset', markers=[\"o\", \"X\"]\n",
    "\n",
    "sns.scatterplot(x='n_spikes', y='neuron', data=concat_SYB_aggr_time_00[(concat_SYB_aggr_time_00.attack == \"initial_state\") & (concat_SYB_aggr_time_00.n_spikes >= MIN_33) & (concat_SYB_aggr_time_00.n_spikes <= MAX_33)],\n",
    "                hue='attack', s=80, palette=[\"#C59434\"], alpha=1, marker=\"o\") #, style='dataset'\n",
    "concat_SYB_aggr_time_00\n",
    "sns.scatterplot(x='n_spikes', y='neuron', data=concat_SYB_aggr_time_00[(concat_SYB_aggr_time_00.attack == \"SYB\") & (concat_SYB_aggr_time_00.n_spikes >= MIN_33) & (concat_SYB_aggr_time_00.n_spikes <= MAX_33)],\n",
    "                hue='attack', s=80, palette=[\"#092C48\"], alpha=1, marker=\"x\") #, style='dataset'\n",
    "\n",
    "plt.legend(loc='upper left')\n",
    "plt.show()"
   ]
  },
  {
   "cell_type": "code",
   "execution_count": null,
   "metadata": {},
   "outputs": [],
   "source": [
    "# (5,5)\n",
    "#sns.scatterplot(x='n_spikes', y='neuron', data=concat_SYB_aggr_time_00[(concat_SYB_aggr_time_00.n_spikes >= MIN_55) & (concat_SYB_aggr_time_00.n_spikes <= MAX_55)],\n",
    "#                hue='attack', s=80, palette=[\"#C59434\", \"#092c48\"], alpha=0.8) # style='dataset', markers=[\"o\", \"X\"]\n",
    "\n",
    "sns.scatterplot(x='n_spikes', y='neuron', data=concat_SYB_aggr_time_00[(concat_SYB_aggr_time_00.attack == \"initial_state\") & (concat_SYB_aggr_time_00.n_spikes >= MIN_55) & (concat_SYB_aggr_time_00.n_spikes <= MAX_55)],\n",
    "                hue='attack', s=80, palette=[\"#C59434\"], alpha=1, marker=\"o\") #, style='dataset'\n",
    "\n",
    "sns.scatterplot(x='n_spikes', y='neuron', data=concat_SYB_aggr_time_00[(concat_SYB_aggr_time_00.attack == \"SYB\") & (concat_SYB_aggr_time_00.n_spikes >= MIN_55) & (concat_SYB_aggr_time_00.n_spikes <= MAX_55)],\n",
    "                hue='attack', s=80, palette=[\"#092C48\"], alpha=1, marker=\"x\") #, style='dataset'\n",
    "\n",
    "plt.legend(loc='upper left')\n",
    "plt.show()"
   ]
  },
  {
   "cell_type": "markdown",
   "metadata": {},
   "source": [
    "#### Attack at (3,3)"
   ]
  },
  {
   "cell_type": "markdown",
   "metadata": {},
   "source": [
    "#### Raster plot"
   ]
  },
  {
   "cell_type": "code",
   "execution_count": null,
   "metadata": {},
   "outputs": [],
   "source": [
    "fig,ax = plt.subplots()\n",
    "\n",
    "ax = sns.scatterplot(x='time_delta', y='neuron', data=concat_SYB_33,\n",
    "                hue='attack', palette=[\"#C59434\", \"#092c48\"], alpha=0.7) #, style='dataset'\n",
    "\n",
    "#sns.scatterplot(x='time_delta', y='neuron', data=data_initial_state,\n",
    "#                hue='attack', palette=[\"#C59434\"], alpha=1, marker=\"o\") #, style='dataset'\n",
    "\n",
    "#sns.scatterplot(x='time_delta', y='neuron', data=data_SYB_33,\n",
    "#                hue='attack', palette=[\"#092C48\"], alpha=1, marker=\"x\") #, style='dataset'\n",
    "\n",
    "cont = 25\n",
    "for a in range(0, 28):\n",
    "    plt.axvline(x=cont*a, color=\"red\")\n",
    "\n",
    "ax.xaxis.set_major_locator(ticker.MultipleLocator(25))"
   ]
  },
  {
   "cell_type": "code",
   "execution_count": null,
   "metadata": {
    "scrolled": false
   },
   "outputs": [],
   "source": [
    "# (0,0)\n",
    "#sns.scatterplot(x='time_delta', y='neuron', data=concat_SYB_00[(concat_SPO_00.time_delta >= MIN_00) & (concat_SPO_00.time_delta <= MAX_00)],\n",
    "#                hue='attack', palette=[\"#C59434\", \"#092C48\"], alpha=0.5) #, style='dataset'\n",
    "\n",
    "sns.scatterplot(x='time_delta', y='neuron', data=data_initial_state[(data_initial_state.time_delta >= MIN_00) & (data_initial_state.time_delta <= MAX_00)],\n",
    "                hue='attack', s=80, palette=[\"#C59434\"], alpha=1, marker=\"o\") #, style='dataset'\n",
    "\n",
    "sns.scatterplot(x='time_delta', y='neuron', data=data_SYB_33[(data_SYB_33.time_delta >= MIN_00) & (data_SYB_33.time_delta <= MAX_00)],\n",
    "                hue='attack', s=80, palette=[\"#092C48\"], alpha=1, marker=\"x\") #, style='dataset'"
   ]
  },
  {
   "cell_type": "code",
   "execution_count": null,
   "metadata": {},
   "outputs": [],
   "source": [
    "# (3,3)\n",
    "#sns.scatterplot(x='time_delta', y='neuron', data=concat_SYB_33[(concat_SPO_33.time_delta >= MIN_33) & (concat_SYB_33.time_delta <= MAX_33)],\n",
    "#                hue='attack', palette=[\"#C59434\", \"#092C48\"], alpha=0.5) #, style='dataset'\n",
    "\n",
    "sns.scatterplot(x='time_delta', y='neuron', data=data_initial_state[(data_initial_state.time_delta >= MIN_33) & (data_initial_state.time_delta <= MAX_33)],\n",
    "                hue='attack', s=80, palette=[\"#C59434\"], alpha=1, marker=\"o\") #, style='dataset'\n",
    "\n",
    "sns.scatterplot(x='time_delta', y='neuron', data=data_SYB_33[(data_SYB_33.time_delta >= MIN_33) & (data_SYB_33.time_delta <= MAX_33)],\n",
    "                hue='attack', s=80, palette=[\"#092C48\"], alpha=1, marker=\"x\") #, style='dataset'"
   ]
  },
  {
   "cell_type": "code",
   "execution_count": null,
   "metadata": {},
   "outputs": [],
   "source": [
    "# (5,5)\n",
    "#sns.scatterplot(x='time_delta', y='neuron', data=concat_SYB_33[(concat_SYB_33.time_delta >= MIN_55) & (concat_SYB_33.time_delta <= MAX_55)],\n",
    "#                hue='attack', palette=[\"#C59434\", \"#092C48\"], alpha=0.5) #, style='dataset'\n",
    "\n",
    "sns.scatterplot(x='time_delta', y='neuron', data=data_initial_state[(data_initial_state.time_delta >= MIN_55) & (data_initial_state.time_delta <= MAX_55)],\n",
    "                hue='attack', s=80, palette=[\"#C59434\"], alpha=1, marker=\"o\") #, style='dataset'\n",
    "\n",
    "sns.scatterplot(x='time_delta', y='neuron', data=data_SYB_33[(data_SYB_33.time_delta >= MIN_55) & (data_SYB_33.time_delta <= MAX_55)],\n",
    "                hue='attack', s=80, palette=[\"#092C48\"], alpha=1, marker=\"x\") #, style='dataset'"
   ]
  },
  {
   "cell_type": "markdown",
   "metadata": {},
   "source": [
    "#### Neuron aggregation: Scatter plot"
   ]
  },
  {
   "cell_type": "code",
   "execution_count": null,
   "metadata": {},
   "outputs": [],
   "source": [
    "#sns.scatterplot(x='neuron', y='n_spikes', data=concat_SYB_aggr_neuron_33,\n",
    "#                hue='attack', s=80, palette=[\"#C59434\", \"#092c48\"], alpha=0.6) # style='dataset', markers=[\"o\", \"X\"]\n",
    "\n",
    "sns.scatterplot(x='neuron', y='n_spikes', data=concat_SYB_aggr_neuron_33[concat_SYB_aggr_neuron_33.attack == \"initial_state\"],\n",
    "                hue='attack', s=80, palette=[\"#C59434\"], alpha=1, marker=\"o\") #, style='dataset'\n",
    "\n",
    "sns.scatterplot(x='neuron', y='n_spikes', data=concat_SYB_aggr_neuron_33[concat_SYB_aggr_neuron_33.attack == \"SYB\"],\n",
    "                hue='attack', s=80, palette=[\"#092C48\"], alpha=1, marker=\"x\") #, style='dataset'\n",
    "\n",
    "plt.legend(loc='upper left')\n",
    "plt.show()"
   ]
  },
  {
   "cell_type": "markdown",
   "metadata": {},
   "source": [
    "#### Time instant aggregation: Scatter plot"
   ]
  },
  {
   "cell_type": "code",
   "execution_count": null,
   "metadata": {},
   "outputs": [],
   "source": [
    "# (0,0)\n",
    "#sns.scatterplot(x='n_spikes', y='neuron', data=concat_SYB_aggr_time_33[(concat_SYB_aggr_time_33.n_spikes >= MIN_00) & (concat_SYB_aggr_time_33.n_spikes <= MAX_00)],\n",
    "#                hue='attack', s=80, palette=[\"#C59434\", \"#092c48\"], alpha=0.8) # style='dataset', markers=[\"o\", \"X\"]\n",
    "\n",
    "sns.scatterplot(x='n_spikes', y='neuron', data=concat_SYB_aggr_time_33[(concat_SYB_aggr_time_33.attack == \"initial_state\") & (concat_SYB_aggr_time_33.n_spikes >= MIN_00) & (concat_SYB_aggr_time_33.n_spikes <= MAX_00)],\n",
    "                hue='attack', s=80, palette=[\"#C59434\"], alpha=1, marker=\"o\") #, style='dataset'\n",
    "\n",
    "sns.scatterplot(x='n_spikes', y='neuron', data=concat_SYB_aggr_time_33[(concat_SYB_aggr_time_33.attack == \"SYB\") & (concat_SYB_aggr_time_33.n_spikes >= MIN_00) & (concat_SYB_aggr_time_33.n_spikes <= MAX_00)],\n",
    "                hue='attack', s=80, palette=[\"#092C48\"], alpha=1, marker=\"x\") #, style='dataset'\n",
    "\n",
    "plt.legend(loc='upper left')\n",
    "plt.show()"
   ]
  },
  {
   "cell_type": "code",
   "execution_count": null,
   "metadata": {},
   "outputs": [],
   "source": [
    "# (3,3)\n",
    "#sns.scatterplot(x='n_spikes', y='neuron', data=concat_SYB_aggr_time_33[(concat_SYB_aggr_time_33.n_spikes >= MIN_33) & (concat_SYB_aggr_time_33.n_spikes <= MAX_33)],\n",
    "#                hue='attack', s=80, palette=[\"#C59434\", \"#092c48\"], alpha=0.8) # style='dataset', markers=[\"o\", \"X\"]\n",
    "\n",
    "sns.scatterplot(x='n_spikes', y='neuron', data=concat_SYB_aggr_time_33[(concat_SYB_aggr_time_33.attack == \"initial_state\") & (concat_SYB_aggr_time_33.n_spikes >= MIN_33) & (concat_SYB_aggr_time_33.n_spikes <= MAX_33)],\n",
    "                hue='attack', s=80, palette=[\"#C59434\"], alpha=1, marker=\"o\") #, style='dataset'\n",
    "\n",
    "sns.scatterplot(x='n_spikes', y='neuron', data=concat_SYB_aggr_time_33[(concat_SYB_aggr_time_33.attack == \"SYB\") & (concat_SYB_aggr_time_33.n_spikes >= MIN_33) & (concat_SYB_aggr_time_33.n_spikes <= MAX_33)],\n",
    "                hue='attack', s=80, palette=[\"#092C48\"], alpha=1, marker=\"x\") #, style='dataset'\n",
    "\n",
    "plt.legend(loc='upper left')\n",
    "plt.show()"
   ]
  },
  {
   "cell_type": "code",
   "execution_count": null,
   "metadata": {},
   "outputs": [],
   "source": [
    "# (5,5)\n",
    "#sns.scatterplot(x='n_spikes', y='neuron', data=concat_SYB_aggr_time_33[(concat_SYB_aggr_time_33.n_spikes >= MIN_55) & (concat_SYB_aggr_time_33.n_spikes <= MAX_55)],\n",
    "#                hue='attack', s=80, palette=[\"#C59434\", \"#092c48\"], alpha=0.8) # style='dataset', markers=[\"o\", \"X\"]\n",
    "\n",
    "sns.scatterplot(x='n_spikes', y='neuron', data=concat_SYB_aggr_time_33[(concat_SYB_aggr_time_33.attack == \"initial_state\") & (concat_SYB_aggr_time_33.n_spikes >= MIN_55) & (concat_SYB_aggr_time_33.n_spikes <= MAX_55)],\n",
    "                hue='attack', s=80, palette=[\"#C59434\"], alpha=1, marker=\"o\") #, style='dataset'\n",
    "\n",
    "sns.scatterplot(x='n_spikes', y='neuron', data=concat_SYB_aggr_time_33[(concat_SYB_aggr_time_33.attack == \"SYB\") & (concat_SYB_aggr_time_33.n_spikes >= MIN_55) & (concat_SYB_aggr_time_33.n_spikes <= MAX_55)],\n",
    "                hue='attack', s=80, palette=[\"#092C48\"], alpha=1, marker=\"x\") #, style='dataset'\n",
    "\n",
    "plt.legend(loc='upper left')\n",
    "plt.show()"
   ]
  },
  {
   "cell_type": "markdown",
   "metadata": {},
   "source": [
    "#### Attack at (5,5)"
   ]
  },
  {
   "cell_type": "markdown",
   "metadata": {},
   "source": [
    "#### Raster plot"
   ]
  },
  {
   "cell_type": "code",
   "execution_count": null,
   "metadata": {},
   "outputs": [],
   "source": [
    "fig,ax = plt.subplots()\n",
    "\n",
    "ax = sns.scatterplot(x='time_delta', y='neuron', data=concat_SYB_55,\n",
    "                hue='attack', palette=[\"#C59434\", \"#092c48\"], alpha=0.7) #, style='dataset'\n",
    "\n",
    "#sns.scatterplot(x='time_delta', y='neuron', data=data_initial_state,\n",
    "#                hue='attack', palette=[\"#C59434\"], alpha=1, marker=\"o\") #, style='dataset'\n",
    "\n",
    "#sns.scatterplot(x='time_delta', y='neuron', data=data_SYB_55,\n",
    "#                hue='attack', palette=[\"#092C48\"], alpha=1, marker=\"x\") #, style='dataset'\n",
    "\n",
    "cont = 25\n",
    "for a in range(0, 28):\n",
    "    plt.axvline(x=cont*a, color=\"red\")\n",
    "\n",
    "ax.xaxis.set_major_locator(ticker.MultipleLocator(25))"
   ]
  },
  {
   "cell_type": "code",
   "execution_count": null,
   "metadata": {
    "scrolled": false
   },
   "outputs": [],
   "source": [
    "# (0,0)\n",
    "#sns.scatterplot(x='time_delta', y='neuron', data=concat_SYB_55[(concat_SYB_55.time_delta >= MIN_00) & (concat_SYB_55.time_delta <= MAX_00)],\n",
    "#                hue='attack', palette=[\"#C59434\", \"#092C48\"], alpha=0.5) #, style='dataset'\n",
    "\n",
    "sns.scatterplot(x='time_delta', y='neuron', data=data_initial_state[(data_initial_state.time_delta >= MIN_00) & (data_initial_state.time_delta <= MAX_00)],\n",
    "                hue='attack', s=80, palette=[\"#C59434\"], alpha=1, marker=\"o\") #, style='dataset'\n",
    "\n",
    "sns.scatterplot(x='time_delta', y='neuron', data=data_SYB_55[(data_SYB_55.time_delta >= MIN_00) & (data_SYB_55.time_delta <= MAX_00)],\n",
    "                hue='attack', s=80, palette=[\"#092C48\"], alpha=1, marker=\"x\") #, style='dataset'"
   ]
  },
  {
   "cell_type": "code",
   "execution_count": null,
   "metadata": {},
   "outputs": [],
   "source": [
    "# (3,3)\n",
    "#sns.scatterplot(x='time_delta', y='neuron', data=concat_SYB_55[(concat_SYB_55.time_delta >= MIN_33) & (concat_SYB_55.time_delta <= MAX_33)],\n",
    "#                hue='attack', palette=[\"#C59434\", \"#092C48\"], alpha=0.5) #, style='dataset'\n",
    "\n",
    "sns.scatterplot(x='time_delta', y='neuron', data=data_initial_state[(data_initial_state.time_delta >= MIN_33) & (data_initial_state.time_delta <= MAX_33)],\n",
    "                hue='attack', s=80, palette=[\"#C59434\"], alpha=1, marker=\"o\") #, style='dataset'\n",
    "\n",
    "sns.scatterplot(x='time_delta', y='neuron', data=data_SYB_55[(data_SYB_55.time_delta >= MIN_33) & (data_SYB_55.time_delta <= MAX_33)],\n",
    "                hue='attack', s=80, palette=[\"#092C48\"], alpha=1, marker=\"x\") #, style='dataset'"
   ]
  },
  {
   "cell_type": "code",
   "execution_count": null,
   "metadata": {},
   "outputs": [],
   "source": [
    "# (5,5)\n",
    "#sns.scatterplot(x='time_delta', y='neuron', data=concat_SYB_55[(concat_SYB_55.time_delta >= MIN_55) & (concat_JYB_55.time_delta <= MAX_55)],\n",
    "#                hue='attack', palette=[\"#C59434\", \"#092C48\"], alpha=0.5) #, style='dataset'\n",
    "\n",
    "sns.scatterplot(x='time_delta', y='neuron', data=data_initial_state[(data_initial_state.time_delta >= MIN_55) & (data_initial_state.time_delta <= MAX_55)],\n",
    "                hue='attack', s=80, palette=[\"#C59434\"], alpha=1, marker=\"o\") #, style='dataset'\n",
    "\n",
    "sns.scatterplot(x='time_delta', y='neuron', data=data_SYB_55[(data_SYB_55.time_delta >= MIN_55) & (data_SYB_55.time_delta <= MAX_55)],\n",
    "                hue='attack', s=80, palette=[\"#092C48\"], alpha=1, marker=\"x\") #, style='dataset'"
   ]
  },
  {
   "cell_type": "markdown",
   "metadata": {},
   "source": [
    "#### Neuron aggregation: Scatter plot"
   ]
  },
  {
   "cell_type": "code",
   "execution_count": null,
   "metadata": {},
   "outputs": [],
   "source": [
    "#sns.scatterplot(x='neuron', y='n_spikes', data=concat_SYB_aggr_neuron_55,\n",
    "#                hue='attack', s=80, palette=[\"#C59434\", \"#092c48\"], alpha=0.6) # style='dataset', markers=[\"o\", \"X\"]\n",
    "\n",
    "sns.scatterplot(x='neuron', y='n_spikes', data=concat_SYB_aggr_neuron_55[concat_SYB_aggr_neuron_55.attack == \"initial_state\"],\n",
    "                hue='attack', s=80, palette=[\"#C59434\"], alpha=1, marker=\"o\") #, style='dataset'\n",
    "\n",
    "sns.scatterplot(x='neuron', y='n_spikes', data=concat_SYB_aggr_neuron_55[concat_SYB_aggr_neuron_55.attack == \"SYB\"],\n",
    "                hue='attack', s=80, palette=[\"#092C48\"], alpha=1, marker=\"x\") #, style='dataset'\n",
    "\n",
    "plt.legend(loc='upper left')\n",
    "plt.show()"
   ]
  },
  {
   "cell_type": "markdown",
   "metadata": {},
   "source": [
    "#### Time instant aggregation: Scatter plot"
   ]
  },
  {
   "cell_type": "code",
   "execution_count": null,
   "metadata": {},
   "outputs": [],
   "source": [
    "# (0,0)\n",
    "#sns.scatterplot(x='n_spikes', y='neuron', data=concat_SYB_aggr_time_55[(concat_SYB_aggr_time_55.n_spikes >= MIN_00) & (concat_SYB_aggr_time_55.n_spikes <= MAX_00)],\n",
    "#                hue='attack', s=80, palette=[\"#C59434\", \"#092c48\"], alpha=0.8) # style='dataset', markers=[\"o\", \"X\"]\n",
    "\n",
    "sns.scatterplot(x='n_spikes', y='neuron', data=concat_SYB_aggr_time_55[(concat_SYB_aggr_time_55.attack == \"initial_state\") & (concat_SYB_aggr_time_55.n_spikes >= MIN_00) & (concat_SYB_aggr_time_55.n_spikes <= MAX_00)],\n",
    "                hue='attack', s=80, palette=[\"#C59434\"], alpha=1, marker=\"o\") #, style='dataset'\n",
    "\n",
    "sns.scatterplot(x='n_spikes', y='neuron', data=concat_SYB_aggr_time_55[(concat_SYB_aggr_time_55.attack == \"SYB\") & (concat_SYB_aggr_time_55.n_spikes >= MIN_00) & (concat_SYB_aggr_time_55.n_spikes <= MAX_00)],\n",
    "                hue='attack', s=80, palette=[\"#092C48\"], alpha=1, marker=\"x\") #, style='dataset'\n",
    "\n",
    "plt.legend(loc='upper left')\n",
    "plt.show()"
   ]
  },
  {
   "cell_type": "code",
   "execution_count": null,
   "metadata": {},
   "outputs": [],
   "source": [
    "# (3,3)\n",
    "#sns.scatterplot(x='n_spikes', y='neuron', data=concat_SYB_aggr_time_55[(concat_SYB_aggr_time_55.n_spikes >= MIN_33) & (concat_SPO_aggr_time_55.n_spikes <= MAX_33)],\n",
    "#                hue='attack', s=80, palette=[\"#C59434\", \"#092c48\"], alpha=0.8) # style='dataset', markers=[\"o\", \"X\"]\n",
    "\n",
    "sns.scatterplot(x='n_spikes', y='neuron', data=concat_SYB_aggr_time_55[(concat_SYB_aggr_time_55.attack == \"initial_state\") & (concat_SYB_aggr_time_55.n_spikes >= MIN_33) & (concat_SYB_aggr_time_55.n_spikes <= MAX_33)],\n",
    "                hue='attack', s=80, palette=[\"#C59434\"], alpha=1, marker=\"o\") #, style='dataset'\n",
    "\n",
    "sns.scatterplot(x='n_spikes', y='neuron', data=concat_SYB_aggr_time_55[(concat_SYB_aggr_time_55.attack == \"SYB\") & (concat_SYB_aggr_time_55.n_spikes >= MIN_33) & (concat_SYB_aggr_time_55.n_spikes <= MAX_33)],\n",
    "                hue='attack', s=80, palette=[\"#092C48\"], alpha=1, marker=\"x\") #, style='dataset'\n",
    "\n",
    "plt.legend(loc='upper left')\n",
    "plt.show()"
   ]
  },
  {
   "cell_type": "code",
   "execution_count": null,
   "metadata": {
    "scrolled": false
   },
   "outputs": [],
   "source": [
    "# (5,5)\n",
    "#sns.scatterplot(x='n_spikes', y='neuron', data=concat_SYB_aggr_time_55[(concat_SYB_aggr_time_55.n_spikes >= MIN_55) & (concat_SYB_aggr_time_55.n_spikes <= MAX_55)],\n",
    "#                hue='attack', s=80, palette=[\"#C59434\", \"#092c48\"], alpha=0.8) # style='dataset', markers=[\"o\", \"X\"]\n",
    "\n",
    "sns.scatterplot(x='n_spikes', y='neuron', data=concat_SYB_aggr_time_55[(concat_SYB_aggr_time_55.attack == \"initial_state\") & (concat_SYB_aggr_time_55.n_spikes >= MIN_55) & (concat_SYB_aggr_time_55.n_spikes <= MAX_55)],\n",
    "                hue='attack', s=80, palette=[\"#C59434\"], alpha=1, marker=\"o\") #, style='dataset'\n",
    "\n",
    "sns.scatterplot(x='n_spikes', y='neuron', data=concat_SYB_aggr_time_55[(concat_SYB_aggr_time_55.attack == \"SYB\") & (concat_SYB_aggr_time_55.n_spikes >= MIN_55) & (concat_SYB_aggr_time_55.n_spikes <= MAX_55)],\n",
    "                hue='attack', s=80, palette=[\"#092C48\"], alpha=1, marker=\"x\") #, style='dataset'\n",
    "\n",
    "plt.legend(loc='upper left')\n",
    "plt.show()"
   ]
  },
  {
   "cell_type": "markdown",
   "metadata": {},
   "source": [
    "### Statistics"
   ]
  },
  {
   "cell_type": "markdown",
   "metadata": {},
   "source": [
    "##### Complete Layer 1"
   ]
  },
  {
   "cell_type": "code",
   "execution_count": null,
   "metadata": {},
   "outputs": [],
   "source": [
    "# Total number of spikes\n",
    "l1_initial_nSpikes = data_initial_state[data_initial_state.neuron < MAX_L1].count()[\"neuron\"]\n",
    "l1_SCA_nSpikes = data_SCA[data_SCA.neuron < MAX_L1].count()[\"neuron\"]\n",
    "l1_FLO_nSpikes_00 = data_FLO_00[data_FLO_00.neuron < MAX_L1].count()[\"neuron\"]\n",
    "\n",
    "# Mean of spikes (over the total neurons of the layer)\n",
    "l1_initial_mean_spikes = d_initial_aggr_neuron[d_initial_aggr_neuron.neuron < MAX_L1][\"n_spikes\"].mean()\n",
    "l1_SCA_mean_spikes = d_SCA_aggr_neuron[d_SCA_aggr_neuron.neuron < MAX_L1][\"n_spikes\"].mean()\n",
    "l1_FLO_mean_spikes_00 = d_FLO_aggr_neuron_00[d_FLO_aggr_neuron_00.neuron < MAX_L1][\"n_spikes\"].mean()\n",
    "\n",
    "# Standard deviation (over the total neurons of the layer)\n",
    "l1_initial_std_spikes = d_initial_aggr_neuron[d_initial_aggr_neuron.neuron < MAX_L1][\"n_spikes\"].std()\n",
    "l1_SCA_std_spikes = d_SCA_aggr_neuron[d_SCA_aggr_neuron.neuron < MAX_L1][\"n_spikes\"].std()\n",
    "l1_FLO_std_spikes_00 = d_FLO_aggr_neuron_00[d_FLO_aggr_neuron_00.neuron < MAX_L1][\"n_spikes\"].std()\n",
    "\n",
    "# Percentage of shifts between the attack and normal behaviour\n",
    "l1_initial_nSpikes_join = data_initial_state[data_initial_state.neuron < MAX_L1][[\"attack\", \"time_delta\", \"neuron\"]].copy()\n",
    "\n",
    "l1_SCA_nSpikes_join = data_SCA[data_SCA.neuron < MAX_L1][[\"attack\", \"time_delta\", \"neuron\"]].copy()\n",
    "l1_join_initial_SCA_shifts = pd.merge(l1_initial_nSpikes_join, l1_SCA_nSpikes_join,  how='left', left_on=['time_delta','neuron'], right_on = ['time_delta','neuron'])\n",
    "l1_join_initial_SCA_shifts = l1_join_initial_SCA_shifts.fillna(0)\n",
    "l1_n_shifts_initial_SCA = l1_join_initial_SCA_shifts[l1_join_initial_SCA_shifts.attack_y == 0].count()[\"neuron\"]\n",
    "l1_percent_shifts_initial_SCA = round((l1_n_shifts_initial_SCA/l1_initial_nSpikes)*100,2)\n",
    "\n",
    "l1_FLO_nSpikes_join_00 = data_FLO_00[data_FLO_00.neuron < MAX_L1][[\"attack\", \"time_delta\", \"neuron\"]].copy()\n",
    "l1_join_initial_FLO_shifts_00 = pd.merge(l1_initial_nSpikes_join, l1_FLO_nSpikes_join_00,  how='left', left_on=['time_delta','neuron'], right_on = ['time_delta','neuron'])\n",
    "l1_join_initial_FLO_shifts_00 = l1_join_initial_FLO_shifts_00.fillna(0)\n",
    "l1_n_shifts_initial_FLO_00 = l1_join_initial_FLO_shifts_00[l1_join_initial_FLO_shifts_00.attack_y == 0].count()[\"neuron\"]\n",
    "l1_percent_shifts_initial_FLO_00 = round((l1_n_shifts_initial_FLO_00/l1_initial_nSpikes)*100,2)\n",
    "\n",
    "# List of neurons shifted in this layer\n",
    "l1_FLO_shifted_neurons_00 = l1_join_initial_FLO_shifts_00[l1_join_initial_FLO_shifts_00.attack_y == 0][\"neuron\"].unique()"
   ]
  },
  {
   "cell_type": "markdown",
   "metadata": {},
   "source": [
    "##### Complete Layer 2"
   ]
  },
  {
   "cell_type": "code",
   "execution_count": null,
   "metadata": {},
   "outputs": [],
   "source": [
    "# Total number of spikes\n",
    "l2_initial_nSpikes = data_initial_state[(data_initial_state.neuron >= MAX_L1) & (data_initial_state.neuron < MAX_L2)].count()[\"neuron\"]\n",
    "l2_SCA_nSpikes = data_SCA[(data_SCA.neuron >= MAX_L1) & (data_SCA.neuron < MAX_L2)].count()[\"neuron\"]\n",
    "l2_FLO_nSpikes_00 = data_FLO_00[(data_FLO_00.neuron >= MAX_L1) & (data_FLO_00.neuron < MAX_L2)].count()[\"neuron\"]\n",
    "\n",
    "# Mean of spikes (over the total neurons of the layer)\n",
    "l2_initial_mean_spikes = d_initial_aggr_neuron[(d_initial_aggr_neuron.neuron >= MAX_L1) & (d_initial_aggr_neuron.neuron < MAX_L2)][\"n_spikes\"].mean()\n",
    "l2_SCA_mean_spikes = d_SCA_aggr_neuron[(d_SCA_aggr_neuron.neuron >= MAX_L1) & (d_SCA_aggr_neuron.neuron < MAX_L2)][\"n_spikes\"].mean()\n",
    "l2_FLO_mean_spikes_00 = d_FLO_aggr_neuron_00[(d_FLO_aggr_neuron_00.neuron >= MAX_L1) & (d_FLO_aggr_neuron_00.neuron < MAX_L2)][\"n_spikes\"].mean()\n",
    "\n",
    "# Standard deviation (over the total neurons of the layer)\n",
    "l2_initial_std_spikes = d_initial_aggr_neuron[(d_initial_aggr_neuron.neuron >= MAX_L1) & (d_initial_aggr_neuron.neuron < MAX_L2)][\"n_spikes\"].std()\n",
    "l2_SCA_std_spikes = d_SCA_aggr_neuron[(d_SCA_aggr_neuron.neuron >= MAX_L1) & (d_SCA_aggr_neuron.neuron < MAX_L2)][\"n_spikes\"].std()\n",
    "l2_FLO_std_spikes_00 = d_FLO_aggr_neuron_00[(d_FLO_aggr_neuron_00.neuron >= MAX_L1) & (d_FLO_aggr_neuron_00.neuron < MAX_L2)][\"n_spikes\"].std()\n",
    "\n",
    "# Percentage of shifts between the attack and normal behaviour\n",
    "l2_initial_nSpikes_join = data_initial_state[(data_initial_state.neuron >= MAX_L1) & (data_initial_state.neuron < MAX_L2)][[\"attack\", \"time_delta\", \"neuron\"]].copy()\n",
    "\n",
    "l2_SCA_nSpikes_join = data_SCA[(data_SCA.neuron >= MAX_L1) & (data_SCA.neuron < MAX_L2)][[\"attack\", \"time_delta\", \"neuron\"]].copy()\n",
    "l2_join_initial_SCA_shifts = pd.merge(l2_initial_nSpikes_join, l2_SCA_nSpikes_join,  how='left', left_on=['time_delta','neuron'], right_on = ['time_delta','neuron'])\n",
    "l2_join_initial_SCA_shifts = l2_join_initial_SCA_shifts.fillna(0)\n",
    "l2_n_shifts_initial_SCA = l2_join_initial_SCA_shifts[l2_join_initial_SCA_shifts.attack_y == 0].count()[\"neuron\"]\n",
    "l2_percent_shifts_initial_SCA = round((l2_n_shifts_initial_SCA/l2_initial_nSpikes)*100,2)\n",
    "\n",
    "l2_FLO_nSpikes_join_00 = data_FLO_00[(data_FLO_00.neuron >= MAX_L1) & (data_FLO_00.neuron < MAX_L2)][[\"attack\", \"time_delta\", \"neuron\"]].copy()\n",
    "l2_join_initial_FLO_shifts_00 = pd.merge(l2_initial_nSpikes_join, l2_FLO_nSpikes_join_00,  how='left', left_on=['time_delta','neuron'], right_on = ['time_delta','neuron'])\n",
    "l2_join_initial_FLO_shifts_00 = l2_join_initial_FLO_shifts_00.fillna(0)\n",
    "l2_n_shifts_initial_FLO_00 = l2_join_initial_FLO_shifts_00[l2_join_initial_FLO_shifts_00.attack_y == 0].count()[\"neuron\"]\n",
    "l2_percent_shifts_initial_FLO_00 = round((l2_n_shifts_initial_FLO_00/l2_initial_nSpikes)*100,2)\n",
    "\n",
    "# List of neurons shifted in this layer\n",
    "l2_FLO_shifted_neurons_00 = l2_join_initial_FLO_shifts_00[l2_join_initial_FLO_shifts_00.attack_y == 0][\"neuron\"].unique()"
   ]
  },
  {
   "cell_type": "markdown",
   "metadata": {},
   "source": [
    "##### Complete Layer 3"
   ]
  },
  {
   "cell_type": "code",
   "execution_count": null,
   "metadata": {},
   "outputs": [],
   "source": [
    "# Total number of spikes\n",
    "l3_initial_nSpikes = data_initial_state[(data_initial_state.neuron >= MAX_L2)].count()[\"neuron\"]\n",
    "l3_SCA_nSpikes = data_SCA[(data_SCA.neuron >= MAX_L2)].count()[\"neuron\"]\n",
    "l3_FLO_nSpikes_00 = data_FLO_00[data_FLO_00.neuron >= MAX_L2].count()[\"neuron\"]\n",
    "\n",
    "# Mean of spikes (over the total neurons of the layer)\n",
    "l3_initial_mean_spikes = d_initial_aggr_neuron[d_initial_aggr_neuron.neuron >= MAX_L2][\"n_spikes\"].mean()\n",
    "l3_SCA_mean_spikes = d_SCA_aggr_neuron[d_SCA_aggr_neuron.neuron >= MAX_L2][\"n_spikes\"].mean()\n",
    "l3_FLO_mean_spikes_00 = d_FLO_aggr_neuron_00[d_FLO_aggr_neuron_00.neuron >= MAX_L2][\"n_spikes\"].mean()\n",
    "\n",
    "# Standard deviation (over the total neurons of the layer)\n",
    "l3_initial_std_spikes = d_initial_aggr_neuron[d_initial_aggr_neuron.neuron >= MAX_L2][\"n_spikes\"].std()\n",
    "l3_SCA_std_spikes = d_SCA_aggr_neuron[d_SCA_aggr_neuron.neuron >= MAX_L2][\"n_spikes\"].std()\n",
    "l3_FLO_std_spikes_00 = d_FLO_aggr_neuron_00[d_FLO_aggr_neuron_00.neuron >= MAX_L2][\"n_spikes\"].std()\n",
    "\n",
    "# Percentage of shifts between the SCA and normal behaviour\n",
    "l3_initial_nSpikes_join = data_initial_state[data_initial_state.neuron >= MAX_L2][[\"attack\", \"time_delta\", \"neuron\"]].copy()\n",
    "\n",
    "l3_SCA_nSpikes_join = data_SCA[data_SCA.neuron >= MAX_L2][[\"attack\", \"time_delta\", \"neuron\"]].copy()\n",
    "l3_join_initial_SCA_shifts = pd.merge(l3_initial_nSpikes_join, l3_SCA_nSpikes_join,  how='left', left_on=['time_delta','neuron'], right_on = ['time_delta','neuron'])\n",
    "l3_join_initial_SCA_shifts = l3_join_initial_SCA_shifts.fillna(0)\n",
    "l3_n_shifts_initial_SCA = l3_join_initial_SCA_shifts[l3_join_initial_SCA_shifts.attack_y == 0].count()[\"neuron\"]\n",
    "l3_percent_shifts_initial_SCA = round((l3_n_shifts_initial_SCA/l3_initial_nSpikes)*100,2)\n",
    "\n",
    "l3_FLO_nSpikes_join_00 = data_FLO_00[data_FLO_00.neuron >= MAX_L2][[\"attack\", \"time_delta\", \"neuron\"]].copy()\n",
    "l3_join_initial_FLO_shifts_00 = pd.merge(l3_initial_nSpikes_join, l3_FLO_nSpikes_join_00,  how='left', left_on=['time_delta','neuron'], right_on = ['time_delta','neuron'])\n",
    "l3_join_initial_FLO_shifts_00 = l3_join_initial_FLO_shifts_00.fillna(0)\n",
    "l3_n_shifts_initial_FLO_00 = l3_join_initial_FLO_shifts_00[l3_join_initial_FLO_shifts_00.attack_y == 0].count()[\"neuron\"]\n",
    "l3_percent_shifts_initial_FLO_00 = round((l3_n_shifts_initial_FLO_00/l3_initial_nSpikes)*100,2)\n",
    "\n",
    "# List of neurons shifted in this layer\n",
    "l3_FLO_shifted_neurons_00 = l3_join_initial_FLO_shifts_00[l3_join_initial_FLO_shifts_00.attack_y == 0][\"neuron\"].unique()"
   ]
  },
  {
   "cell_type": "code",
   "execution_count": null,
   "metadata": {},
   "outputs": [],
   "source": [
    "print(\"== LAYER 1 ==\")\n",
    "print(\">> Total number of spikes\")\n",
    "print(\"initial_state: \", l1_initial_nSpikes) \n",
    "print(\"SCA: \", l1_SCA_nSpikes)\n",
    "print(\"FLO a(0,0): \", l1_FLO_nSpikes_00)\n",
    "\n",
    "print(\"Ratio initial/SCA: \", l1_initial_nSpikes/l1_SCA_nSpikes*100)\n",
    "print(\"Ratio initial/FLO: \", l1_initial_nSpikes/l1_FLO_nSpikes_00*100)\n",
    "\n",
    "print(\"---\")\n",
    "\n",
    "print(\">> Mean of spikes (over the total neurons of the layer)\")\n",
    "print(\"initial_state: %s || Mean per position: %s\" % (round(l1_initial_mean_spikes,2), round(l1_initial_mean_spikes/28,2)))\n",
    "print(\"SCA: %s || Mean per position: %s\" % (round(l1_SCA_mean_spikes,2), round(l1_SCA_mean_spikes/28,2)))\n",
    "print(\"FLO a(0,0): %s || Mean per position: %s\" % (round(l1_FLO_mean_spikes_00,2), round(l1_FLO_mean_spikes_00/28,2)))\n",
    "\n",
    "print(\"---\")\n",
    "\n",
    "print(\">> Standard deviation (over the total neurons of the layer)\")\n",
    "print(\"initial_state: \", round(l1_initial_std_spikes,2))\n",
    "print(\"SCA: \", round(l1_SCA_std_spikes, 2))\n",
    "print(\"FLO a(0,0): \", round(l1_FLO_std_spikes_00, 2))\n",
    "\n",
    "print(\"---\")\n",
    "\n",
    "print(\">> % shifts SCA/initial_state\")\n",
    "print(l1_percent_shifts_initial_SCA)\n",
    "\n",
    "print(\">> % shifts FLO_00/initial_state\")\n",
    "print(l1_percent_shifts_initial_FLO_00)\n",
    "\n",
    "print(\"\")\n",
    "print(\"== LAYER 2 ==\")\n",
    "\n",
    "print(\">> Total number of spikes\")\n",
    "print(\"initial_state: \", l2_initial_nSpikes)\n",
    "print(\"SCA: \", l2_SCA_nSpikes)\n",
    "print(\"FLO a(0,0): \", l2_FLO_nSpikes_00)\n",
    "\n",
    "print(\"---\")\n",
    "\n",
    "print(\">> Mean of spikes (over the total neurons of the layer)\")\n",
    "print(\"initial_state: %s || Mean per position: %s\" % (round(l2_initial_mean_spikes,2), round(l2_initial_mean_spikes/28,2)))\n",
    "print(\"SCA: %s || Mean per position: %s\" % (round(l2_SCA_mean_spikes,2), round(l2_SCA_mean_spikes/28,2)))\n",
    "print(\"FLO a(0,0): %s || Mean per position: %s\" % (round(l2_FLO_mean_spikes_00,2), round(l2_FLO_mean_spikes_00/28,2)))\n",
    "\n",
    "print(\"---\")\n",
    "\n",
    "print(\">> Standard deviation (over the total neurons of the layer)\")\n",
    "print(\"initial_state: \", round(l2_initial_std_spikes,2))\n",
    "print(\"SCA: \", round(l2_SCA_std_spikes, 2))\n",
    "print(\"FLO a(0,0): \", round(l2_FLO_std_spikes_00, 2))\n",
    "\n",
    "print(\"---\")\n",
    "\n",
    "print(\">> % shifts SCA/initial_state\")\n",
    "print(l2_percent_shifts_initial_SCA)\n",
    "\n",
    "print(\">> % shifts FLO_00/initial_state\")\n",
    "print(l2_percent_shifts_initial_FLO_00)\n",
    "\n",
    "print(\"\")\n",
    "print(\"== LAYER 3 ==\")\n",
    "\n",
    "print(\">> Total number of spikes\")\n",
    "print(\"initial_state: \", l3_initial_nSpikes)\n",
    "print(\"SCA: \", l3_SCA_nSpikes)\n",
    "print(\"FLO a(0,0): \", l3_FLO_nSpikes_00)\n",
    "\n",
    "print(\"---\")\n",
    "\n",
    "print(\">> Mean of spikes (over the total neurons of the layer)\")\n",
    "print(\"initial_state: %s || Mean per position: %s\" % (round(l3_initial_mean_spikes,2), round(l3_initial_mean_spikes/28,2)))\n",
    "print(\"SCA: %s || Mean per position: %s\" % (round(l3_SCA_mean_spikes,2), round(l3_SCA_mean_spikes/28,2)))\n",
    "print(\"FLO a(0,0): %s || Mean per position: %s\" % (round(l3_FLO_mean_spikes_00,2), round(l3_FLO_mean_spikes_00/28,2)))\n",
    "\n",
    "print(\"---\")\n",
    "\n",
    "print(\">> Standard deviation (over the total neurons of the layer)\")\n",
    "print(\"initial_state: \", round(l3_initial_std_spikes,2))\n",
    "print(\"SCA: \", round(l3_SCA_std_spikes, 2))\n",
    "print(\"FLO a(0,0): \", round(l3_FLO_std_spikes_00, 2))\n",
    "\n",
    "print(\"---\")\n",
    "\n",
    "print(\">> % shifts SCA/initial_state\")\n",
    "print(l3_percent_shifts_initial_SCA)\n",
    "\n",
    "print(\">> % shifts FLO_00/initial_state\")\n",
    "print(l3_percent_shifts_initial_FLO_00)"
   ]
  },
  {
   "cell_type": "code",
   "execution_count": null,
   "metadata": {},
   "outputs": [],
   "source": []
  },
  {
   "cell_type": "code",
   "execution_count": null,
   "metadata": {},
   "outputs": [],
   "source": [
    "print(\">> Number of spikes <<\")\n",
    "print(\"initial_state: \", data_initial_state.count()[\"neuron\"])\n",
    "print(\"SCA: \", data_SCA.count()[\"neuron\"])\n",
    "print(\"FOR: \", data_FOR.count()[\"neuron\"])\n",
    "print(\"FLO (0,0): \", data_FLO_00.count()[\"neuron\"])\n",
    "print(\"FLO (3,3): \", data_FLO_33.count()[\"neuron\"])\n",
    "print(\"FLO (5,5): \", data_FLO_55.count()[\"neuron\"])\n",
    "print(\"JAM (0,0): \", data_JAM_00.count()[\"neuron\"])\n",
    "print(\"JAM (3,3): \", data_JAM_33.count()[\"neuron\"])\n",
    "print(\"JAM (5,5): \", data_JAM_55.count()[\"neuron\"])\n",
    "print(\"SPO (0,0): \", data_SPO_00.count()[\"neuron\"])\n",
    "print(\"SPO (3,3): \", data_SPO_33.count()[\"neuron\"])\n",
    "print(\"SPO (5,5): \", data_SPO_55.count()[\"neuron\"])\n",
    "print(\"SYB (0,0): \", data_SYB_00.count()[\"neuron\"])\n",
    "print(\"SYB (3,3): \", data_SYB_33.count()[\"neuron\"])\n",
    "print(\"SYB (5,5): \", data_SYB_55.count()[\"neuron\"])"
   ]
  },
  {
   "cell_type": "code",
   "execution_count": null,
   "metadata": {
    "scrolled": true
   },
   "outputs": [],
   "source": [
    "print(\">> Number of spikes <<\")\n",
    "print(\"initial_state (0,0): \", data_initial_state[(data_initial_state.time_delta >= MIN_00) & (data_initial_state.time_delta <= MAX_00)].count()[\"neuron\"])\n",
    "print(\"initial_state (3,3): \", data_initial_state[(data_initial_state.time_delta >= MIN_33) & (data_initial_state.time_delta <= MAX_33)].count()[\"neuron\"])\n",
    "print(\"initial_state (5,5): \", data_initial_state[(data_initial_state.time_delta >= MIN_55) & (data_initial_state.time_delta <= MAX_55)].count()[\"neuron\"])\n",
    "print(\"----\")\n",
    "print(\"SCA v(0,0): \", data_SCA[(data_SCA.time_delta >= MIN_00) & (data_SCA.time_delta <= MAX_00)].count()[\"neuron\"])\n",
    "print(\"SCA v(3,3): \", data_SCA[(data_SCA.time_delta >= MIN_33) & (data_SCA.time_delta <= MAX_33)].count()[\"neuron\"])\n",
    "print(\"SCA v(5,5): \", data_SCA[(data_SCA.time_delta >= MIN_55) & (data_SCA.time_delta <= MAX_55)].count()[\"neuron\"])\n",
    "print(\"----\")\n",
    "print(\"----\")\n",
    "print(\"FOR v(0,0): \", data_FOR[(data_FOR.time_delta >= MIN_00) & (data_FOR.time_delta <= MAX_00)].count()[\"neuron\"])\n",
    "print(\"FOR v(3,3): \", data_FOR[(data_FOR.time_delta >= MIN_33) & (data_FOR.time_delta <= MAX_33)].count()[\"neuron\"])\n",
    "print(\"FOR v(5,5): \", data_FOR[(data_FOR.time_delta >= MIN_55) & (data_FOR.time_delta <= MAX_55)].count()[\"neuron\"])\n",
    "print(\"----\")\n",
    "print(\"----\")\n",
    "print(\"FLO a(0,0) - v(0,0): \", data_FLO_00[(data_FLO_00.time_delta >= MIN_00) & (data_FLO_00.time_delta <= MAX_00)].count()[\"neuron\"])\n",
    "print(\"FLO a(0,0) - v(3,3): \", data_FLO_00[(data_FLO_00.time_delta >= MIN_33) & (data_FLO_00.time_delta <= MAX_33)].count()[\"neuron\"])\n",
    "print(\"FLO a(0,0) - v(5,5): \", data_FLO_00[(data_FLO_00.time_delta >= MIN_55) & (data_FLO_00.time_delta <= MAX_55)].count()[\"neuron\"])\n",
    "print(\"----\")\n",
    "print(\"FLO a(3,3) - v(0,0): \", data_FLO_33[(data_FLO_33.time_delta >= MIN_00) & (data_FLO_33.time_delta <= MAX_00)].count()[\"neuron\"])\n",
    "print(\"FLO a(3,3) - v(3,3): \", data_FLO_33[(data_FLO_33.time_delta >= MIN_33) & (data_FLO_33.time_delta <= MAX_33)].count()[\"neuron\"])\n",
    "print(\"FLO a(3,3) - v(5,5): \", data_FLO_33[(data_FLO_33.time_delta >= MIN_55) & (data_FLO_33.time_delta <= MAX_55)].count()[\"neuron\"])\n",
    "print(\"----\")\n",
    "print(\"FLO a(5,5) - v(0,0): \", data_FLO_55[(data_FLO_55.time_delta >= MIN_00) & (data_FLO_55.time_delta <= MAX_00)].count()[\"neuron\"])\n",
    "print(\"FLO a(5,5) - v(3,3): \", data_FLO_55[(data_FLO_55.time_delta >= MIN_33) & (data_FLO_55.time_delta <= MAX_33)].count()[\"neuron\"])\n",
    "print(\"FLO a(5,5) - v(5,5): \", data_FLO_55[(data_FLO_55.time_delta >= MIN_55) & (data_FLO_55.time_delta <= MAX_55)].count()[\"neuron\"])\n",
    "print(\"----\")\n",
    "print(\"----\")\n",
    "print(\"JAM a(0,0) - v(0,0): \", data_JAM_00[(data_JAM_00.time_delta >= MIN_00) & (data_JAM_00.time_delta <= MAX_00)].count()[\"neuron\"])\n",
    "print(\"JAM a(0,0) - v(3,3): \", data_JAM_00[(data_JAM_00.time_delta >= MIN_33) & (data_JAM_00.time_delta <= MAX_33)].count()[\"neuron\"])\n",
    "print(\"JAM a(0,0) - v(5,5): \", data_JAM_00[(data_JAM_00.time_delta >= MIN_55) & (data_JAM_00.time_delta <= MAX_55)].count()[\"neuron\"])\n",
    "print(\"----\")\n",
    "print(\"JAM a(3,3) - v(0,0): \", data_JAM_33[(data_JAM_33.time_delta >= MIN_00) & (data_JAM_33.time_delta <= MAX_00)].count()[\"neuron\"])\n",
    "print(\"JAM a(3,3) - v(3,3): \", data_JAM_33[(data_JAM_33.time_delta >= MIN_33) & (data_JAM_33.time_delta <= MAX_33)].count()[\"neuron\"])\n",
    "print(\"JAM a(3,3) - v(5,5): \", data_JAM_33[(data_JAM_33.time_delta >= MIN_55) & (data_JAM_33.time_delta <= MAX_55)].count()[\"neuron\"])\n",
    "print(\"----\")\n",
    "print(\"JAM a(5,5) - v(0,0): \", data_JAM_55[(data_JAM_55.time_delta >= MIN_00) & (data_JAM_55.time_delta <= MAX_00)].count()[\"neuron\"])\n",
    "print(\"JAM a(5,5) - v(3,3): \", data_JAM_55[(data_JAM_55.time_delta >= MIN_33) & (data_JAM_55.time_delta <= MAX_33)].count()[\"neuron\"])\n",
    "print(\"JAM a(5,5) - v(5,5): \", data_JAM_55[(data_JAM_55.time_delta >= MIN_55) & (data_JAM_55.time_delta <= MAX_55)].count()[\"neuron\"])\n",
    "print(\"----\")\n",
    "print(\"----\")\n",
    "print(\"SPO a(0,0) - v(0,0): \", data_SPO_00[(data_SPO_00.time_delta >= MIN_00) & (data_SPO_00.time_delta <= MAX_00)].count()[\"neuron\"])\n",
    "print(\"SPO a(0,0) - v(3,3): \", data_SPO_00[(data_SPO_00.time_delta >= MIN_33) & (data_SPO_00.time_delta <= MAX_33)].count()[\"neuron\"])\n",
    "print(\"SPO a(0,0) - v(5,5): \", data_SPO_00[(data_SPO_00.time_delta >= MIN_55) & (data_SPO_00.time_delta <= MAX_55)].count()[\"neuron\"])\n",
    "print(\"----\")\n",
    "print(\"SPO a(3,3) - v(0,0): \", data_SPO_33[(data_SPO_33.time_delta >= MIN_00) & (data_SPO_33.time_delta <= MAX_00)].count()[\"neuron\"])\n",
    "print(\"SPO a(3,3) - v(3,3): \", data_SPO_33[(data_SPO_33.time_delta >= MIN_33) & (data_SPO_33.time_delta <= MAX_33)].count()[\"neuron\"])\n",
    "print(\"SPO a(3,3) - v(5,5): \", data_SPO_33[(data_SPO_33.time_delta >= MIN_55) & (data_SPO_33.time_delta <= MAX_55)].count()[\"neuron\"])\n",
    "print(\"----\")\n",
    "print(\"SPO a(5,5) - v(0,0): \", data_SPO_55[(data_SPO_55.time_delta >= MIN_00) & (data_SPO_55.time_delta <= MAX_00)].count()[\"neuron\"])\n",
    "print(\"SPO a(5,5) - v(3,3): \", data_SPO_55[(data_SPO_55.time_delta >= MIN_33) & (data_SPO_55.time_delta <= MAX_33)].count()[\"neuron\"])\n",
    "print(\"SPO a(5,5) - v(5,5): \", data_SPO_55[(data_SPO_55.time_delta >= MIN_55) & (data_SPO_55.time_delta <= MAX_55)].count()[\"neuron\"])\n",
    "print(\"----\")\n",
    "print(\"----\")\n",
    "print(\"SYB a(0,0) - v(0,0): \", data_SYB_00[(data_SYB_00.time_delta >= MIN_00) & (data_SYB_00.time_delta <= MAX_00)].count()[\"neuron\"])\n",
    "print(\"SYB a(0,0) - v(3,3): \", data_SYB_00[(data_SYB_00.time_delta >= MIN_33) & (data_SYB_00.time_delta <= MAX_33)].count()[\"neuron\"])\n",
    "print(\"SYB a(0,0) - v(5,5): \", data_SYB_00[(data_SYB_00.time_delta >= MIN_55) & (data_SYB_00.time_delta <= MAX_55)].count()[\"neuron\"])\n",
    "print(\"----\")\n",
    "print(\"SYB a(3,3) - v(0,0): \", data_SYB_33[(data_SYB_33.time_delta >= MIN_00) & (data_SYB_33.time_delta <= MAX_00)].count()[\"neuron\"])\n",
    "print(\"SYB a(3,3) - v(3,3): \", data_SYB_33[(data_SYB_33.time_delta >= MIN_33) & (data_SYB_33.time_delta <= MAX_33)].count()[\"neuron\"])\n",
    "print(\"SYB a(3,3) - v(5,5): \", data_SYB_33[(data_SYB_33.time_delta >= MIN_55) & (data_SYB_33.time_delta <= MAX_55)].count()[\"neuron\"])\n",
    "print(\"----\")\n",
    "print(\"SYB a(5,5) - v(0,0): \", data_SYB_55[(data_SYB_55.time_delta >= MIN_00) & (data_SYB_55.time_delta <= MAX_00)].count()[\"neuron\"])\n",
    "print(\"SYB a(5,5) - v(3,3): \", data_SYB_55[(data_SYB_55.time_delta >= MIN_33) & (data_SYB_55.time_delta <= MAX_33)].count()[\"neuron\"])\n",
    "print(\"SYB a(5,5) - v(5,5): \", data_SYB_55[(data_SYB_55.time_delta >= MIN_55) & (data_SYB_55.time_delta <= MAX_55)].count()[\"neuron\"])\n",
    "print(\"----\")"
   ]
  },
  {
   "cell_type": "code",
   "execution_count": null,
   "metadata": {},
   "outputs": [],
   "source": [
    "print(\">> Average number of spikes per neuron <<\")\n",
    "print(\"initial_state: \", d_initial_aggr_neuron[\"n_spikes\"].mean())\n",
    "print(\"SCA: \", d_SCA_aggr_neuron[\"n_spikes\"].mean())\n",
    "print(\"FOR: \", d_FOR_aggr_neuron[\"n_spikes\"].mean())\n",
    "print(\"FLO (0,0): \", d_FLO_aggr_neuron_00[\"n_spikes\"].mean())\n",
    "print(\"FLO (3,3): \", d_FLO_aggr_neuron_33[\"n_spikes\"].mean())\n",
    "print(\"FLO (5,5): \", d_FLO_aggr_neuron_55[\"n_spikes\"].mean())\n",
    "print(\"JAM (0,0): \", d_JAM_aggr_neuron_00[\"n_spikes\"].mean())\n",
    "print(\"JAM (3,3): \", d_JAM_aggr_neuron_33[\"n_spikes\"].mean())\n",
    "print(\"JAM (5,5): \", d_JAM_aggr_neuron_55[\"n_spikes\"].mean())\n",
    "print(\"SPO (0,0): \", d_SPO_aggr_neuron_00[\"n_spikes\"].mean())\n",
    "print(\"SPO (3,3): \", d_SPO_aggr_neuron_33[\"n_spikes\"].mean())\n",
    "print(\"SPO (5,5): \", d_SPO_aggr_neuron_55[\"n_spikes\"].mean())\n",
    "print(\"SYB (0,0): \", d_SYB_aggr_neuron_00[\"n_spikes\"].mean())\n",
    "print(\"SYB (3,3): \", d_SYB_aggr_neuron_33[\"n_spikes\"].mean())\n",
    "print(\"SYB (5,5): \", d_SYB_aggr_neuron_55[\"n_spikes\"].mean())"
   ]
  },
  {
   "cell_type": "code",
   "execution_count": null,
   "metadata": {},
   "outputs": [],
   "source": []
  },
  {
   "cell_type": "markdown",
   "metadata": {},
   "source": [
    "## TEST behaviour: FLO -  1 U.T. attack"
   ]
  },
  {
   "cell_type": "code",
   "execution_count": null,
   "metadata": {},
   "outputs": [],
   "source": [
    "inicio = 0\n",
    "fin = 700\n",
    "n_neuron = 0"
   ]
  },
  {
   "cell_type": "code",
   "execution_count": null,
   "metadata": {},
   "outputs": [],
   "source": [
    "csv_filename = \"test.csv\"\n",
    "df = pd.read_csv(csv_filename, delimiter=\";\", dtype={'n_neurons': np.int32})\n",
    "data_FLO_00 = df[(df.attack == \"FLO\") & (df.stim_value == 1.0) & (df.coord_attack == \"(0,0)\")]\n",
    "\n",
    "df_attack = data_FLO_00.copy()\n",
    "\n",
    "data_initial_state = df[df.attack == \"initial_state\"]\n",
    "concat_FLO_00 = pd.concat([data_initial_state.assign(attack='initial_state'), df_attack.assign(attack='FLO')])"
   ]
  },
  {
   "cell_type": "code",
   "execution_count": null,
   "metadata": {},
   "outputs": [],
   "source": [
    "grouped = data_initial_state.groupby('neuron').count()[\"time_delta\"]\n",
    "d_initial_aggr_neuron = pd.DataFrame()\n",
    "d_initial_aggr_neuron['neuron'] = grouped.index\n",
    "d_initial_aggr_neuron['n_spikes'] = grouped.tolist()\n",
    "\n",
    "grouped = df_attack.groupby('neuron').count()[\"time_delta\"]\n",
    "d_FLO_aggr_neuron_00 = pd.DataFrame()\n",
    "d_FLO_aggr_neuron_00['neuron'] = grouped.index\n",
    "d_FLO_aggr_neuron_00['n_spikes'] = grouped.tolist()"
   ]
  },
  {
   "cell_type": "code",
   "execution_count": null,
   "metadata": {},
   "outputs": [],
   "source": [
    "list_attacked_neurons = df_attack[\"attacked_neurons\"].unique()[0].split(\"-\")"
   ]
  },
  {
   "cell_type": "code",
   "execution_count": null,
   "metadata": {},
   "outputs": [],
   "source": [
    "list_attacked_neurons"
   ]
  },
  {
   "cell_type": "code",
   "execution_count": null,
   "metadata": {
    "scrolled": false
   },
   "outputs": [],
   "source": [
    "fig,ax = plt.subplots()\n",
    "ax = sns.scatterplot(x='time_delta', y='neuron', data=concat_FLO_00,\n",
    "                hue='attack', palette=[\"#C59434\", \"#092C48\"], alpha=0.6) #, style='dataset'\n",
    "\n",
    "#sns.scatterplot(x='time_delta', y='neuron', data=data_initial_state,\n",
    "#                hue='attack', palette=[\"white\"], alpha=1, marker=\"o\", **kwargs) #, style='dataset'\n",
    "\n",
    "#sns.scatterplot(x='time_delta', y='neuron', data=data_SCA,\n",
    "#                hue='attack', palette=[\"black\"], alpha=1, marker=\"x\", **kwargs) #, style='dataset'\n",
    "\n",
    "cont = 25\n",
    "for a in range(0, 28):\n",
    "    plt.axvline(x=cont*a, color=\"red\")\n",
    "\n",
    "ax.xaxis.set_major_locator(ticker.MultipleLocator(25))"
   ]
  },
  {
   "cell_type": "markdown",
   "metadata": {},
   "source": [
    "#### FIRST LAYER"
   ]
  },
  {
   "cell_type": "markdown",
   "metadata": {},
   "source": [
    "#### General perspective"
   ]
  },
  {
   "cell_type": "code",
   "execution_count": null,
   "metadata": {},
   "outputs": [],
   "source": [
    "# Total number of spikes\n",
    "l1_initial_nSpikes = data_initial_state[data_initial_state.neuron < MAX_L1].count()[\"neuron\"]\n",
    "l1_FLO_nSpikes_00 = data_FLO_00[data_FLO_00.neuron < MAX_L1].count()[\"neuron\"]\n",
    "\n",
    "# Mean of spikes (over the total neurons of the layer)\n",
    "l1_initial_mean_spikes = round(d_initial_aggr_neuron[d_initial_aggr_neuron.neuron < MAX_L1][\"n_spikes\"].mean(), 2)\n",
    "l1_FLO_mean_spikes_00 = round(d_FLO_aggr_neuron_00[d_FLO_aggr_neuron_00.neuron < MAX_L1][\"n_spikes\"].mean(), 2)\n",
    "\n",
    "# Standard deviation (over the total neurons of the layer)\n",
    "l1_initial_std_spikes = round(d_initial_aggr_neuron[d_initial_aggr_neuron.neuron < MAX_L1][\"n_spikes\"].std(), 2)\n",
    "l1_FLO_std_spikes_00 = round(d_FLO_aggr_neuron_00[d_FLO_aggr_neuron_00.neuron < MAX_L1][\"n_spikes\"].std(), 2)\n",
    "\n",
    "# Percentage of shifts between the attack and normal behaviour\n",
    "l1_initial_nSpikes_join = data_initial_state[data_initial_state.neuron < MAX_L1][[\"attack\", \"time_delta\", \"neuron\"]].copy()\n",
    "l1_FLO_nSpikes_join_00 = data_FLO_00[data_FLO_00.neuron < MAX_L1][[\"attack\", \"time_delta\", \"neuron\"]].copy()\n",
    "l1_join_initial_FLO_shifts_00 = pd.merge(l1_FLO_nSpikes_join_00, l1_initial_nSpikes_join,  how='left', left_on=['time_delta','neuron'], right_on = ['time_delta','neuron'])\n",
    "l1_join_initial_FLO_shifts_00 = l1_join_initial_FLO_shifts_00.fillna(0)\n",
    "l1_n_shifts_initial_FLO_00 = l1_join_initial_FLO_shifts_00[l1_join_initial_FLO_shifts_00.attack_y == 0].count()[\"neuron\"]\n",
    "l1_percent_shifts_initial_FLO_00 = round((l1_n_shifts_initial_FLO_00/l1_FLO_nSpikes_00)*100,2)\n",
    "\n",
    "# List of neurons shifted in this layer\n",
    "l1_FLO_shifted_neurons_00 = l1_join_initial_FLO_shifts_00[l1_join_initial_FLO_shifts_00.attack_y == 0][\"neuron\"].unique()"
   ]
  },
  {
   "cell_type": "code",
   "execution_count": null,
   "metadata": {},
   "outputs": [],
   "source": [
    "print(\"== LAYER 1 - General statistics ==\")\n",
    "print(\">> Total number of spikes\")\n",
    "print(\"initial_state: \", l1_initial_nSpikes) \n",
    "print(\"Attack: \", l1_FLO_nSpikes_00)\n",
    "\n",
    "print(\"---\")\n",
    "\n",
    "print(\">> Mean of spikes (over the total neurons of the layer)\")\n",
    "print(\"initial_state: \", l1_initial_mean_spikes)\n",
    "print(\"Attack: \", l1_FLO_mean_spikes_00)\n",
    "\n",
    "print(\"---\")\n",
    "\n",
    "print(\">> Standard deviation (over the total neurons of the layer)\")\n",
    "print(\"initial_state: \", l1_initial_std_spikes)\n",
    "print(\"Attack: \", l1_FLO_std_spikes_00)\n",
    "\n",
    "print(\"---\")\n",
    "\n",
    "print(\">> % shifts FLO_00/initial_state\")\n",
    "print(l1_percent_shifts_initial_FLO_00)"
   ]
  },
  {
   "cell_type": "markdown",
   "metadata": {},
   "source": [
    "#### Attacked neurons perspective"
   ]
  },
  {
   "cell_type": "code",
   "execution_count": null,
   "metadata": {
    "scrolled": false
   },
   "outputs": [],
   "source": [
    "# (0,0)\n",
    "#sns.scatterplot(x='time_delta', y='neuron', data=concat_SCA[(concat_SCA.time_delta >= MIN_00) & (concat_SCA.time_delta <= MAX_00)],\n",
    "#                hue='attack', s=80, palette=[\"#C59434\", \"#092C48\"], alpha=0.6) #, style='dataset'\n",
    "\n",
    "sns.scatterplot(x='time_delta', y='neuron', data=data_initial_state[(data_initial_state.neuron.isin(l1_FLO_shifted_neurons_00)) & (data_initial_state.time_delta >= inicio) & (data_initial_state.time_delta <= fin)],\n",
    "                hue='attack', s=100, palette=[\"white\"], alpha=1, marker=\"o\", **kwargs) #, style='dataset'\n",
    "\n",
    "sns.scatterplot(x='time_delta', y='neuron', data=df_attack[(df_attack.neuron.isin(l1_FLO_shifted_neurons_00)) & (df_attack.time_delta >= inicio) & (data_FLO_00.time_delta <= fin)],\n",
    "                hue='attack', s=100, palette=[\"black\"], alpha=1, marker=\"x\", **kwargs) #, style='dataset'\n"
   ]
  },
  {
   "cell_type": "code",
   "execution_count": null,
   "metadata": {},
   "outputs": [],
   "source": [
    "# spikes: mean and std\n",
    "test_l1_initial_mean_spikes = round(d_initial_aggr_neuron[(d_initial_aggr_neuron.neuron.isin(l1_FLO_shifted_neurons_00))][\"n_spikes\"].mean(), 2)\n",
    "test_l1_FLO_mean_spikes_00 = round(d_FLO_aggr_neuron_00[(d_FLO_aggr_neuron_00.neuron.isin(l1_FLO_shifted_neurons_00))][\"n_spikes\"].mean(), 2)\n",
    "\n",
    "# Standard deviation\n",
    "test_l1_initial_std_spikes = round(d_initial_aggr_neuron[(d_initial_aggr_neuron.neuron.isin(l1_FLO_shifted_neurons_00))][\"n_spikes\"].std(), 2)\n",
    "test_l1_FLO_std_spikes_00 = round(d_FLO_aggr_neuron_00[(d_FLO_aggr_neuron_00.neuron.isin(l1_FLO_shifted_neurons_00))][\"n_spikes\"].std(), 2)\n",
    "\n",
    "# mean of % shifts\n",
    "test_l1_join_shifts_attk = l1_join_initial_FLO_shifts_00[l1_join_initial_FLO_shifts_00.neuron.isin(l1_FLO_shifted_neurons_00)]\n",
    "test_n_shifts_zeros = test_l1_join_shifts_attk[test_l1_join_shifts_attk.attack_y == 0].count()[\"neuron\"]\n",
    "\n",
    "# number of shifts under attack (count zeros) / total number of spikes under attck  \n",
    "test_l1_mean_shifts = round((test_n_shifts_zeros/test_l1_join_shifts_attk.neuron.count())*100,2)\n",
    "\n",
    "'''\n",
    "test_l1_initial_nSpikes_dict = {}\n",
    "test_l1_FLO_00_nSpikes_dict = {}\n",
    "test_l1_shifts_dict = {}\n",
    "\n",
    "for neuron in l1_FLO_shifted_neurons_00:\n",
    "    test_l1_initial_nSpikes_dict[neuron] = data_initial_state[(data_initial_state.neuron == neuron)][\"neuron\"].count()\n",
    "    test_l1_FLO_00_nSpikes_dict[neuron] = df_attack[(df_attack.neuron == neuron)][\"neuron\"].count()\n",
    "    \n",
    "    data_spikes_neuron = l1_join_initial_FLO_shifts_00[l1_join_initial_FLO_shifts_00.neuron.isin([neuron])]\n",
    "    test_l1_shifts_dict[neuron] = round(data_spikes_neuron[data_spikes_neuron.attack_y == 0].attack_y.count()/data_spikes_neuron.attack_y.count()*100, 2)\n",
    "    \n",
    "# Mean of spikes (over the neurons shifted of the layer)\n",
    "\n",
    "test_l1_initial_mean_spikes = round(np.array(list(test_l1_initial_nSpikes_dict.values())).mean(), 2)\n",
    "test_l1_FLO_mean_spikes_00 = round(np.array(list(test_l1_FLO_00_nSpikes_dict.values())).mean(), 2)\n",
    "\n",
    "# STD of spikes (over the neurons shifted of the layer)\n",
    "test_l1_initial_std_spikes = round(np.array(list(test_l1_initial_nSpikes_dict.values())).std(), 2)\n",
    "test_l1_FLO_std_spikes_00 = round(np.array(list(test_l1_FLO_00_nSpikes_dict.values())).std(), 2)\n",
    "\n",
    "# Mean and STD of shifts\n",
    "test_l1_mean_shifts = round(np.array(list(test_l1_shifts_dict.values())).mean(), 2)\n",
    "test_l1_std_shifts = round(np.array(list(test_l1_shifts_dict.values())).std(), 2)\n",
    "\n",
    "for neuron in reversed(sorted(test_l1_initial_nSpikes_dict.keys())):\n",
    "    print(\"%s Spikes initial_state: %s\" %(neuron, test_l1_initial_nSpikes_dict[neuron]))\n",
    "\n",
    "print(\"---\")\n",
    "    \n",
    "for neuron in reversed(sorted(test_l1_FLO_00_nSpikes_dict.keys())):\n",
    "    print(\"%s Spikes attack: %s\" %(neuron, test_l1_FLO_00_nSpikes_dict[neuron]))\n",
    "\n",
    "print(\"---\")\n",
    "\n",
    "for neuron in reversed(sorted(test_l1_shifts_dict.keys())):\n",
    "    print(\"%s percent shifts attack/initial_state: %s\" %(neuron, test_l1_shifts_dict[neuron]))\n",
    "\n",
    "print(\"---\")\n",
    "'''"
   ]
  },
  {
   "cell_type": "code",
   "execution_count": null,
   "metadata": {},
   "outputs": [],
   "source": []
  },
  {
   "cell_type": "code",
   "execution_count": null,
   "metadata": {},
   "outputs": [],
   "source": [
    "print(\"Mean spikes shifted neurons initial_state: \", test_l1_initial_mean_spikes)\n",
    "print(\"Mean spikes shifted neurons attack: \", test_l1_FLO_mean_spikes_00)\n",
    "print(\"STD spikes shifted neurons initial_state: \", test_l1_initial_std_spikes)\n",
    "print(\"STD spikes shifted neurons attack: \", test_l1_FLO_std_spikes_00)\n",
    "\n",
    "print(\"Mean shifts: \", test_l1_mean_shifts)"
   ]
  },
  {
   "cell_type": "markdown",
   "metadata": {},
   "source": [
    "#### SECOND LAYER"
   ]
  },
  {
   "cell_type": "code",
   "execution_count": null,
   "metadata": {},
   "outputs": [],
   "source": [
    "sns.scatterplot(x='time_delta', y='neuron', data=data_initial_state[(data_initial_state.neuron >= MAX_L1) & (data_initial_state.neuron < MAX_L2) & (data_initial_state.time_delta >= inicio) & (data_initial_state.time_delta <= fin)],\n",
    "                hue='attack', s=100, palette=[\"white\"], alpha=1, marker=\"o\", **kwargs) #, style='dataset'\n",
    "\n",
    "sns.scatterplot(x='time_delta', y='neuron', data=df_attack[(df_attack.neuron >= MAX_L1) & (df_attack.neuron < MAX_L2) & (data_FLO_00.time_delta >= inicio) & (data_FLO_00.time_delta <= fin)],\n",
    "                hue='attack', s=100, palette=[\"black\"], alpha=1, marker=\"x\", **kwargs) #, style='dataset'"
   ]
  },
  {
   "cell_type": "markdown",
   "metadata": {},
   "source": [
    "#### General perspective"
   ]
  },
  {
   "cell_type": "code",
   "execution_count": null,
   "metadata": {},
   "outputs": [],
   "source": [
    "# Total number of spikes\n",
    "l2_initial_nSpikes = data_initial_state[(data_initial_state.neuron >= MAX_L1) & (data_initial_state.neuron < MAX_L2)].count()[\"neuron\"]\n",
    "l2_FLO_nSpikes_00 = data_FLO_00[(data_FLO_00.neuron >= MAX_L1) & (data_FLO_00.neuron < MAX_L2)].count()[\"neuron\"]\n",
    "\n",
    "# Mean of spikes (over the total neurons of the layer)\n",
    "l2_initial_mean_spikes = round(d_initial_aggr_neuron[(d_initial_aggr_neuron.neuron >= MAX_L1) & (d_initial_aggr_neuron.neuron < MAX_L2)][\"n_spikes\"].mean(), 2)\n",
    "l2_FLO_mean_spikes_00 = round(d_FLO_aggr_neuron_00[(d_FLO_aggr_neuron_00.neuron >= MAX_L1) & (d_FLO_aggr_neuron_00.neuron < MAX_L2)][\"n_spikes\"].mean(), 2)\n",
    "\n",
    "# Standard deviation (over the total neurons of the layer)\n",
    "l2_initial_std_spikes = round(d_initial_aggr_neuron[(d_initial_aggr_neuron.neuron >= MAX_L1) & (d_initial_aggr_neuron.neuron < MAX_L2)][\"n_spikes\"].std(), 2)\n",
    "l2_FLO_std_spikes_00 = round(d_FLO_aggr_neuron_00[(d_FLO_aggr_neuron_00.neuron >= MAX_L1) & (d_FLO_aggr_neuron_00.neuron < MAX_L2)][\"n_spikes\"].std(), 2)\n",
    "\n",
    "# Percentage of shifts between the attack and normal behaviour\n",
    "l2_initial_nSpikes_join = data_initial_state[(data_initial_state.neuron >= MAX_L1) & (data_initial_state.neuron < MAX_L2)][[\"attack\", \"time_delta\", \"neuron\"]].copy()\n",
    "l2_FLO_nSpikes_join_00 = data_FLO_00[(data_FLO_00.neuron >= MAX_L1) & (data_FLO_00.neuron < MAX_L2)][[\"attack\", \"time_delta\", \"neuron\"]].copy()\n",
    "l2_join_initial_FLO_shifts_00 = pd.merge(l2_FLO_nSpikes_join_00, l2_initial_nSpikes_join,  how='left', left_on=['time_delta','neuron'], right_on = ['time_delta','neuron'])\n",
    "l2_join_initial_FLO_shifts_00 = l2_join_initial_FLO_shifts_00.fillna(0)\n",
    "l2_n_shifts_initial_FLO_00 = l2_join_initial_FLO_shifts_00[l2_join_initial_FLO_shifts_00.attack_y == 0].count()[\"neuron\"]\n",
    "l2_percent_shifts_initial_FLO_00 = round((l2_n_shifts_initial_FLO_00/l2_FLO_nSpikes_00)*100,2)\n",
    "\n",
    "# List of neurons shifted in this layer\n",
    "l2_FLO_shifted_neurons_00 = l2_join_initial_FLO_shifts_00[l2_join_initial_FLO_shifts_00.attack_y == 0][\"neuron\"].unique()"
   ]
  },
  {
   "cell_type": "code",
   "execution_count": null,
   "metadata": {
    "scrolled": true
   },
   "outputs": [],
   "source": [
    "print(\"== LAYER 2 - General statistics ==\")\n",
    "print(\">> Total number of spikes\")\n",
    "print(\"initial_state: \", l2_initial_nSpikes) \n",
    "print(\"Attack: \", l2_FLO_nSpikes_00)\n",
    "\n",
    "print(\"---\")\n",
    "\n",
    "print(\">> Mean of spikes (over the total neurons of the layer)\")\n",
    "print(\"initial_state: \", l2_initial_mean_spikes)\n",
    "print(\"Attack: \", l2_FLO_mean_spikes_00)\n",
    "\n",
    "print(\"---\")\n",
    "\n",
    "print(\">> Standard deviation (over the total neurons of the layer)\")\n",
    "print(\"initial_state: \", l2_initial_std_spikes)\n",
    "print(\"Attack: \", l2_FLO_std_spikes_00)\n",
    "\n",
    "print(\"---\")\n",
    "\n",
    "print(\">> % shifts FLO_00/initial_state\")\n",
    "print(l2_percent_shifts_initial_FLO_00)"
   ]
  },
  {
   "cell_type": "markdown",
   "metadata": {},
   "source": [
    "#### Attacked neurons perspective"
   ]
  },
  {
   "cell_type": "code",
   "execution_count": null,
   "metadata": {},
   "outputs": [],
   "source": [
    "fig, ax = plt.subplots(1, 1)\n",
    "\n",
    "sns.scatterplot(x='time_delta', y='neuron', data=data_initial_state[(data_initial_state.neuron.isin(l2_FLO_shifted_neurons_00)) & (data_initial_state.time_delta >= inicio) & (data_initial_state.time_delta <= fin)],\n",
    "                hue='attack', s=100, palette=[\"white\"], alpha=1, marker=\"o\", **kwargs) #, style='dataset'\n",
    "\n",
    "sns.scatterplot(x='time_delta', y='neuron', data=data_FLO_00[(data_FLO_00.neuron.isin(l2_FLO_shifted_neurons_00)) & (data_FLO_00.time_delta >= inicio) & (data_FLO_00.time_delta <= fin)],\n",
    "                hue='attack', s=100, palette=[\"black\"], alpha=1, marker=\"x\", **kwargs) #, style='dataset'\n",
    "\n",
    "\n",
    "cont = 25\n",
    "for a in range(0, 28):\n",
    "    plt.axvline(x=cont*a, color=\"red\")\n",
    "\n",
    "ax.xaxis.set_major_locator(ticker.MultipleLocator(25))"
   ]
  },
  {
   "cell_type": "code",
   "execution_count": null,
   "metadata": {},
   "outputs": [],
   "source": [
    "# spikes: mean\n",
    "test_l2_initial_mean_spikes = round(d_initial_aggr_neuron[(d_initial_aggr_neuron.neuron.isin(l2_FLO_shifted_neurons_00))][\"n_spikes\"].mean(), 2)\n",
    "test_l2_FLO_mean_spikes_00 = round(d_FLO_aggr_neuron_00[(d_FLO_aggr_neuron_00.neuron.isin(l2_FLO_shifted_neurons_00))][\"n_spikes\"].mean(), 2)\n",
    "\n",
    "# Standard deviation\n",
    "test_l2_initial_std_spikes = round(d_initial_aggr_neuron[(d_initial_aggr_neuron.neuron.isin(l2_FLO_shifted_neurons_00))][\"n_spikes\"].std(), 2)\n",
    "test_l2_FLO_std_spikes_00 = round(d_FLO_aggr_neuron_00[(d_FLO_aggr_neuron_00.neuron.isin(l2_FLO_shifted_neurons_00))][\"n_spikes\"].std(), 2)\n",
    "\n",
    "# mean of % shifts\n",
    "test_l2_join_shifts_attk = l2_join_initial_FLO_shifts_00[l2_join_initial_FLO_shifts_00.neuron.isin(l2_FLO_shifted_neurons_00)]\n",
    "test_n_shifts_zeros = test_l2_join_shifts_attk[test_l2_join_shifts_attk.attack_y == 0].count()[\"neuron\"]\n",
    "\n",
    "# number of shifts under attack (count zeros) / total number of spikes under attck  \n",
    "test_l2_mean_shifts = round((test_n_shifts_zeros/test_l2_join_shifts_attk.neuron.count())*100,2)\n",
    "\n",
    "\n",
    "'''\n",
    "test_l2_initial_nSpikes_dict = {}\n",
    "test_l2_FLO_00_nSpikes_dict = {}\n",
    "test_l2_shifts_dict = {}\n",
    "\n",
    "for neuron in l2_FLO_shifted_neurons_00:\n",
    "    test_l2_initial_nSpikes_dict[neuron] = data_initial_state[(data_initial_state.neuron == neuron)][\"neuron\"].count()\n",
    "    test_l2_FLO_00_nSpikes_dict[neuron] = df_attack[(df_attack.neuron == neuron)][\"neuron\"].count()\n",
    "    \n",
    "    data_spikes_neuron = l2_join_initial_FLO_shifts_00[l2_join_initial_FLO_shifts_00.neuron.isin([neuron])]    \n",
    "    test_l2_shifts_dict[neuron] = round(data_spikes_neuron[data_spikes_neuron.attack_y == 0].attack_y.count()/data_spikes_neuron.attack_y.count()*100, 2)\n",
    "    \n",
    "# Mean of spikes (over the neurons shifted of the layer)\n",
    "test_l2_initial_mean_spikes = round(np.array(list(test_l2_initial_nSpikes_dict.values())).mean(), 2)\n",
    "test_l2_FLO_mean_spikes_00 = round(np.array(list(test_l2_FLO_00_nSpikes_dict.values())).mean(), 2)\n",
    "\n",
    "# STD of spikes (over the neurons shifted of the layer)\n",
    "test_l2_initial_std_spikes = round(np.array(list(test_l2_initial_nSpikes_dict.values())).std(), 2)\n",
    "test_l2_FLO_std_spikes_00 = round(np.array(list(test_l2_FLO_00_nSpikes_dict.values())).std(), 2)\n",
    "\n",
    "# Mean and STD of shifts\n",
    "test_l2_mean_shifts = round(np.array(list(test_l2_shifts_dict.values())).mean(), 2)\n",
    "test_l2_std_shifts = round(np.array(list(test_l2_shifts_dict.values())).std(), 2)\n",
    "\n",
    "for neuron in reversed(sorted(test_l2_initial_nSpikes_dict.keys())):\n",
    "    print(\"%s Spikes initial_state: %s\" %(neuron, test_l2_initial_nSpikes_dict[neuron]))\n",
    "\n",
    "print(\"---\")\n",
    "    \n",
    "for neuron in reversed(sorted(test_l2_FLO_00_nSpikes_dict.keys())):\n",
    "    print(\"%s Spikes attack: %s\" %(neuron, test_l2_FLO_00_nSpikes_dict[neuron]))\n",
    "\n",
    "print(\"---\")\n",
    "\n",
    "for neuron in reversed(sorted(test_l2_shifts_dict.keys())):\n",
    "    print(\"%s percent shifts attack/initial_state: %s\" %(neuron, test_l2_shifts_dict[neuron]))\n",
    "\n",
    "print(\"---\")\n",
    "'''"
   ]
  },
  {
   "cell_type": "code",
   "execution_count": null,
   "metadata": {
    "scrolled": false
   },
   "outputs": [],
   "source": [
    "print(\"Mean spikes shifted neurons initial_state: \", test_l2_initial_mean_spikes)\n",
    "print(\"Mean spikes shifted neurons attack: \", test_l2_FLO_mean_spikes_00)\n",
    "print(\"STD spikes shifted neurons initial_state: \", test_l2_initial_std_spikes)\n",
    "print(\"STD spikes shifted neurons attack: \", test_l2_FLO_std_spikes_00)\n",
    "print(\"Mean shifts: \", test_l2_mean_shifts)"
   ]
  },
  {
   "cell_type": "markdown",
   "metadata": {},
   "source": [
    "#### THIRD LAYER"
   ]
  },
  {
   "cell_type": "markdown",
   "metadata": {},
   "source": [
    "#### General perspective"
   ]
  },
  {
   "cell_type": "code",
   "execution_count": null,
   "metadata": {},
   "outputs": [],
   "source": [
    "# Total number of spikes\n",
    "\n",
    "l3_initial_nSpikes = data_initial_state[(data_initial_state.neuron >= MAX_L2)].count()[\"neuron\"]\n",
    "l3_FLO_nSpikes_00 = data_FLO_00[data_FLO_00.neuron >= MAX_L2].count()[\"neuron\"]\n",
    "\n",
    "# Mean of spikes (over the total neurons of the layer)\n",
    "l3_initial_mean_spikes = round(d_initial_aggr_neuron[d_initial_aggr_neuron.neuron >= MAX_L2][\"n_spikes\"].mean(), 2)\n",
    "l3_FLO_mean_spikes_00 = round(d_FLO_aggr_neuron_00[d_FLO_aggr_neuron_00.neuron >= MAX_L2][\"n_spikes\"].mean(), 2)\n",
    "\n",
    "# Standard deviation (over the total neurons of the layer)\n",
    "l3_initial_std_spikes = round(d_initial_aggr_neuron[d_initial_aggr_neuron.neuron >= MAX_L2][\"n_spikes\"].std(), 2)\n",
    "l3_FLO_std_spikes_00 = round(d_FLO_aggr_neuron_00[d_FLO_aggr_neuron_00.neuron >= MAX_L2][\"n_spikes\"].std(), 2)\n",
    "\n",
    "# Percentage of shifts between the attack and normal behaviour\n",
    "\n",
    "l3_initial_nSpikes_join = data_initial_state[data_initial_state.neuron >= MAX_L2][[\"attack\", \"time_delta\", \"neuron\"]].copy()\n",
    "l3_FLO_nSpikes_join_00 = data_FLO_00[data_FLO_00.neuron >= MAX_L2][[\"attack\", \"time_delta\", \"neuron\"]].copy()\n",
    "l3_join_initial_FLO_shifts_00 = pd.merge(l3_FLO_nSpikes_join_00, l3_initial_nSpikes_join,  how='left', left_on=['time_delta','neuron'], right_on = ['time_delta','neuron'])\n",
    "\n",
    "l3_join_initial_FLO_shifts_00 = l3_join_initial_FLO_shifts_00.fillna(0)\n",
    "l3_n_shifts_initial_FLO_00 = l3_join_initial_FLO_shifts_00[l3_join_initial_FLO_shifts_00.attack_y == 0].count()[\"neuron\"]\n",
    "l3_percent_shifts_initial_FLO_00 = round((l3_n_shifts_initial_FLO_00/l3_FLO_nSpikes_00)*100,2)\n",
    "\n",
    "# List of neurons shifted in this layer\n",
    "l3_FLO_shifted_neurons_00 = l3_join_initial_FLO_shifts_00[l3_join_initial_FLO_shifts_00.attack_y == 0][\"neuron\"].unique()"
   ]
  },
  {
   "cell_type": "code",
   "execution_count": null,
   "metadata": {
    "scrolled": true
   },
   "outputs": [],
   "source": [
    "print(\"== LAYER 3 - General statistics ==\")\n",
    "print(\">> Total number of spikes\")\n",
    "print(\"initial_state: \", l3_initial_nSpikes) \n",
    "print(\"Attack: \", l3_FLO_nSpikes_00)\n",
    "\n",
    "print(\"---\")\n",
    "\n",
    "print(\">> Mean of spikes (over the total neurons of the layer)\")\n",
    "print(\"initial_state: \", l3_initial_mean_spikes)\n",
    "print(\"Attack: \", l3_FLO_mean_spikes_00)\n",
    "\n",
    "print(\"---\")\n",
    "\n",
    "print(\">> Standard deviation (over the total neurons of the layer)\")\n",
    "print(\"initial_state: \", l3_initial_std_spikes)\n",
    "print(\"Attack: \", l3_FLO_std_spikes_00)\n",
    "\n",
    "print(\"---\")\n",
    "\n",
    "print(\">> % shifts FLO_00/initial_state\")\n",
    "print(l3_percent_shifts_initial_FLO_00)"
   ]
  },
  {
   "cell_type": "markdown",
   "metadata": {},
   "source": [
    "#### Attacked neurons perspective"
   ]
  },
  {
   "cell_type": "code",
   "execution_count": null,
   "metadata": {},
   "outputs": [],
   "source": [
    "sns.scatterplot(x='time_delta', y='neuron', data=data_initial_state[(data_initial_state.neuron.isin(l3_FLO_shifted_neurons_00)) & (data_initial_state.time_delta >= inicio) & (data_initial_state.time_delta <= fin)],\n",
    "                hue='attack', s=100, palette=[\"white\"], alpha=1, marker=\"o\", **kwargs) #, style='dataset'\n",
    "\n",
    "sns.scatterplot(x='time_delta', y='neuron', data=data_FLO_00[(data_FLO_00.neuron.isin(l3_FLO_shifted_neurons_00)) & (data_FLO_00.time_delta >= inicio) & (data_FLO_00.time_delta <= fin)],\n",
    "                hue='attack', s=100, palette=[\"black\"], alpha=1, marker=\"x\", **kwargs) #, style='dataset'\n",
    "\n",
    "\n",
    "cont = 25\n",
    "for a in range(0, 28):\n",
    "    plt.axvline(x=cont*a, color=\"red\")\n",
    "\n",
    "ax.xaxis.set_major_locator(ticker.MultipleLocator(25))"
   ]
  },
  {
   "cell_type": "code",
   "execution_count": null,
   "metadata": {},
   "outputs": [],
   "source": [
    "# spikes: mean and std\n",
    "test_l3_initial_mean_spikes = round(d_initial_aggr_neuron[(d_initial_aggr_neuron.neuron.isin(l3_FLO_shifted_neurons_00))][\"n_spikes\"].mean(), 2)\n",
    "test_l3_FLO_mean_spikes_00 = round(d_FLO_aggr_neuron_00[(d_FLO_aggr_neuron_00.neuron.isin(l3_FLO_shifted_neurons_00))][\"n_spikes\"].mean(), 2)\n",
    "\n",
    "# Standard deviation\n",
    "test_l3_initial_std_spikes = round(d_initial_aggr_neuron[(d_initial_aggr_neuron.neuron.isin(l3_FLO_shifted_neurons_00))][\"n_spikes\"].std(), 2)\n",
    "test_l3_FLO_std_spikes_00 = round(d_FLO_aggr_neuron_00[(d_FLO_aggr_neuron_00.neuron.isin(l3_FLO_shifted_neurons_00))][\"n_spikes\"].std(), 2)\n",
    "\n",
    "# mean of % shifts\n",
    "test_l3_join_shifts_attk = l3_join_initial_FLO_shifts_00[l3_join_initial_FLO_shifts_00.neuron.isin(l3_FLO_shifted_neurons_00)]\n",
    "test_n_shifts_zeros = test_l3_join_shifts_attk[test_l3_join_shifts_attk.attack_y == 0].count()[\"neuron\"]\n",
    "\n",
    "# number of shifts under attack (count zeros) / total number of spikes under attck  \n",
    "test_l3_mean_shifts = round((test_n_shifts_zeros/test_l3_join_shifts_attk.neuron.count())*100,2)\n",
    "\n",
    "'''\n",
    "test_l3_initial_nSpikes_dict = {}\n",
    "test_l3_FLO_00_nSpikes_dict = {}\n",
    "test_l3_shifts_dict = {}\n",
    "\n",
    "for neuron in l3_FLO_shifted_neurons_00:\n",
    "    test_l3_initial_nSpikes_dict[neuron] = data_initial_state[(data_initial_state.neuron == neuron)][\"neuron\"].count()\n",
    "    test_l3_FLO_00_nSpikes_dict[neuron] = df_attack[(df_attack.neuron == neuron)][\"neuron\"].count()\n",
    "    \n",
    "    data_spikes_neuron = l3_join_initial_FLO_shifts_00[l3_join_initial_FLO_shifts_00.neuron.isin([neuron])]\n",
    "    test_l3_shifts_dict[neuron] = round(data_spikes_neuron[data_spikes_neuron.attack_y == 0].attack_y.count()/data_spikes_neuron.attack_y.count()*100 ,2)\n",
    "    \n",
    "# Mean of spikes (over the neurons shifted of the layer)\n",
    "test_l3_initial_mean_spikes = round(np.array(list(test_l3_initial_nSpikes_dict.values())).mean(), 2)\n",
    "test_l3_FLO_mean_spikes_00 = round(np.array(list(test_l3_FLO_00_nSpikes_dict.values())).mean(), 2)\n",
    "\n",
    "# STD of spikes (over the neurons shifted of the layer)\n",
    "test_l3_initial_std_spikes = round(np.array(list(test_l3_initial_nSpikes_dict.values())).std(), 2)\n",
    "test_l3_FLO_std_spikes_00 = round(np.array(list(test_l3_FLO_00_nSpikes_dict.values())).std(), 2)\n",
    "\n",
    "# Mean and STD of shifts\n",
    "test_l3_mean_shifts = round(np.array(list(test_l3_shifts_dict.values())).mean(), 2)\n",
    "test_l3_std_shifts = round(np.array(list(test_l3_shifts_dict.values())).std(), 2)\n",
    "\n",
    "for neuron in reversed(sorted(test_l3_initial_nSpikes_dict.keys())):\n",
    "    print(\"%s Spikes initial_state: %s\" %(neuron, test_l3_initial_nSpikes_dict[neuron]))\n",
    "\n",
    "print(\"---\")\n",
    "    \n",
    "for neuron in reversed(sorted(test_l3_FLO_00_nSpikes_dict.keys())):\n",
    "    print(\"%s Spikes attack: %s\" %(neuron, test_l3_FLO_00_nSpikes_dict[neuron]))\n",
    "\n",
    "print(\"---\")\n",
    "\n",
    "for neuron in reversed(sorted(test_l3_shifts_dict.keys())):\n",
    "    print(\"%s percent shifts attack/initial_state: %s\" %(neuron, test_l3_shifts_dict[neuron]))\n",
    "\n",
    "print(\"---\")\n",
    "'''"
   ]
  },
  {
   "cell_type": "code",
   "execution_count": null,
   "metadata": {},
   "outputs": [],
   "source": [
    "print(\"Mean spikes shifted neurons initial_state: \", test_l3_initial_mean_spikes)\n",
    "print(\"Mean spikes shifted neurons attack: \", test_l3_FLO_mean_spikes_00)\n",
    "print(\"STD spikes shifted neurons initial_state: \", test_l3_initial_std_spikes)\n",
    "print(\"STD spikes shifted neurons attack: \", test_l3_FLO_std_spikes_00)\n",
    "\n",
    "print(\"Mean shifts: \", test_l3_mean_shifts)"
   ]
  },
  {
   "cell_type": "markdown",
   "metadata": {},
   "source": [
    "#### Data for comparative tables"
   ]
  },
  {
   "cell_type": "code",
   "execution_count": null,
   "metadata": {},
   "outputs": [],
   "source": [
    "def check_math_symbol(initial, attack):\n",
    "    if initial < attack:\n",
    "        return \"<\"\n",
    "    elif initial == attack:\n",
    "        return \"=\"\n",
    "    else:\n",
    "        return \">\""
   ]
  },
  {
   "cell_type": "code",
   "execution_count": null,
   "metadata": {},
   "outputs": [],
   "source": [
    "def range_values(dictionary):\n",
    "    min_value = min(dictionary.values())\n",
    "    max_value = max(dictionary.values())\n",
    "    \n",
    "    if min_value == max_value:\n",
    "        \n",
    "        return str(min_value)\n",
    "    else:\n",
    "        return str(min_value)+\"-\"+str(max_value)\n",
    "    \n",
    "def max_dict(dictionary):\n",
    "    return max(dictionary.values())"
   ]
  },
  {
   "cell_type": "code",
   "execution_count": null,
   "metadata": {},
   "outputs": [],
   "source": []
  },
  {
   "cell_type": "code",
   "execution_count": null,
   "metadata": {},
   "outputs": [],
   "source": []
  },
  {
   "cell_type": "code",
   "execution_count": null,
   "metadata": {},
   "outputs": [],
   "source": [
    "'''\n",
    "print(\"== Global perspective ==\")\n",
    "print(\"> Layer 1\")\n",
    "print(\"Spikes: %s %s %s\" % (l1_initial_nSpikes, check_math_symbol(l1_initial_nSpikes, l1_FLO_nSpikes_00), l1_FLO_nSpikes_00))\n",
    "print(\"Mean: %s %s %s\" % (l1_initial_mean_spikes, check_math_symbol(l1_initial_mean_spikes, l1_FLO_mean_spikes_00), l1_FLO_mean_spikes_00))\n",
    "print(\"STD: %s %s %s\" % (l1_initial_std_spikes, check_math_symbol(l1_initial_std_spikes, l1_FLO_std_spikes_00), l1_FLO_std_spikes_00))\n",
    "print(\"Shifts: %s %%\" % (l1_percent_shifts_initial_FLO_00))\n",
    "print(\"\")\n",
    "\n",
    "print(\"> Layer 2\")\n",
    "print(\"Spikes: %s %s %s\" % (l2_initial_nSpikes, check_math_symbol(l2_initial_nSpikes, l2_FLO_nSpikes_00), l2_FLO_nSpikes_00))\n",
    "print(\"Mean: %s %s %s\" % (l2_initial_mean_spikes, check_math_symbol(l2_initial_mean_spikes, l2_FLO_mean_spikes_00), l2_FLO_mean_spikes_00))\n",
    "print(\"STD: %s %s %s\" % (l2_initial_std_spikes, check_math_symbol(l2_initial_std_spikes, l2_FLO_std_spikes_00), l2_FLO_std_spikes_00))\n",
    "print(\"Shifts: %s %%\" % (l2_percent_shifts_initial_FLO_00))\n",
    "print(\"\")\n",
    "\n",
    "print(\"> Layer 3\")\n",
    "print(\"Spikes: %s %s %s\" % (l3_initial_nSpikes, check_math_symbol(l3_initial_nSpikes, l3_FLO_nSpikes_00), l3_FLO_nSpikes_00))\n",
    "print(\"Mean: %s %s %s\" % (l3_initial_mean_spikes, check_math_symbol(l3_initial_mean_spikes, l3_FLO_mean_spikes_00), l3_FLO_mean_spikes_00))\n",
    "print(\"STD: %s %s %s\" % (l3_initial_std_spikes, check_math_symbol(l3_initial_std_spikes, l3_FLO_std_spikes_00), l3_FLO_std_spikes_00))\n",
    "print(\"Shifts: %s %%\" % (l3_percent_shifts_initial_FLO_00))\n",
    "print(\"\")\n",
    "\n",
    "print(\"== Attacked neurons perspective ==\")\n",
    "print(\"> Layer 1\")\n",
    "range_i = range_values(test_l1_initial_nSpikes_dict)\n",
    "range_a = range_values(test_l1_FLO_00_nSpikes_dict)\n",
    "comp = check_math_symbol(max_dict(test_l1_initial_nSpikes_dict), max_dict(test_l1_FLO_00_nSpikes_dict))\n",
    "print(\"Spikes: %s %s %s\" % (range_i, comp, range_a))\n",
    "print(\"Mean spikes: %s %s %s\" % (test_l1_initial_mean_spikes, check_math_symbol(test_l1_initial_mean_spikes, test_l1_FLO_mean_spikes_00), test_l1_FLO_mean_spikes_00))\n",
    "print(\"STD spikes: %s %s %s\" % (test_l1_initial_std_spikes, check_math_symbol(test_l1_initial_std_spikes, test_l1_FLO_std_spikes_00), test_l1_FLO_std_spikes_00))\n",
    "print(\"Shifts: %s %%\" % (range_values(test_l1_shifts_dict)))\n",
    "print(\"Mean shifts: %s %%\" % (test_l1_mean_shifts))\n",
    "print(\"STD shifts: %s %%\" % (test_l1_std_shifts))\n",
    "print(\"\")\n",
    "\n",
    "print(\"> Layer 2\")\n",
    "range_i = range_values(test_l2_initial_nSpikes_dict)\n",
    "range_a = range_values(test_l2_FLO_00_nSpikes_dict)\n",
    "comp = check_math_symbol(max_dict(test_l2_initial_nSpikes_dict), max_dict(test_l2_FLO_00_nSpikes_dict))\n",
    "print(\"Spikes: %s %s %s\" % (range_i, comp, range_a))\n",
    "print(\"Mean spikes: %s %s %s\" % (test_l2_initial_mean_spikes, check_math_symbol(test_l2_initial_mean_spikes, test_l2_FLO_mean_spikes_00), test_l2_FLO_mean_spikes_00))\n",
    "print(\"STD spikes: %s %s %s\" % (test_l2_initial_std_spikes, check_math_symbol(test_l2_initial_std_spikes, test_l2_FLO_std_spikes_00), test_l2_FLO_std_spikes_00))\n",
    "print(\"Shifts: %s %%\" % (range_values(test_l2_shifts_dict)))\n",
    "print(\"Mean shifts: %s %%\" % (test_l2_mean_shifts))\n",
    "print(\"STD shifts: %s %%\" % (test_l2_std_shifts))\n",
    "print(\"\")\n",
    "\n",
    "print(\"> Layer 3\")\n",
    "range_i = range_values(test_l3_initial_nSpikes_dict)\n",
    "range_a = range_values(test_l3_FLO_00_nSpikes_dict)\n",
    "comp = check_math_symbol(max_dict(test_l3_initial_nSpikes_dict), max_dict(test_l3_FLO_00_nSpikes_dict))\n",
    "print(\"Spikes: %s %s %s\" % (range_i, comp, range_a))\n",
    "print(\"Mean spikes: %s %s %s\" % (test_l3_initial_mean_spikes, check_math_symbol(test_l3_initial_mean_spikes, test_l3_FLO_mean_spikes_00), test_l3_FLO_mean_spikes_00))\n",
    "print(\"STD spikes: %s %s %s\" % (test_l3_initial_std_spikes, check_math_symbol(test_l3_initial_std_spikes, test_l3_FLO_std_spikes_00), test_l3_FLO_std_spikes_00))\n",
    "print(\"Shifts: %s %%\" % (range_values(test_l3_shifts_dict)))\n",
    "print(\"Mean shifts: %s %%\" % (test_l3_mean_shifts))\n",
    "print(\"STD shifts: %s %%\" % (test_l3_std_shifts))\n",
    "'''"
   ]
  },
  {
   "cell_type": "code",
   "execution_count": null,
   "metadata": {},
   "outputs": [],
   "source": [
    "print(\"== Global perspective ==\")\n",
    "print(\"> Layer 1\")\n",
    "print(\"Spikes: %s %s %s\" % (l1_initial_nSpikes, check_math_symbol(l1_initial_nSpikes, l1_FLO_nSpikes_00), l1_FLO_nSpikes_00))\n",
    "print(\"Mean: %s %s %s\" % (l1_initial_mean_spikes, check_math_symbol(l1_initial_mean_spikes, l1_FLO_mean_spikes_00), l1_FLO_mean_spikes_00))\n",
    "print(\"STD: %s %s %s\" % (l1_initial_std_spikes, check_math_symbol(l1_initial_std_spikes, l1_FLO_std_spikes_00), l1_FLO_std_spikes_00))\n",
    "print(\"Shifts: %s %%\" % (l1_percent_shifts_initial_FLO_00))\n",
    "print(\"\")\n",
    "\n",
    "print(\"> Layer 2\")\n",
    "print(\"Spikes: %s %s %s\" % (l2_initial_nSpikes, check_math_symbol(l2_initial_nSpikes, l2_FLO_nSpikes_00), l2_FLO_nSpikes_00))\n",
    "print(\"Mean: %s %s %s\" % (l2_initial_mean_spikes, check_math_symbol(l2_initial_mean_spikes, l2_FLO_mean_spikes_00), l2_FLO_mean_spikes_00))\n",
    "print(\"STD: %s %s %s\" % (l2_initial_std_spikes, check_math_symbol(l2_initial_std_spikes, l2_FLO_std_spikes_00), l2_FLO_std_spikes_00))\n",
    "print(\"Shifts: %s %%\" % (l2_percent_shifts_initial_FLO_00))\n",
    "print(\"\")\n",
    "\n",
    "print(\"> Layer 3\")\n",
    "print(\"Spikes: %s %s %s\" % (l3_initial_nSpikes, check_math_symbol(l3_initial_nSpikes, l3_FLO_nSpikes_00), l3_FLO_nSpikes_00))\n",
    "print(\"Mean: %s %s %s\" % (l3_initial_mean_spikes, check_math_symbol(l3_initial_mean_spikes, l3_FLO_mean_spikes_00), l3_FLO_mean_spikes_00))\n",
    "print(\"STD: %s %s %s\" % (l3_initial_std_spikes, check_math_symbol(l3_initial_std_spikes, l3_FLO_std_spikes_00), l3_FLO_std_spikes_00))\n",
    "print(\"Shifts: %s %%\" % (l3_percent_shifts_initial_FLO_00))\n",
    "print(\"\")\n",
    "\n",
    "print(\"== Attacked neurons perspective ==\")\n",
    "print(\"> Layer 1\")\n",
    "print(\"Mean spikes: %s %s %s\" % (test_l1_initial_mean_spikes, check_math_symbol(test_l1_initial_mean_spikes, test_l1_FLO_mean_spikes_00), test_l1_FLO_mean_spikes_00))\n",
    "print(\"STD spikes: %s %s %s\" % (test_l1_initial_std_spikes, check_math_symbol(test_l1_initial_std_spikes, test_l1_FLO_std_spikes_00), test_l1_FLO_std_spikes_00))\n",
    "print(\"Mean shifts: %s %%\" % (test_l1_mean_shifts))\n",
    "print(\"\")\n",
    "\n",
    "print(\"> Layer 2\")\n",
    "print(\"Mean spikes: %s %s %s\" % (test_l2_initial_mean_spikes, check_math_symbol(test_l2_initial_mean_spikes, test_l2_FLO_mean_spikes_00), test_l2_FLO_mean_spikes_00))\n",
    "print(\"STD spikes: %s %s %s\" % (test_l2_initial_std_spikes, check_math_symbol(test_l2_initial_std_spikes, test_l2_FLO_std_spikes_00), test_l2_FLO_std_spikes_00))\n",
    "print(\"Mean shifts: %s %%\" % (test_l2_mean_shifts))\n",
    "print(\"\")\n",
    "\n",
    "print(\"> Layer 3\")\n",
    "print(\"Mean spikes: %s %s %s\" % (test_l3_initial_mean_spikes, check_math_symbol(test_l3_initial_mean_spikes, test_l3_FLO_mean_spikes_00), test_l3_FLO_mean_spikes_00))\n",
    "print(\"STD spikes: %s %s %s\" % (test_l3_initial_std_spikes, check_math_symbol(test_l3_initial_std_spikes, test_l3_FLO_std_spikes_00), test_l3_FLO_std_spikes_00))\n",
    "print(\"Mean shifts: %s %%\" % (test_l3_mean_shifts))"
   ]
  },
  {
   "cell_type": "code",
   "execution_count": null,
   "metadata": {},
   "outputs": [],
   "source": []
  },
  {
   "cell_type": "code",
   "execution_count": null,
   "metadata": {
    "scrolled": false
   },
   "outputs": [],
   "source": [
    "#######\n",
    "\n",
    "for i in range(0, 700, 25):\n",
    "    t_min = i\n",
    "    t_max = t_min+25\n",
    "    \n",
    "    print(\"Period %s-%s\" %(t_min, t_max))    \n",
    "    print(\"initial: \", data_initial_state[(data_initial_state.neuron == 254) & (data_initial_state.time_delta >= t_min) & (data_initial_state. time_delta < t_max)][\"neuron\"].count())\n",
    "    print(\"attack: \", df_attack[(df_attack.neuron == 254) & (df_attack.time_delta >= t_min) & (df_attack.time_delta < t_max)][\"neuron\"].count())\n",
    "    print(\"\")"
   ]
  },
  {
   "cell_type": "code",
   "execution_count": null,
   "metadata": {},
   "outputs": [],
   "source": []
  },
  {
   "cell_type": "code",
   "execution_count": null,
   "metadata": {},
   "outputs": [],
   "source": []
  },
  {
   "cell_type": "code",
   "execution_count": null,
   "metadata": {},
   "outputs": [],
   "source": []
  },
  {
   "cell_type": "markdown",
   "metadata": {},
   "source": [
    "## TEST behaviour (stats): FLO -  automated attacks & comparative charts"
   ]
  },
  {
   "cell_type": "code",
   "execution_count": null,
   "metadata": {},
   "outputs": [],
   "source": [
    "import math"
   ]
  },
  {
   "cell_type": "code",
   "execution_count": null,
   "metadata": {},
   "outputs": [],
   "source": [
    "def check_math_symbol(initial, attack):\n",
    "    if initial < attack:\n",
    "        return \"<\"\n",
    "    elif initial == attack:\n",
    "        return \"=\"\n",
    "    else:\n",
    "        return \">\""
   ]
  },
  {
   "cell_type": "code",
   "execution_count": null,
   "metadata": {},
   "outputs": [],
   "source": [
    "def range_values(dictionary):\n",
    "    min_value = min(dictionary.values())\n",
    "    max_value = max(dictionary.values())\n",
    "    \n",
    "    if min_value == max_value:\n",
    "        \n",
    "        return str(min_value)\n",
    "    else:\n",
    "        return str(min_value)+\"-\"+str(max_value)\n",
    "    \n",
    "def max_dict(dictionary):\n",
    "    return max(dictionary.values())\n",
    "\n",
    "\n",
    "def overwrite_nan(number):\n",
    "    if math.isnan(number):\n",
    "        return -1\n",
    "    else:\n",
    "        return number"
   ]
  },
  {
   "cell_type": "markdown",
   "metadata": {},
   "source": [
    "### Generate CSV with the resulting stats"
   ]
  },
  {
   "cell_type": "code",
   "execution_count": null,
   "metadata": {},
   "outputs": [],
   "source": [
    "csv_filename = \"test.csv\""
   ]
  },
  {
   "cell_type": "code",
   "execution_count": null,
   "metadata": {},
   "outputs": [],
   "source": [
    "df = pd.read_csv(csv_filename, delimiter=\";\", dtype={'n_neurons': np.int32})"
   ]
  },
  {
   "cell_type": "code",
   "execution_count": null,
   "metadata": {
    "scrolled": true
   },
   "outputs": [],
   "source": [
    "df.head()"
   ]
  },
  {
   "cell_type": "code",
   "execution_count": null,
   "metadata": {},
   "outputs": [],
   "source": [
    "data_initial_state = df[df.attack == \"initial_state\"]\n",
    "data_attack = df[(df.attack == \"FLO\") & (df.coord_attack == \"(0,0)\")]\n",
    "#concat_attack = pd.concat([data_initial_state.assign(attack='initial_state'), data_attack.assign(attack='FLO')])"
   ]
  },
  {
   "cell_type": "code",
   "execution_count": null,
   "metadata": {},
   "outputs": [],
   "source": [
    "#grouped = data_initial_state.groupby('neuron').count()[\"time_delta\"]\n",
    "#d_initial_aggr_neuron = pd.DataFrame()\n",
    "#d_initial_aggr_neuron['neuron'] = grouped.index\n",
    "#d_initial_aggr_neuron['n_spikes'] = grouped.tolist()"
   ]
  },
  {
   "cell_type": "code",
   "execution_count": null,
   "metadata": {},
   "outputs": [],
   "source": []
  },
  {
   "cell_type": "code",
   "execution_count": null,
   "metadata": {},
   "outputs": [],
   "source": [
    "inicio = 0\n",
    "fin = 700\n",
    "\n",
    "csv_header = [\n",
    "    \"test\", \"n_attacks\", \"n_neurons\", \"stim_value\", \"vIncrement\", \"paramI\",\n",
    "    \"l1_glbl_i_spikes_mean\",\"l1_glbl_a_spikes_mean\",\"l1_glbl_i_spikes_std\",\"l1_glbl_a_spikes_std\",\"l1_glbl_shifts\",\n",
    "    \"l1_attk_i_spikes_mean\",\"l1_attk_a_spikes_mean\",\"l1_attk_i_spikes_std\",\"l1_attk_a_spikes_std\",\"l1_attk_shifts_mean\",\n",
    "    \"l2_glbl_i_spikes_mean\",\"l2_glbl_a_spikes_mean\",\"l2_glbl_i_spikes_std\",\"l2_glbl_a_spikes_std\",\"l2_glbl_shifts\",\n",
    "    \"l2_attk_i_spikes_mean\",\"l2_attk_a_spikes_mean\",\"l2_attk_i_spikes_std\",\"l2_attk_a_spikes_std\",\"l2_attk_shifts_mean\",\n",
    "    \"l3_glbl_i_spikes_mean\",\"l3_glbl_a_spikes_mean\",\"l3_glbl_i_spikes_std\",\"l3_glbl_a_spikes_std\",\"l3_glbl_shifts\",\n",
    "    \"l3_attk_i_spikes_mean\",\"l3_attk_a_spikes_mean\",\"l3_attk_i_spikes_std\",\"l3_attk_a_spikes_std\",\"l3_attk_shifts_mean\",\n",
    "]\n",
    "\n",
    "stats_csv_filename = \"stats.csv\""
   ]
  },
  {
   "cell_type": "code",
   "execution_count": null,
   "metadata": {},
   "outputs": [],
   "source": [
    "# Overwrite export file\n",
    "open(stats_csv_filename, 'w').close() # Remove file content\n",
    "append_to_csv_file(stats_csv_filename, csv_header)"
   ]
  },
  {
   "cell_type": "code",
   "execution_count": null,
   "metadata": {},
   "outputs": [],
   "source": [
    "list_tests_attack = data_attack[\"test\"].unique()"
   ]
  },
  {
   "cell_type": "code",
   "execution_count": null,
   "metadata": {},
   "outputs": [],
   "source": [
    "list_tests_attack"
   ]
  },
  {
   "cell_type": "code",
   "execution_count": null,
   "metadata": {},
   "outputs": [],
   "source": []
  },
  {
   "cell_type": "code",
   "execution_count": null,
   "metadata": {},
   "outputs": [],
   "source": []
  },
  {
   "cell_type": "code",
   "execution_count": null,
   "metadata": {
    "scrolled": false
   },
   "outputs": [],
   "source": [
    "for test_id in list_tests_attack:\n",
    "    df_attack = data_attack[data_attack.test == test_id].copy()\n",
    "    \n",
    "    list_attacked_neurons = df_attack[\"attacked_neurons\"].unique()[0].split(\"-\")\n",
    "    \n",
    "    grouped = df_attack.groupby('neuron').count()[\"time_delta\"]\n",
    "    d_attack_aggr_neuron = pd.DataFrame()\n",
    "    d_attack_aggr_neuron['neuron'] = grouped.index\n",
    "    d_attack_aggr_neuron['n_spikes'] = grouped.tolist()\n",
    "    \n",
    "    # Get the data from the initial_state experiment based on the paramI value\n",
    "    param_I = df_attack.paramI.unique()[0]\n",
    "    \n",
    "    grouped = data_initial_state[(data_initial_state.paramI == param_I)].groupby('neuron').count()[\"time_delta\"]\n",
    "    d_initial_aggr_neuron = pd.DataFrame()\n",
    "    d_initial_aggr_neuron['neuron'] = grouped.index\n",
    "    d_initial_aggr_neuron['n_spikes'] = grouped.tolist()\n",
    "    \n",
    "    \n",
    "    data_csv = []\n",
    "    data_csv.append(test_id)\n",
    "    data_csv.append(df_attack[\"n_attacks\"].unique()[0])\n",
    "    data_csv.append(df_attack[\"n_neurons\"].unique()[0])\n",
    "    data_csv.append(df_attack[\"stim_value\"].unique()[0])\n",
    "    data_csv.append(df_attack[\"vIncrement\"].unique()[0])\n",
    "    data_csv.append(df_attack[\"paramI\"].unique()[0])   \n",
    "    \n",
    "    \n",
    "    for layer in range(1, 4):\n",
    "        if layer == 1:\n",
    "            min_range = 0\n",
    "            max_range = 200\n",
    "        elif layer == 2:\n",
    "            min_range = 200\n",
    "            max_range = 272\n",
    "        elif layer == 3:\n",
    "            min_range = 272\n",
    "            max_range = 276\n",
    "    \n",
    "        \n",
    "        ### GLOBAL PERSPECTIVE\n",
    "        # Total number of spikes\n",
    "        \n",
    "        initial_nSpikes = data_initial_state[(data_initial_state.paramI == param_I) & (data_initial_state.neuron >= min_range) & (data_initial_state.neuron < max_range)].count()[\"neuron\"]\n",
    "        attack_nSpikes = df_attack[(df_attack.neuron >= min_range) & (df_attack.neuron < max_range)].count()[\"neuron\"]\n",
    "\n",
    "        # Mean of spikes (over the total neurons of the layer)\n",
    "        initial_mean_spikes = round(d_initial_aggr_neuron[(d_initial_aggr_neuron.neuron >= min_range) & (d_initial_aggr_neuron.neuron < max_range)][\"n_spikes\"].mean(), 2)\n",
    "        attack_mean_spikes = round(d_attack_aggr_neuron[(d_attack_aggr_neuron.neuron >= min_range) & (d_attack_aggr_neuron.neuron < max_range)][\"n_spikes\"].mean(), 2)\n",
    "\n",
    "        # Standard deviation (over the total neurons of the layer)\n",
    "        initial_std_spikes = round(d_initial_aggr_neuron[(d_initial_aggr_neuron.neuron >= min_range) & (d_initial_aggr_neuron.neuron < max_range)][\"n_spikes\"].std(), 2)\n",
    "        attack_std_spikes = round(d_attack_aggr_neuron[(d_attack_aggr_neuron.neuron >= min_range) & (d_attack_aggr_neuron.neuron < max_range)][\"n_spikes\"].std(), 2)\n",
    "\n",
    "        # Percentage of shifts between the attack and normal behaviour\n",
    "        initial_nSpikes_join = data_initial_state[(data_initial_state.paramI == param_I) & (data_initial_state.neuron >= min_range) & (data_initial_state.neuron < max_range)][[\"attack\", \"time_delta\", \"neuron\"]].copy()\n",
    "        attack_nSpikes_join = df_attack[(df_attack.neuron >= min_range) & (df_attack.neuron < max_range)][[\"attack\", \"time_delta\", \"neuron\"]].copy()\n",
    "        join_initial_attack_shifts = pd.merge(attack_nSpikes_join, initial_nSpikes_join,  how='left', left_on=['time_delta','neuron'], right_on = ['time_delta','neuron'])\n",
    "        join_initial_attack_shifts = join_initial_attack_shifts.fillna(0)\n",
    "        n_shifts_initial_attack = join_initial_attack_shifts[join_initial_attack_shifts.attack_y == 0].count()[\"neuron\"]\n",
    "        percent_shifts_initial_attack = round((n_shifts_initial_attack/attack_nSpikes)*100,2)\n",
    "        \n",
    "        # List of neurons shifted in this layer\n",
    "        attack_shifted_neurons = join_initial_attack_shifts[join_initial_attack_shifts.attack_y == 0][\"neuron\"].unique()\n",
    "        \n",
    "        ### ATTACKED NEURONS PERSPECTIVE\n",
    "        \n",
    "        # spikes: mean\n",
    "        a_initial_mean_spikes = round(d_initial_aggr_neuron[(d_initial_aggr_neuron.neuron.isin(attack_shifted_neurons))][\"n_spikes\"].mean(), 2)\n",
    "        a_attack_mean_spikes = round(d_attack_aggr_neuron[(d_attack_aggr_neuron.neuron.isin(attack_shifted_neurons))][\"n_spikes\"].mean(), 2)\n",
    "\n",
    "        # Standard deviation\n",
    "        a_initial_std_spikes = round(d_initial_aggr_neuron[(d_initial_aggr_neuron.neuron.isin(attack_shifted_neurons))][\"n_spikes\"].std(), 2)\n",
    "        a_attack_std_spikes = round(d_attack_aggr_neuron[(d_attack_aggr_neuron.neuron.isin(attack_shifted_neurons))][\"n_spikes\"].std(), 2)\n",
    "\n",
    "        # mean of % shifts\n",
    "        a_join_shifts_attk = join_initial_attack_shifts[join_initial_attack_shifts.neuron.isin(attack_shifted_neurons)]\n",
    "        a_n_shifts_zeros = a_join_shifts_attk[a_join_shifts_attk.attack_y == 0].count()[\"neuron\"]\n",
    "        # number of shifts under attack (count zeros) / total number of spikes under attack \n",
    "        a_mean_shifts = round((a_n_shifts_zeros/a_join_shifts_attk.neuron.count())*100, 2)\n",
    "        \n",
    "        '''\n",
    "        print(\"== LAYER %s ==\" %(layer))\n",
    "        \n",
    "        print(\"\")\n",
    "        print(\"> Global perspective\")\n",
    "        \n",
    "        print(\"Spikes: %s %s %s\" % (initial_nSpikes, check_math_symbol(initial_nSpikes, attack_nSpikes), attack_nSpikes))\n",
    "        print(\"Mean spikes: %s %s %s\" % (initial_mean_spikes, check_math_symbol(initial_mean_spikes, attack_mean_spikes), attack_mean_spikes))\n",
    "        print(\"STD spikes: %s %s %s\" % (initial_std_spikes, check_math_symbol(initial_std_spikes, attack_std_spikes), attack_std_spikes))\n",
    "        print(\"Shifts: %s %%\" % (percent_shifts_initial_attack))\n",
    "        print(\"\")\n",
    "        \n",
    "        print(\"> Attacked neurons perspective\")\n",
    "        #range_i = range_values(a_initial_nSpikes_dict)\n",
    "        #range_a = range_values(a_attack_nSpikes_dict)\n",
    "        #comp = check_math_symbol(max_dict(a_initial_nSpikes_dict), max_dict(a_attack_nSpikes_dict))\n",
    "        #print(\"Spikes: %s %s %s\" % (range_i, comp, range_a))\n",
    "\n",
    "        print(\"Mean spikes: %s %s %s\" % (a_initial_mean_spikes, check_math_symbol(a_initial_mean_spikes, a_attack_mean_spikes), a_attack_mean_spikes))\n",
    "        print(\"STD spikes: %s %s %s\" % (a_initial_std_spikes, check_math_symbol(a_initial_std_spikes, a_attack_std_spikes), a_attack_std_spikes))\n",
    "        #print(\"Shifts: %s %%\" % (range_values(a_shifts_dict)))\n",
    "        print(\"Mean shifts: %s %%\" %(a_mean_shifts))\n",
    "        #print(\"STD shifts: %s %%\" %(a_std_shifts))\n",
    "        print(\"\")\n",
    "        '''\n",
    "        \n",
    "        data_csv.append(initial_mean_spikes)\n",
    "        data_csv.append(attack_mean_spikes)\n",
    "        data_csv.append(initial_std_spikes)\n",
    "        data_csv.append(attack_std_spikes)\n",
    "        data_csv.append(percent_shifts_initial_attack)\n",
    "        \n",
    "        data_csv.append(a_initial_mean_spikes)\n",
    "        data_csv.append(a_attack_mean_spikes)\n",
    "        data_csv.append(a_initial_std_spikes)\n",
    "        data_csv.append(a_attack_std_spikes)\n",
    "        data_csv.append(a_mean_shifts)\n",
    "    \n",
    "    print(\"generated test %s of %s\" %(test_id, len(list_tests_attack)))\n",
    "    append_to_csv_file(stats_csv_filename, data_csv)    "
   ]
  },
  {
   "cell_type": "code",
   "execution_count": null,
   "metadata": {},
   "outputs": [],
   "source": [
    "a_join_shifts_attk.neuron.count()"
   ]
  },
  {
   "cell_type": "code",
   "execution_count": null,
   "metadata": {},
   "outputs": [],
   "source": []
  },
  {
   "cell_type": "markdown",
   "metadata": {},
   "source": [
    "### Generate CSV with the resulting TIME stats"
   ]
  },
  {
   "cell_type": "markdown",
   "metadata": {},
   "source": [
    "In this case, we extract the information between the instants that define 3 of the positions of interest on the maze. We calculate the mean of spikes and mean of shifts from both initial_state and attack, for each test. As can be seen, we combine the data from all 3 layers (all 276 neurons)"
   ]
  },
  {
   "cell_type": "code",
   "execution_count": null,
   "metadata": {},
   "outputs": [],
   "source": [
    "csv_filename = \"FLO_L1_moving_steps_25ms.csv\""
   ]
  },
  {
   "cell_type": "code",
   "execution_count": null,
   "metadata": {},
   "outputs": [],
   "source": [
    "df = pd.read_csv(csv_filename, delimiter=\";\", dtype={'n_neurons': np.int32})"
   ]
  },
  {
   "cell_type": "code",
   "execution_count": null,
   "metadata": {
    "scrolled": true
   },
   "outputs": [],
   "source": [
    "df.head()"
   ]
  },
  {
   "cell_type": "code",
   "execution_count": null,
   "metadata": {},
   "outputs": [],
   "source": [
    "#data_initial_state = df[df.attack == \"initial_state\"]\n",
    "\n",
    "data_initial_state = df[(df.attack == \"initial_state\") & (data_initial_state.test == 1)]\n",
    "\n",
    "data_attack = df[(df.attack == \"FLO\") & (df.coord_attack == \"(0,0)\") & (df.vIncrement == 20)]"
   ]
  },
  {
   "cell_type": "code",
   "execution_count": null,
   "metadata": {},
   "outputs": [],
   "source": []
  },
  {
   "cell_type": "code",
   "execution_count": null,
   "metadata": {},
   "outputs": [],
   "source": []
  },
  {
   "cell_type": "code",
   "execution_count": null,
   "metadata": {},
   "outputs": [],
   "source": [
    "# Time instants separators (in ms)\n",
    "#T1_init = 500\n",
    "#T1_fin = 1000\n",
    "\n",
    "#T2_init = 28000\n",
    "#T2_fin = 28500\n",
    "\n",
    "#T3_init = 50000\n",
    "#T3_fin = 50500\n",
    "\n",
    "T1_init = 100\n",
    "T1_fin = 150\n",
    "\n",
    "T2_init = 300\n",
    "T2_fin = 350\n",
    "\n",
    "T3_init = 600\n",
    "T3_fin = 650\n",
    "\n",
    "\n",
    "csv_header = [\n",
    "    \"time_delta\", \"mean_spikes\", \"test\", \"n_attacks\", \"n_neurons\", \"stim_value\", \"vIncrement\", \"paramI\"\n",
    "]\n",
    "\n",
    "spontaneous_stats_csv_filename = \"stats_spontaneous.csv\"\n",
    "attacks_stats_csv_filename = \"stats_attacks.csv\""
   ]
  },
  {
   "cell_type": "code",
   "execution_count": null,
   "metadata": {},
   "outputs": [],
   "source": [
    "# Overwrite export file\n",
    "open(spontaneous_stats_csv_filename, 'w').close() # Remove file content\n",
    "append_to_csv_file(spontaneous_stats_csv_filename, csv_header)\n",
    "\n",
    "open(attacks_stats_csv_filename, 'w').close() # Remove file content\n",
    "append_to_csv_file(attacks_stats_csv_filename, csv_header)"
   ]
  },
  {
   "cell_type": "code",
   "execution_count": null,
   "metadata": {},
   "outputs": [],
   "source": [
    "list_tests_attack = data_attack[\"test\"].unique()"
   ]
  },
  {
   "cell_type": "code",
   "execution_count": null,
   "metadata": {},
   "outputs": [],
   "source": [
    "list_tests_attack"
   ]
  },
  {
   "cell_type": "code",
   "execution_count": null,
   "metadata": {
    "scrolled": true
   },
   "outputs": [],
   "source": []
  },
  {
   "cell_type": "code",
   "execution_count": null,
   "metadata": {},
   "outputs": [],
   "source": [
    "for test_id in list_tests_attack:\n",
    "    df_attack = data_attack[data_attack.test == test_id].copy()\n",
    "    \n",
    "    list_attacked_neurons = df_attack[\"attacked_neurons\"].unique()[0].split(\"-\")\n",
    "    \n",
    "    # Get the data from the initial_state experiment based on the paramI value\n",
    "    param_I = df_attack.paramI.unique()[0]    \n",
    "    \n",
    "    for position in range(1, 2): #4):\n",
    "        if position == 1:\n",
    "            min_range = T1_init\n",
    "            max_range = T1_fin\n",
    "        elif position == 2:\n",
    "            min_range = T2_init\n",
    "            max_range = T2_fin\n",
    "        elif position == 3:\n",
    "            min_range = T3_init\n",
    "            max_range = T3_fin\n",
    "    \n",
    "        # Extraction of time_delta and calculates mean of spikes (spontaneous and under attack)\n",
    "        grouped = data_initial_state[(data_initial_state.paramI == param_I) & (data_initial_state.time_delta >= min_range) & (data_initial_state.time_delta < max_range)].groupby('time_delta').count()[\"neuron\"]\n",
    "        d_initial_aggr_neuron = pd.DataFrame()\n",
    "        d_initial_aggr_neuron['time_delta'] = grouped.index\n",
    "        # Divides the count of spikes per instant by the total number of neurons -> mean over all 276 neurons\n",
    "        d_initial_aggr_neuron['mean_spikes'] = [item/276 for item in grouped.tolist()]\n",
    "        \n",
    "        grouped = df_attack[(df_attack.time_delta >= min_range) & (df_attack.time_delta < max_range)].groupby('time_delta').count()[\"neuron\"]\n",
    "        d_attack_aggr_neuron = pd.DataFrame()\n",
    "        d_attack_aggr_neuron['time_delta'] = grouped.index\n",
    "        d_attack_aggr_neuron['mean_spikes'] = [item/276 for item in grouped.tolist()]\n",
    "        \n",
    "        # Add common fields\n",
    "        d_initial_aggr_neuron[\"t_window\"] = position\n",
    "        d_initial_aggr_neuron['test'] = test_id\n",
    "        d_initial_aggr_neuron['n_attacks'] = data_initial_state.n_attacks.unique()[0]\n",
    "        d_initial_aggr_neuron['n_neurons'] = data_initial_state.n_neurons.unique()[0]\n",
    "        d_initial_aggr_neuron['stim_value'] = data_initial_state.stim_value.unique()[0]\n",
    "        d_initial_aggr_neuron['vIncrement'] = data_initial_state.vIncrement.unique()[0]\n",
    "        d_initial_aggr_neuron['paramI'] = data_initial_state.paramI.unique()[0]\n",
    "        \n",
    "        d_attack_aggr_neuron[\"t_window\"] = position\n",
    "        d_attack_aggr_neuron['test'] = test_id\n",
    "        d_attack_aggr_neuron['n_attacks'] = df_attack.n_attacks.unique()[0]\n",
    "        d_attack_aggr_neuron['n_neurons'] = df_attack.n_neurons.unique()[0]\n",
    "        d_attack_aggr_neuron['stim_value'] = df_attack.stim_value.unique()[0]\n",
    "        d_attack_aggr_neuron['vIncrement'] = df_attack.vIncrement.unique()[0]\n",
    "        d_attack_aggr_neuron['paramI'] = df_attack.paramI.unique()[0]\n",
    "        \n",
    "        #initial_nSpikes_join = data_initial_state[(data_initial_state.paramI == param_I) & (data_initial_state.time_delta >= min_range) & (data_initial_state.time_delta < max_range)][[\"attack\", \"time_delta\", \"neuron\"]].copy()\n",
    "        #attack_nSpikes_join = df_attack[(df_attack.time_delta >= min_range) & (df_attack.time_delta < max_range)][[\"attack\", \"time_delta\", \"neuron\"]].copy()\n",
    "        #join_initial_attack_shifts = pd.merge(attack_nSpikes_join, initial_nSpikes_join,  how='left', left_on=['time_delta','neuron'], right_on = ['time_delta','neuron'])\n",
    "        #join_initial_attack_shifts = join_initial_attack_shifts.fillna(0)\n",
    "        #n_shifts_initial_attack = join_initial_attack_shifts[join_initial_attack_shifts.attack_y == 0].count()[\"neuron\"]\n",
    "        #percent_shifts_initial_attack = round((n_shifts_initial_attack/attack_nSpikes)*100,2)\n",
    "        \n",
    "    \n",
    "    print(\"generated test %s of %s\" %(test_id, len(list_tests_attack)))\n",
    "    #append_to_csv_file(stats_csv_filename, data_csv)\n",
    "    \n",
    "    d_initial_aggr_neuron.to_csv(spontaneous_stats_csv_filename, mode='a', sep=\";\", header=False, index=False)\n",
    "    d_attack_aggr_neuron.to_csv(attacks_stats_csv_filename, mode='a', sep=\";\", header=False, index=False)"
   ]
  },
  {
   "cell_type": "code",
   "execution_count": null,
   "metadata": {},
   "outputs": [],
   "source": []
  },
  {
   "cell_type": "code",
   "execution_count": null,
   "metadata": {},
   "outputs": [],
   "source": []
  },
  {
   "cell_type": "code",
   "execution_count": null,
   "metadata": {},
   "outputs": [],
   "source": []
  },
  {
   "cell_type": "code",
   "execution_count": null,
   "metadata": {},
   "outputs": [],
   "source": []
  },
  {
   "cell_type": "code",
   "execution_count": null,
   "metadata": {},
   "outputs": [],
   "source": []
  },
  {
   "cell_type": "code",
   "execution_count": null,
   "metadata": {},
   "outputs": [],
   "source": []
  },
  {
   "cell_type": "code",
   "execution_count": null,
   "metadata": {},
   "outputs": [],
   "source": []
  },
  {
   "cell_type": "code",
   "execution_count": null,
   "metadata": {},
   "outputs": [],
   "source": []
  },
  {
   "cell_type": "markdown",
   "metadata": {},
   "source": [
    "## Load stats from CSV file"
   ]
  },
  {
   "cell_type": "code",
   "execution_count": null,
   "metadata": {},
   "outputs": [],
   "source": [
    "experiment_name = \"test3_v_5_10_rand_init_v\""
   ]
  },
  {
   "cell_type": "code",
   "execution_count": null,
   "metadata": {},
   "outputs": [],
   "source": [
    "attack = \"FLO\" # !!!!!! SELECT CORRECT ATTACK\n",
    "\n",
    "if attack in [\"SCA\"]:\n",
    "    x_plot = \"vIncrement\"\n",
    "    \n",
    "elif attack in [\"FLO\"]:\n",
    "    x_plot = \"n_neurons\"\n"
   ]
  },
  {
   "cell_type": "code",
   "execution_count": null,
   "metadata": {},
   "outputs": [],
   "source": [
    "import os\n",
    "\n",
    "plots_prefix = \"plots/\" + experiment_name + \"/neuron/\"\n",
    "\n",
    "if not os.path.exists(plots_prefix):\n",
    "    os.makedirs(plots_prefix)\n",
    "    \n",
    "counter = 1"
   ]
  },
  {
   "cell_type": "code",
   "execution_count": null,
   "metadata": {},
   "outputs": [],
   "source": []
  },
  {
   "cell_type": "code",
   "execution_count": null,
   "metadata": {},
   "outputs": [],
   "source": [
    "stats_csv_filename = \"stats_neurons_\"+experiment_name+\".csv\"\n",
    "df_stats_global = pd.read_csv(stats_csv_filename, delimiter=\";\")\n",
    "#df_stats_global.fillna(0)"
   ]
  },
  {
   "cell_type": "code",
   "execution_count": null,
   "metadata": {},
   "outputs": [],
   "source": [
    "df_stats = df_stats_global[df_stats_global.n_attacks == 1]"
   ]
  },
  {
   "cell_type": "code",
   "execution_count": null,
   "metadata": {},
   "outputs": [],
   "source": [
    "list_vIncrement = df_stats.vIncrement.unique()\n",
    "list_paramI = df_stats.paramI.unique()"
   ]
  },
  {
   "cell_type": "code",
   "execution_count": null,
   "metadata": {},
   "outputs": [],
   "source": [
    "list_vIncrement"
   ]
  },
  {
   "cell_type": "code",
   "execution_count": null,
   "metadata": {},
   "outputs": [],
   "source": []
  },
  {
   "cell_type": "markdown",
   "metadata": {},
   "source": [
    "### Regular stats - One single instant of attack"
   ]
  },
  {
   "cell_type": "markdown",
   "metadata": {},
   "source": [
    "#### Layer 1"
   ]
  },
  {
   "cell_type": "code",
   "execution_count": null,
   "metadata": {
    "scrolled": false
   },
   "outputs": [],
   "source": [
    "for paramI in list_paramI:\n",
    "    fig, ax = plt.subplots(1, 1)\n",
    "    \n",
    "    ax = sns.lineplot(x=x_plot, y=\"l1_glbl_i_spikes_mean\", data=df_stats[df_stats.paramI == paramI], linewidth=10, label=\"Spontaneous\")\n",
    "    \n",
    "    if attack in [\"FLO\"]:\n",
    "        for incr in list_vIncrement:\n",
    "            ax = sns.lineplot(x=x_plot, y=\"l1_glbl_a_spikes_mean\", data=df_stats[(df_stats.paramI == paramI) & (df_stats.vIncrement == incr)], linewidth=10, label=\"Attack- Increment: \" + str(incr))\n",
    "        \n",
    "        ax.set_xlabel(\"Number of attacked neurons\",fontsize=30, fontweight='bold')\n",
    "        \n",
    "        cont = 5\n",
    "        for a in range(0, 22):\n",
    "            plt.axvline(x=cont*a, color=\"red\")\n",
    "            \n",
    "    elif attack in [\"SCA\"]:\n",
    "        ax = sns.lineplot(x=x_plot, y=\"l1_glbl_a_spikes_mean\", data=df_stats[(df_stats.paramI == paramI)], linewidth=10, label=\"Attack\")\n",
    "        \n",
    "        ax.set_xlabel(\"v_increment\",fontsize=30, fontweight='bold')\n",
    "        \n",
    "        cont = 5\n",
    "        for a in range(0, 13):\n",
    "            plt.axvline(x=cont*a, color=\"red\")\n",
    "            \n",
    "    ax.set_ylabel(\"Spikes mean\",fontsize=30, fontweight='bold')\n",
    "\n",
    "    ax.axes.set_title(\"(Layer 1). \"+attack+\". Mean spikes - global perspective.\",fontsize=50)\n",
    "\n",
    "    ax.tick_params(labelsize=30)\n",
    "    eg = ax.legend(loc='best', fancybox=True, shadow=True, ncol=1, frameon='True',fontsize=30)        \n",
    "\n",
    "    ax.xaxis.set_major_locator(ticker.MultipleLocator(10))\n",
    "\n",
    "    fig.savefig(plots_prefix+str(counter)+\" L1_mean_spikes_global_perspective.pdf\")\n",
    "    fig.savefig(plots_prefix+str(counter)+\" L1_mean_spikes_global_perspective.png\")\n",
    "    plt.close()\n",
    "\n",
    "    counter+=1"
   ]
  },
  {
   "cell_type": "code",
   "execution_count": null,
   "metadata": {
    "scrolled": false
   },
   "outputs": [],
   "source": [
    "for paramI in list_paramI:\n",
    "    fig, ax = plt.subplots(1, 1)\n",
    "    \n",
    "    if attack in [\"FLO\"]:\n",
    "        for incr in list_vIncrement:\n",
    "            ax = sns.lineplot(x=x_plot, y=\"l1_glbl_shifts\", data=df_stats[(df_stats.paramI == paramI) & (df_stats.vIncrement == incr)], linewidth=10, label=\"Attack- Increment: \" + str(incr))\n",
    "        \n",
    "        ax.set_xlabel(\"Number of attacked neurons\",fontsize=30, fontweight='bold')\n",
    "        \n",
    "        cont = 5\n",
    "        for a in range(0, 22):\n",
    "            plt.axvline(x=cont*a, color=\"red\")\n",
    "            \n",
    "    elif attack in [\"SCA\"]:\n",
    "        ax = sns.lineplot(x=x_plot, y=\"l1_glbl_shifts\", data=df_stats[(df_stats.paramI == paramI)], linewidth=10, label=\"Attack\")\n",
    "        \n",
    "        ax.set_xlabel(\"v_increment\",fontsize=30, fontweight='bold')\n",
    "        \n",
    "        cont = 5\n",
    "        for a in range(0, 13):\n",
    "            plt.axvline(x=cont*a, color=\"red\")\n",
    "    \n",
    "    ax.set_ylabel(\"Shifts mean\",fontsize=30, fontweight='bold')\n",
    "\n",
    "    ax.axes.set_title(\"(Layer 1) Mean shifts - global perspective.\",fontsize=50)\n",
    "\n",
    "    ax.tick_params(labelsize=30)\n",
    "    eg = ax.legend(loc='best', fancybox=True, shadow=True, ncol=1, frameon='True',fontsize=30)\n",
    "\n",
    "    ax.xaxis.set_major_locator(ticker.MultipleLocator(10))\n",
    "    \n",
    "    fig.savefig(plots_prefix+str(counter)+\" L1_mean_shifts_global_perspective.pdf\")\n",
    "    fig.savefig(plots_prefix+str(counter)+\" L1_mean_shifts_global_perspective.png\")\n",
    "    plt.close()\n",
    "    \n",
    "    counter+=1"
   ]
  },
  {
   "cell_type": "code",
   "execution_count": null,
   "metadata": {
    "scrolled": false
   },
   "outputs": [],
   "source": [
    "for paramI in list_paramI:\n",
    "    fig, ax = plt.subplots(1, 1)\n",
    "    \n",
    "    ax = sns.lineplot(x=x_plot, y=\"l1_attk_i_spikes_mean\", data=df_stats[df_stats.paramI == paramI], linewidth=10, label=\"Spontaneous\")\n",
    "    \n",
    "    if attack in [\"FLO\"]:\n",
    "        for incr in list_vIncrement:\n",
    "            ax = sns.lineplot(x=x_plot, y=\"l1_attk_a_spikes_mean\", data=df_stats[(df_stats.paramI == paramI) & (df_stats.vIncrement == incr)], linewidth=10, label=\"Attack- Increment: \" + str(incr))\n",
    "        \n",
    "        ax.set_xlabel(\"Number of attacked neurons\",fontsize=30, fontweight='bold')\n",
    "        \n",
    "        cont = 5\n",
    "        for a in range(0, 22):\n",
    "            plt.axvline(x=cont*a, color=\"red\")\n",
    "            \n",
    "    elif attack in [\"SCA\"]:\n",
    "        ax = sns.lineplot(x=x_plot, y=\"l1_attk_a_spikes_mean\", data=df_stats[(df_stats.paramI == paramI)], linewidth=10, label=\"Attack\")\n",
    "        \n",
    "        ax.set_xlabel(\"v_increment\",fontsize=30, fontweight='bold')\n",
    "        \n",
    "        cont = 5\n",
    "        for a in range(0, 13):\n",
    "            plt.axvline(x=cont*a, color=\"red\")\n",
    "            \n",
    "    ax.set_ylabel(\"Spikes mean\",fontsize=30, fontweight='bold')\n",
    "\n",
    "    ax.axes.set_title(\"(Layer 1) Mean spikes - attacked neurons perspective.\",fontsize=50)\n",
    "\n",
    "    ax.tick_params(labelsize=30)\n",
    "    eg = ax.legend(loc='best', fancybox=True, shadow=True, ncol=1, frameon='True',fontsize=30)        \n",
    "\n",
    "    ax.xaxis.set_major_locator(ticker.MultipleLocator(10))\n",
    "\n",
    "    fig.savefig(plots_prefix+str(counter)+\" L1_mean_spikes_attacked_perspective.pdf\")\n",
    "    fig.savefig(plots_prefix+str(counter)+\" L1_mean_spikes_attacked_perspective.png\")\n",
    "    plt.close()\n",
    "\n",
    "    counter+=1"
   ]
  },
  {
   "cell_type": "code",
   "execution_count": null,
   "metadata": {
    "scrolled": false
   },
   "outputs": [],
   "source": [
    "for paramI in list_paramI:\n",
    "    fig, ax = plt.subplots(1, 1)\n",
    "    \n",
    "    if attack in [\"FLO\"]:\n",
    "        for incr in list_vIncrement:\n",
    "            ax = sns.lineplot(x=x_plot, y=\"l1_attk_shifts_mean\", data=df_stats[(df_stats.paramI == paramI) & (df_stats.vIncrement == incr)], linewidth=10, label=\"Attack- Increment: \" + str(incr))\n",
    "        \n",
    "        ax.set_xlabel(\"Number of attacked neurons\",fontsize=30, fontweight='bold')\n",
    "        \n",
    "        cont = 5\n",
    "        for a in range(0, 22):\n",
    "            plt.axvline(x=cont*a, color=\"red\")\n",
    "            \n",
    "    elif attack in [\"SCA\"]:\n",
    "        ax = sns.lineplot(x=x_plot, y=\"l1_attk_shifts_mean\", data=df_stats[(df_stats.paramI == paramI)], linewidth=10, label=\"Attack\")\n",
    "        \n",
    "        ax.set_xlabel(\"v_increment\",fontsize=30, fontweight='bold')\n",
    "        \n",
    "        cont = 5\n",
    "        for a in range(0, 13):\n",
    "            plt.axvline(x=cont*a, color=\"red\")\n",
    "    \n",
    "    ax.set_ylabel(\"Shifts mean\",fontsize=30, fontweight='bold')\n",
    "\n",
    "    ax.axes.set_title(\"(Layer 1) Mean shifts - attacked neurons perspective.\",fontsize=50)\n",
    "\n",
    "    ax.tick_params(labelsize=30)\n",
    "    eg = ax.legend(loc='best', fancybox=True, shadow=True, ncol=1, frameon='True',fontsize=30)\n",
    "\n",
    "    ax.xaxis.set_major_locator(ticker.MultipleLocator(10))\n",
    "    \n",
    "    fig.savefig(plots_prefix+str(counter)+\" L1_mean_shifts_attacked_perspective.pdf\")\n",
    "    fig.savefig(plots_prefix+str(counter)+\" L1_mean_shifts_attacked_perspective.png\")\n",
    "    plt.close()\n",
    "    \n",
    "    counter+=1"
   ]
  },
  {
   "cell_type": "markdown",
   "metadata": {},
   "source": [
    "#### Layer 2"
   ]
  },
  {
   "cell_type": "code",
   "execution_count": null,
   "metadata": {
    "scrolled": false
   },
   "outputs": [],
   "source": [
    "for paramI in list_paramI:\n",
    "    fig, ax = plt.subplots(1, 1)\n",
    "    \n",
    "    ax = sns.lineplot(x=x_plot, y=\"l2_glbl_i_spikes_mean\", data=df_stats[df_stats.paramI == paramI], linewidth=10, label=\"Spontaneous\")\n",
    "    \n",
    "    if attack in [\"FLO\"]:\n",
    "        for incr in list_vIncrement:\n",
    "            ax = sns.lineplot(x=x_plot, y=\"l2_glbl_a_spikes_mean\", data=df_stats[(df_stats.paramI == paramI) & (df_stats.vIncrement == incr)], linewidth=10, label=\"Attack- Increment: \" + str(incr))\n",
    "        \n",
    "        ax.set_xlabel(\"Number of attacked neurons\",fontsize=30, fontweight='bold')\n",
    "        \n",
    "        cont = 5\n",
    "        for a in range(0, 22):\n",
    "            plt.axvline(x=cont*a, color=\"red\")\n",
    "            \n",
    "    elif attack in [\"SCA\"]:\n",
    "        ax = sns.lineplot(x=x_plot, y=\"l2_glbl_a_spikes_mean\", data=df_stats[(df_stats.paramI == paramI)], linewidth=10, label=\"Attack\")\n",
    "        \n",
    "        ax.set_xlabel(\"v_increment\",fontsize=30, fontweight='bold')\n",
    "        \n",
    "        cont = 5\n",
    "        for a in range(0, 13):\n",
    "            plt.axvline(x=cont*a, color=\"red\")\n",
    "            \n",
    "    ax.set_ylabel(\"Spikes mean\",fontsize=30, fontweight='bold')\n",
    "\n",
    "    ax.axes.set_title(\"(Layer 2). \"+attack+\". Mean spikes - global perspective.\",fontsize=50)\n",
    "\n",
    "    ax.tick_params(labelsize=30)\n",
    "    eg = ax.legend(loc='best', fancybox=True, shadow=True, ncol=1, frameon='True',fontsize=30)        \n",
    "\n",
    "    ax.xaxis.set_major_locator(ticker.MultipleLocator(10))\n",
    "\n",
    "    fig.savefig(plots_prefix+str(counter)+\" L2_mean_spikes_global_perspective.pdf\")\n",
    "    fig.savefig(plots_prefix+str(counter)+\" L2_mean_spikes_global_perspective.png\")\n",
    "    plt.close()\n",
    "\n",
    "    counter+=1"
   ]
  },
  {
   "cell_type": "code",
   "execution_count": null,
   "metadata": {
    "scrolled": false
   },
   "outputs": [],
   "source": [
    "for paramI in list_paramI:\n",
    "    fig, ax = plt.subplots(1, 1)\n",
    "    \n",
    "    if attack in [\"FLO\"]:\n",
    "        for incr in list_vIncrement:\n",
    "            ax = sns.lineplot(x=x_plot, y=\"l2_glbl_shifts\", data=df_stats[(df_stats.paramI == paramI) & (df_stats.vIncrement == incr)], linewidth=10, label=\"Attack- Increment: \" + str(incr))\n",
    "        \n",
    "        ax.set_xlabel(\"Number of attacked neurons\",fontsize=30, fontweight='bold')\n",
    "        \n",
    "        cont = 5\n",
    "        for a in range(0, 22):\n",
    "            plt.axvline(x=cont*a, color=\"red\")\n",
    "            \n",
    "    elif attack in [\"SCA\"]:\n",
    "        ax = sns.lineplot(x=x_plot, y=\"l2_glbl_shifts\", data=df_stats[(df_stats.paramI == paramI)], linewidth=10, label=\"Attack\")\n",
    "        \n",
    "        ax.set_xlabel(\"v_increment\",fontsize=30, fontweight='bold')\n",
    "        \n",
    "        cont = 5\n",
    "        for a in range(0, 13):\n",
    "            plt.axvline(x=cont*a, color=\"red\")\n",
    "    \n",
    "    ax.set_ylabel(\"Shifts mean\",fontsize=30, fontweight='bold')\n",
    "\n",
    "    ax.axes.set_title(\"(Layer 2) Mean shifts - global perspective.\",fontsize=50)\n",
    "\n",
    "    ax.tick_params(labelsize=30)\n",
    "    eg = ax.legend(loc='best', fancybox=True, shadow=True, ncol=1, frameon='True',fontsize=30)\n",
    "\n",
    "    ax.xaxis.set_major_locator(ticker.MultipleLocator(10))\n",
    "    \n",
    "    fig.savefig(plots_prefix+str(counter)+\" L2_mean_shifts_global_perspective.pdf\")\n",
    "    fig.savefig(plots_prefix+str(counter)+\" L2_mean_shifts_global_perspective.png\")\n",
    "    plt.close()\n",
    "    \n",
    "    counter+=1"
   ]
  },
  {
   "cell_type": "code",
   "execution_count": null,
   "metadata": {
    "scrolled": false
   },
   "outputs": [],
   "source": [
    "for paramI in list_paramI:\n",
    "    fig, ax = plt.subplots(1, 1)\n",
    "    \n",
    "    ax = sns.lineplot(x=x_plot, y=\"l2_attk_i_spikes_mean\", data=df_stats[df_stats.paramI == paramI], linewidth=10, label=\"Spontaneous\")\n",
    "    \n",
    "    if attack in [\"FLO\"]:\n",
    "        for incr in list_vIncrement:\n",
    "            ax = sns.lineplot(x=x_plot, y=\"l2_attk_a_spikes_mean\", data=df_stats[(df_stats.paramI == paramI) & (df_stats.vIncrement == incr)], linewidth=10, label=\"Attack- Increment: \" + str(incr))\n",
    "        \n",
    "        ax.set_xlabel(\"Number of attacked neurons\",fontsize=30, fontweight='bold')\n",
    "        \n",
    "        cont = 5\n",
    "        for a in range(0, 22):\n",
    "            plt.axvline(x=cont*a, color=\"red\")\n",
    "            \n",
    "    elif attack in [\"SCA\"]:\n",
    "        ax = sns.lineplot(x=x_plot, y=\"l2_attk_a_spikes_mean\", data=df_stats[(df_stats.paramI == paramI)], linewidth=10, label=\"Attack\")\n",
    "        \n",
    "        ax.set_xlabel(\"v_increment\",fontsize=30, fontweight='bold')\n",
    "        \n",
    "        cont = 5\n",
    "        for a in range(0, 13):\n",
    "            plt.axvline(x=cont*a, color=\"red\")\n",
    "            \n",
    "    ax.set_ylabel(\"Spikes mean\",fontsize=30, fontweight='bold')\n",
    "\n",
    "    ax.axes.set_title(\"(Layer 2) Mean spikes - attacked neurons perspective.\",fontsize=50)\n",
    "\n",
    "    ax.tick_params(labelsize=30)\n",
    "    eg = ax.legend(loc='best', fancybox=True, shadow=True, ncol=1, frameon='True',fontsize=30)        \n",
    "\n",
    "    ax.xaxis.set_major_locator(ticker.MultipleLocator(10))\n",
    "\n",
    "    fig.savefig(plots_prefix+str(counter)+\" L2_mean_spikes_attacked_perspective.pdf\")\n",
    "    fig.savefig(plots_prefix+str(counter)+\" L2_mean_spikes_attacked_perspective.png\")\n",
    "    plt.close()\n",
    "\n",
    "    counter+=1"
   ]
  },
  {
   "cell_type": "code",
   "execution_count": null,
   "metadata": {
    "scrolled": false
   },
   "outputs": [],
   "source": [
    "for paramI in list_paramI:\n",
    "    fig, ax = plt.subplots(1, 1)\n",
    "    \n",
    "    if attack in [\"FLO\"]:\n",
    "        for incr in list_vIncrement:\n",
    "            ax = sns.lineplot(x=x_plot, y=\"l2_attk_shifts_mean\", data=df_stats[(df_stats.paramI == paramI) & (df_stats.vIncrement == incr)], linewidth=10, label=\"Attack- Increment: \" + str(incr))\n",
    "        \n",
    "        ax.set_xlabel(\"Number of attacked neurons\",fontsize=30, fontweight='bold')\n",
    "        \n",
    "        cont = 5\n",
    "        for a in range(0, 22):\n",
    "            plt.axvline(x=cont*a, color=\"red\")\n",
    "            \n",
    "    elif attack in [\"SCA\"]:\n",
    "        ax = sns.lineplot(x=x_plot, y=\"l2_attk_shifts_mean\", data=df_stats[(df_stats.paramI == paramI)], linewidth=10, label=\"Attack\")\n",
    "        \n",
    "        ax.set_xlabel(\"v_increment\",fontsize=30, fontweight='bold')\n",
    "        \n",
    "        cont = 5\n",
    "        for a in range(0, 13):\n",
    "            plt.axvline(x=cont*a, color=\"red\")\n",
    "    \n",
    "    ax.set_ylabel(\"Shifts mean\",fontsize=30, fontweight='bold')\n",
    "\n",
    "    ax.axes.set_title(\"(Layer 2) Mean shifts - attacked neurons perspective.\",fontsize=50)\n",
    "\n",
    "    ax.tick_params(labelsize=30)\n",
    "    eg = ax.legend(loc='best', fancybox=True, shadow=True, ncol=1, frameon='True',fontsize=30)\n",
    "\n",
    "    ax.xaxis.set_major_locator(ticker.MultipleLocator(10))\n",
    "    \n",
    "    fig.savefig(plots_prefix+str(counter)+\" L2_mean_shifts_attacked_perspective.pdf\")\n",
    "    fig.savefig(plots_prefix+str(counter)+\" L2_mean_shifts_attacked_perspective.png\")\n",
    "    plt.close()\n",
    "    \n",
    "    counter+=1"
   ]
  },
  {
   "cell_type": "markdown",
   "metadata": {},
   "source": [
    "#### Layer 3"
   ]
  },
  {
   "cell_type": "code",
   "execution_count": null,
   "metadata": {
    "scrolled": false
   },
   "outputs": [],
   "source": [
    "for paramI in list_paramI:\n",
    "    fig, ax = plt.subplots(1, 1)\n",
    "    \n",
    "    ax = sns.lineplot(x=x_plot, y=\"l3_glbl_i_spikes_mean\", data=df_stats[df_stats.paramI == paramI], linewidth=10, label=\"Spontaneous\")\n",
    "    \n",
    "    if attack in [\"FLO\"]:\n",
    "        for incr in list_vIncrement:\n",
    "            ax = sns.lineplot(x=x_plot, y=\"l3_glbl_a_spikes_mean\", data=df_stats[(df_stats.paramI == paramI) & (df_stats.vIncrement == incr)], linewidth=10, label=\"Attack- Increment: \" + str(incr))\n",
    "        \n",
    "        ax.set_xlabel(\"Number of attacked neurons\",fontsize=30, fontweight='bold')\n",
    "        \n",
    "        cont = 5\n",
    "        for a in range(0, 22):\n",
    "            plt.axvline(x=cont*a, color=\"red\")\n",
    "            \n",
    "    elif attack in [\"SCA\"]:\n",
    "        ax = sns.lineplot(x=x_plot, y=\"l3_glbl_a_spikes_mean\", data=df_stats[(df_stats.paramI == paramI)], linewidth=10, label=\"Attack\")\n",
    "        \n",
    "        ax.set_xlabel(\"v_increment\",fontsize=30, fontweight='bold')\n",
    "        \n",
    "        cont = 5\n",
    "        for a in range(0, 13):\n",
    "            plt.axvline(x=cont*a, color=\"red\")\n",
    "            \n",
    "    ax.set_ylabel(\"Spikes mean\",fontsize=30, fontweight='bold')\n",
    "\n",
    "    ax.axes.set_title(\"(Layer 3). \"+attack+\". Mean spikes - global perspective.\",fontsize=50)\n",
    "\n",
    "    ax.tick_params(labelsize=30)\n",
    "    eg = ax.legend(loc='best', fancybox=True, shadow=True, ncol=1, frameon='True',fontsize=30)        \n",
    "\n",
    "    ax.xaxis.set_major_locator(ticker.MultipleLocator(10))\n",
    "\n",
    "    fig.savefig(plots_prefix+str(counter)+\" L3_mean_spikes_global_perspective.pdf\")\n",
    "    fig.savefig(plots_prefix+str(counter)+\" L3_mean_spikes_global_perspective.png\")\n",
    "    plt.close()\n",
    "\n",
    "    counter+=1"
   ]
  },
  {
   "cell_type": "code",
   "execution_count": null,
   "metadata": {
    "scrolled": false
   },
   "outputs": [],
   "source": [
    "for paramI in list_paramI:\n",
    "    fig, ax = plt.subplots(1, 1)\n",
    "    \n",
    "    if attack in [\"FLO\"]:\n",
    "        for incr in list_vIncrement:\n",
    "            ax = sns.lineplot(x=x_plot, y=\"l3_glbl_shifts\", data=df_stats[(df_stats.paramI == paramI) & (df_stats.vIncrement == incr)], linewidth=10, label=\"Attack- Increment: \" + str(incr))\n",
    "        \n",
    "        ax.set_xlabel(\"Number of attacked neurons\",fontsize=30, fontweight='bold')\n",
    "        \n",
    "        cont = 5\n",
    "        for a in range(0, 22):\n",
    "            plt.axvline(x=cont*a, color=\"red\")\n",
    "            \n",
    "    elif attack in [\"SCA\"]:\n",
    "        ax = sns.lineplot(x=x_plot, y=\"l3_glbl_shifts\", data=df_stats[(df_stats.paramI == paramI)], linewidth=10, label=\"Attack\")\n",
    "        \n",
    "        ax.set_xlabel(\"v_increment\",fontsize=30, fontweight='bold')\n",
    "        \n",
    "        cont = 5\n",
    "        for a in range(0, 13):\n",
    "            plt.axvline(x=cont*a, color=\"red\")\n",
    "    \n",
    "    ax.set_ylabel(\"Shifts mean\",fontsize=30, fontweight='bold')\n",
    "\n",
    "    ax.axes.set_title(\"(Layer 3) Mean shifts - global perspective.\",fontsize=50)\n",
    "\n",
    "    ax.tick_params(labelsize=30)\n",
    "    eg = ax.legend(loc='best', fancybox=True, shadow=True, ncol=1, frameon='True',fontsize=30)\n",
    "\n",
    "    ax.xaxis.set_major_locator(ticker.MultipleLocator(10))\n",
    "    \n",
    "    fig.savefig(plots_prefix+str(counter)+\" L3_mean_shifts_global_perspective.pdf\")\n",
    "    fig.savefig(plots_prefix+str(counter)+\" L3_mean_shifts_global_perspective.png\")\n",
    "    plt.close()\n",
    "    \n",
    "    counter+=1"
   ]
  },
  {
   "cell_type": "code",
   "execution_count": null,
   "metadata": {
    "scrolled": false
   },
   "outputs": [],
   "source": [
    "for paramI in list_paramI:\n",
    "    fig, ax = plt.subplots(1, 1)\n",
    "    \n",
    "    ax = sns.lineplot(x=x_plot, y=\"l3_attk_i_spikes_mean\", data=df_stats[df_stats.paramI == paramI], linewidth=10, label=\"Spontaneous\")\n",
    "    \n",
    "    if attack in [\"FLO\"]:\n",
    "        for incr in list_vIncrement:\n",
    "            ax = sns.lineplot(x=x_plot, y=\"l3_attk_a_spikes_mean\", data=df_stats[(df_stats.paramI == paramI) & (df_stats.vIncrement == incr)], linewidth=10, label=\"Attack- Increment: \" + str(incr))\n",
    "        \n",
    "        ax.set_xlabel(\"Number of attacked neurons\",fontsize=30, fontweight='bold')\n",
    "        \n",
    "        cont = 5\n",
    "        for a in range(0, 22):\n",
    "            plt.axvline(x=cont*a, color=\"red\")\n",
    "            \n",
    "    elif attack in [\"SCA\"]:\n",
    "        ax = sns.lineplot(x=x_plot, y=\"l3_attk_a_spikes_mean\", data=df_stats[(df_stats.paramI == paramI)], linewidth=10, label=\"Attack\")\n",
    "        \n",
    "        ax.set_xlabel(\"v_increment\",fontsize=30, fontweight='bold')\n",
    "        \n",
    "        cont = 5\n",
    "        for a in range(0, 13):\n",
    "            plt.axvline(x=cont*a, color=\"red\")\n",
    "            \n",
    "    ax.set_ylabel(\"Spikes mean\",fontsize=30, fontweight='bold')\n",
    "\n",
    "    ax.axes.set_title(\"(Layer 3) Mean spikes - attacked neurons perspective.\",fontsize=50)\n",
    "\n",
    "    ax.tick_params(labelsize=30)\n",
    "    eg = ax.legend(loc='best', fancybox=True, shadow=True, ncol=1, frameon='True',fontsize=30)        \n",
    "\n",
    "    ax.xaxis.set_major_locator(ticker.MultipleLocator(10))\n",
    "\n",
    "    fig.savefig(plots_prefix+str(counter)+\" L3_mean_spikes_attacked_perspective.pdf\")\n",
    "    fig.savefig(plots_prefix+str(counter)+\" L3_mean_spikes_attacked_perspective.png\")\n",
    "    plt.close()\n",
    "\n",
    "    counter+=1"
   ]
  },
  {
   "cell_type": "code",
   "execution_count": null,
   "metadata": {
    "scrolled": false
   },
   "outputs": [],
   "source": [
    "for paramI in list_paramI:\n",
    "    fig, ax = plt.subplots(1, 1)\n",
    "    \n",
    "    if attack in [\"FLO\"]:\n",
    "        for incr in list_vIncrement:\n",
    "            ax = sns.lineplot(x=x_plot, y=\"l3_attk_shifts_mean\", data=df_stats[(df_stats.paramI == paramI) & (df_stats.vIncrement == incr)], linewidth=10, label=\"Attack- Increment: \" + str(incr))\n",
    "        \n",
    "        ax.set_xlabel(\"Number of attacked neurons\",fontsize=30, fontweight='bold')\n",
    "        \n",
    "        cont = 5\n",
    "        for a in range(0, 22):\n",
    "            plt.axvline(x=cont*a, color=\"red\")\n",
    "            \n",
    "    elif attack in [\"SCA\"]:\n",
    "        ax = sns.lineplot(x=x_plot, y=\"l3_attk_shifts_mean\", data=df_stats[(df_stats.paramI == paramI)], linewidth=10, label=\"Attack\")\n",
    "        \n",
    "        ax.set_xlabel(\"v_increment\",fontsize=30, fontweight='bold')\n",
    "        \n",
    "        cont = 5\n",
    "        for a in range(0, 13):\n",
    "            plt.axvline(x=cont*a, color=\"red\")\n",
    "    \n",
    "    ax.set_ylabel(\"Shifts mean\",fontsize=30, fontweight='bold')\n",
    "\n",
    "    ax.axes.set_title(\"(Layer 3) Mean shifts - attacked neurons perspective.\",fontsize=50)\n",
    "\n",
    "    ax.tick_params(labelsize=30)\n",
    "    eg = ax.legend(loc='best', fancybox=True, shadow=True, ncol=1, frameon='True',fontsize=30)\n",
    "\n",
    "    ax.xaxis.set_major_locator(ticker.MultipleLocator(10))\n",
    "    \n",
    "    fig.savefig(plots_prefix+str(counter)+\" L3_mean_shifts_attacked_perspective.pdf\")\n",
    "    fig.savefig(plots_prefix+str(counter)+\" L3_mean_shifts_attacked_perspective.png\")\n",
    "    plt.close()\n",
    "    \n",
    "    counter+=1"
   ]
  },
  {
   "cell_type": "markdown",
   "metadata": {},
   "source": [
    "### Time stats - One single instant of attack"
   ]
  },
  {
   "cell_type": "code",
   "execution_count": null,
   "metadata": {},
   "outputs": [],
   "source": [
    "import os\n",
    "\n",
    "plots_prefix = \"plots/\" + experiment_name + \"/time/\"\n",
    "\n",
    "if not os.path.exists(plots_prefix):\n",
    "    os.makedirs(plots_prefix)\n",
    "    \n",
    "counter = 1"
   ]
  },
  {
   "cell_type": "code",
   "execution_count": null,
   "metadata": {},
   "outputs": [],
   "source": [
    "stats_csv_filename = \"stats_time_\"+experiment_name+\".csv\"\n",
    "\n",
    "df = pd.read_csv(stats_csv_filename, delimiter=\";\")\n",
    "#df_stats_global.fillna(0)"
   ]
  },
  {
   "cell_type": "code",
   "execution_count": null,
   "metadata": {},
   "outputs": [],
   "source": [
    "df_initial_state = df[df.attack == \"initial_state\"]\n",
    "df_attack = df[df.attack == attack]"
   ]
  },
  {
   "cell_type": "code",
   "execution_count": null,
   "metadata": {},
   "outputs": [],
   "source": [
    "n_neurons_list = df_attack.n_neurons.unique()"
   ]
  },
  {
   "cell_type": "code",
   "execution_count": null,
   "metadata": {},
   "outputs": [],
   "source": [
    "n_neurons_list"
   ]
  },
  {
   "cell_type": "code",
   "execution_count": null,
   "metadata": {},
   "outputs": [],
   "source": [
    "list_colors = [\"tab:blue\", \"tab:orange\", \"tab:green\", \"tab:red\", \"tab:purple\", \"tab:brown\", \"tab:pink\", \"tab:grey\", \"tab:olive\" \"tab:cyan\"]"
   ]
  },
  {
   "cell_type": "code",
   "execution_count": null,
   "metadata": {},
   "outputs": [],
   "source": [
    "list_n_neurons_plot = [20, 100]"
   ]
  },
  {
   "cell_type": "code",
   "execution_count": null,
   "metadata": {},
   "outputs": [],
   "source": []
  },
  {
   "cell_type": "markdown",
   "metadata": {},
   "source": [
    "#### Position 1"
   ]
  },
  {
   "cell_type": "code",
   "execution_count": null,
   "metadata": {
    "scrolled": false
   },
   "outputs": [],
   "source": [
    "# Spontaneous\n",
    "for paramI in list_paramI:\n",
    "    fig, ax = plt.subplots(1, 1)\n",
    "    ax = sns.scatterplot(x=\"time_delta\", y=\"mean_spikes\", data=df_initial_state[(df_initial_state.paramI == paramI) & (df_initial_state.t_window == 1)], s=200, alpha=1.0, label=\"Spontaneous\")\n",
    "    \n",
    "    ax.set_xlabel(\"Time\",fontsize=30, fontweight='bold')\n",
    "    ax.set_ylabel(\"Spikes mean\",fontsize=30, fontweight='bold')\n",
    "\n",
    "    ax.axes.set_title(\"(Position 1) Number spikes. Spontaneous.\",fontsize=50)\n",
    "\n",
    "    ax.tick_params(labelsize=20)\n",
    "    eg = ax.legend(loc='best', fancybox=True, shadow=True, ncol=1, frameon='True',fontsize=30)\n",
    "\n",
    "    #cont = 5\n",
    "    #for a in range(0, 22):\n",
    "    #    plt.axvline(x=cont*a, color=\"red\")\n",
    "\n",
    "    ax.xaxis.set_major_locator(ticker.MultipleLocator(10))\n",
    "    plt.xticks(rotation=90)\n",
    "    \n",
    "    fig.savefig(plots_prefix+str(counter)+\" P1_Spontaneous.pdf\")\n",
    "    fig.savefig(plots_prefix+str(counter)+\" P1_Spontaneous.png\")\n",
    "    plt.close()\n",
    "    counter+=1"
   ]
  },
  {
   "cell_type": "code",
   "execution_count": null,
   "metadata": {},
   "outputs": [],
   "source": [
    "# Under attack\n",
    "\n",
    "count_color = 1\n",
    "\n",
    "for paramI in list_paramI:\n",
    "    \n",
    "    if attack in [\"FLO\"]:    \n",
    "        for n_neurons in list_n_neurons_plot:\n",
    "            fig, ax = plt.subplots(1, 1)\n",
    "            n_test = df_attack[(df_attack.paramI == paramI) & (df_attack.t_window == 1) & (df_attack.n_neurons == n_neurons)].test.unique()[0]\n",
    "\n",
    "            ax = sns.scatterplot(x=\"time_delta\", y=\"mean_spikes\", data=df_attack[(df_attack.paramI == paramI) & (df_attack.t_window == 1) & (df_attack.n_neurons == n_neurons) & (df_attack.test == n_test)]\n",
    "            , s=200, alpha=1.0, color=list_colors[count_color], label=\"Attack. N_neurons \" + str(n_neurons))\n",
    "        \n",
    "            ax.axes.set_title(\"(Position 1) Number spikes. FLO. nNeurons=\" + str(n_neurons),fontsize=50)\n",
    "            \n",
    "            ax.set_xlabel(\"Time (ms)\",fontsize=30, fontweight='bold')\n",
    "            ax.set_ylabel(\"Spikes mean\",fontsize=30, fontweight='bold')\n",
    "\n",
    "            ax.tick_params(labelsize=20)\n",
    "            eg = ax.legend(loc='best', fancybox=True, shadow=True, ncol=1, frameon='True',fontsize=30)\n",
    "\n",
    "            #cont = 5\n",
    "            #for a in range(0, 22):\n",
    "            #    plt.axvline(x=cont*a, color=\"red\")\n",
    "\n",
    "            ax.xaxis.set_major_locator(ticker.MultipleLocator(10))\n",
    "            plt.xticks(rotation=90)\n",
    "\n",
    "            fig.savefig(plots_prefix+str(counter)+\" P1_FLO_nNeurons_\"+str(n_neurons)+\".pdf\")\n",
    "            fig.savefig(plots_prefix+str(counter)+\" P1_FLO_nNeurons_\"+str(n_neurons)+\".png\")\n",
    "            plt.close()\n",
    "            counter+=1\n",
    "            count_color+=1\n",
    "            \n",
    "    elif attack in [\"SCA\"]:\n",
    "        fig, ax = plt.subplots(1, 1)\n",
    "        ax = sns.scatterplot(x=\"time_delta\", y=\"mean_spikes\", data=df_attack[(df_attack.paramI == paramI) & (df_attack.t_window == 2)]\n",
    "            , s=200, alpha=1.0, label=\"Attack\")\n",
    "        \n",
    "        ax.axes.set_title(\"(Position 1) Number spikes. SCA.\",fontsize=50)\n",
    "\n",
    "        ax.set_xlabel(\"Time (ms)\",fontsize=30, fontweight='bold')\n",
    "        ax.set_ylabel(\"Spikes mean\",fontsize=30, fontweight='bold')\n",
    "\n",
    "\n",
    "        ax.tick_params(labelsize=20)\n",
    "        eg = ax.legend(loc='best', fancybox=True, shadow=True, ncol=1, frameon='True',fontsize=30)\n",
    "\n",
    "        #cont = 5\n",
    "        #for a in range(0, 22):\n",
    "        #    plt.axvline(x=cont*a, color=\"red\")\n",
    "\n",
    "        ax.xaxis.set_major_locator(ticker.MultipleLocator(10))\n",
    "        plt.xticks(rotation=90)\n",
    "\n",
    "        fig.savefig(plots_prefix+str(counter)+\" P1_SCA.pdf\")\n",
    "        fig.savefig(plots_prefix+str(counter)+\" P1_SCA.png\")\n",
    "\n",
    "        plt.close()\n",
    "        counter+=1"
   ]
  },
  {
   "cell_type": "markdown",
   "metadata": {},
   "source": [
    "#### Position 2"
   ]
  },
  {
   "cell_type": "code",
   "execution_count": null,
   "metadata": {
    "scrolled": false
   },
   "outputs": [],
   "source": [
    "# Spontaneous\n",
    "for paramI in list_paramI:\n",
    "    fig, ax = plt.subplots(1, 1)\n",
    "    ax = sns.scatterplot(x=\"time_delta\", y=\"mean_spikes\", data=df_initial_state[(df_initial_state.paramI == paramI) & (df_initial_state.t_window == 2)], s=200, alpha=1.0, label=\"Spontaneous\")\n",
    "    \n",
    "    ax.set_xlabel(\"Time\",fontsize=30, fontweight='bold')\n",
    "    ax.set_ylabel(\"Spikes mean\",fontsize=30, fontweight='bold')\n",
    "\n",
    "    ax.axes.set_title(\"(Position 2) Number spikes. Spontaneous.\",fontsize=50)\n",
    "\n",
    "    ax.tick_params(labelsize=20)\n",
    "    eg = ax.legend(loc='best', fancybox=True, shadow=True, ncol=1, frameon='True',fontsize=30)\n",
    "\n",
    "    #cont = 5\n",
    "    #for a in range(0, 22):\n",
    "    #    plt.axvline(x=cont*a, color=\"red\")\n",
    "\n",
    "    ax.xaxis.set_major_locator(ticker.MultipleLocator(10))\n",
    "    plt.xticks(rotation=90)\n",
    "    \n",
    "    fig.savefig(plots_prefix+str(counter)+\" P2_Spontaneous.pdf\")\n",
    "    fig.savefig(plots_prefix+str(counter)+\" P2_Spontaneous.png\")\n",
    "    plt.close()\n",
    "    \n",
    "    counter+=1"
   ]
  },
  {
   "cell_type": "code",
   "execution_count": null,
   "metadata": {
    "scrolled": false
   },
   "outputs": [],
   "source": [
    "# Under attack\n",
    "\n",
    "count_color = 1\n",
    "\n",
    "for paramI in list_paramI:\n",
    "    \n",
    "    if attack in [\"FLO\"]:    \n",
    "        for n_neurons in list_n_neurons_plot:\n",
    "            fig, ax = plt.subplots(1, 1)\n",
    "            n_test = df_attack[(df_attack.paramI == paramI) & (df_attack.t_window == 2) & (df_attack.n_neurons == n_neurons)].test.unique()[0]\n",
    "\n",
    "            ax = sns.scatterplot(x=\"time_delta\", y=\"mean_spikes\", data=df_attack[(df_attack.paramI == paramI) & (df_attack.t_window == 2) & (df_attack.n_neurons == n_neurons) & (df_attack.test == n_test)]\n",
    "            , s=200, alpha=1.0, color=list_colors[count_color], label=\"Attack. N_neurons \" + str(n_neurons))\n",
    "        \n",
    "            ax.axes.set_title(\"(Position 2) Number spikes. FLO. nNeurons=\" + str(n_neurons),fontsize=50)\n",
    "            \n",
    "            ax.set_xlabel(\"Time (ms)\",fontsize=30, fontweight='bold')\n",
    "            ax.set_ylabel(\"Spikes mean\",fontsize=30, fontweight='bold')\n",
    "\n",
    "            ax.tick_params(labelsize=20)\n",
    "            eg = ax.legend(loc='best', fancybox=True, shadow=True, ncol=1, frameon='True',fontsize=30)\n",
    "\n",
    "            #cont = 5\n",
    "            #for a in range(0, 22):\n",
    "            #    plt.axvline(x=cont*a, color=\"red\")\n",
    "\n",
    "            ax.xaxis.set_major_locator(ticker.MultipleLocator(10))\n",
    "            plt.xticks(rotation=90)\n",
    "\n",
    "            fig.savefig(plots_prefix+str(counter)+\" P2_FLO_nNeurons_\"+str(n_neurons)+\".pdf\")\n",
    "            fig.savefig(plots_prefix+str(counter)+\" P2_SCA.png\")\n",
    "            plt.close()\n",
    "            counter+=1\n",
    "            count_color+=1\n",
    "            \n",
    "    elif attack in [\"SCA\"]:\n",
    "        fig, ax = plt.subplots(1, 1)\n",
    "        ax = sns.scatterplot(x=\"time_delta\", y=\"mean_spikes\", data=df_attack[(df_attack.paramI == paramI) & (df_attack.t_window == 2)]\n",
    "            , s=200, alpha=1.0, label=\"Attack\")\n",
    "        \n",
    "        ax.axes.set_title(\"(Position 2) Number spikes. SCA.\",fontsize=50)\n",
    "\n",
    "        ax.set_xlabel(\"Time (ms)\",fontsize=30, fontweight='bold')\n",
    "        ax.set_ylabel(\"Spikes mean\",fontsize=30, fontweight='bold')\n",
    "\n",
    "\n",
    "        ax.tick_params(labelsize=20)\n",
    "        eg = ax.legend(loc='best', fancybox=True, shadow=True, ncol=1, frameon='True',fontsize=30)\n",
    "\n",
    "        #cont = 5\n",
    "        #for a in range(0, 22):\n",
    "        #    plt.axvline(x=cont*a, color=\"red\")\n",
    "\n",
    "        ax.xaxis.set_major_locator(ticker.MultipleLocator(10))\n",
    "        plt.xticks(rotation=90)\n",
    "\n",
    "        fig.savefig(plots_prefix+str(counter)+\" P2_SCA.pdf\")\n",
    "        fig.savefig(plots_prefix+str(counter)+\" P2_SCA.png\")\n",
    "\n",
    "        plt.close()\n",
    "        counter+=1"
   ]
  },
  {
   "cell_type": "markdown",
   "metadata": {},
   "source": [
    "#### Position 3"
   ]
  },
  {
   "cell_type": "code",
   "execution_count": null,
   "metadata": {
    "scrolled": false
   },
   "outputs": [],
   "source": [
    "# Spontaneous\n",
    "for paramI in list_paramI:\n",
    "    fig, ax = plt.subplots(1, 1)\n",
    "    ax = sns.scatterplot(x=\"time_delta\", y=\"mean_spikes\", data=df_initial_state[(df_initial_state.paramI == paramI) & (df_initial_state.t_window == 3)], s=200, alpha=1.0, label=\"Spontaneous\")\n",
    "    \n",
    "    ax.set_xlabel(\"Time\",fontsize=30, fontweight='bold')\n",
    "    ax.set_ylabel(\"Spikes mean\",fontsize=30, fontweight='bold')\n",
    "\n",
    "    ax.axes.set_title(\"(Position 3) Number spikes. Spontaneous.\",fontsize=50)\n",
    "\n",
    "    ax.tick_params(labelsize=20)\n",
    "    eg = ax.legend(loc='best', fancybox=True, shadow=True, ncol=1, frameon='True',fontsize=30)\n",
    "\n",
    "    #cont = 5\n",
    "    #for a in range(0, 22):\n",
    "    #    plt.axvline(x=cont*a, color=\"red\")\n",
    "\n",
    "    ax.xaxis.set_major_locator(ticker.MultipleLocator(10))\n",
    "    plt.xticks(rotation=90)\n",
    "    \n",
    "    fig.savefig(plots_prefix+str(counter)+\" P3_Spontaneous.pdf\")\n",
    "    fig.savefig(plots_prefix+str(counter)+\" P3_Spontaneous.png\")\n",
    "    plt.close()\n",
    "    \n",
    "    counter+=1"
   ]
  },
  {
   "cell_type": "code",
   "execution_count": null,
   "metadata": {
    "scrolled": false
   },
   "outputs": [],
   "source": [
    "# Under attack\n",
    "\n",
    "count_color = 1\n",
    "\n",
    "for paramI in list_paramI:\n",
    "    \n",
    "    if attack in [\"FLO\"]:    \n",
    "        for n_neurons in list_n_neurons_plot:\n",
    "            fig, ax = plt.subplots(1, 1)\n",
    "            n_test = df_attack[(df_attack.paramI == paramI) & (df_attack.t_window == 3) & (df_attack.n_neurons == n_neurons)].test.unique()[0]\n",
    "\n",
    "            ax = sns.scatterplot(x=\"time_delta\", y=\"mean_spikes\", data=df_attack[(df_attack.paramI == paramI) & (df_attack.t_window == 3) & (df_attack.n_neurons == n_neurons) & (df_attack.test == n_test)]\n",
    "            , s=200, alpha=1.0, color=list_colors[count_color], label=\"Attack. N_neurons \" + str(n_neurons))\n",
    "        \n",
    "            ax.axes.set_title(\"(Position 3) Number spikes. FLO. nNeurons=\" + str(n_neurons),fontsize=50)\n",
    "            \n",
    "            ax.set_xlabel(\"Time (ms)\",fontsize=30, fontweight='bold')\n",
    "            ax.set_ylabel(\"Spikes mean\",fontsize=30, fontweight='bold')\n",
    "\n",
    "            ax.tick_params(labelsize=20)\n",
    "            eg = ax.legend(loc='best', fancybox=True, shadow=True, ncol=1, frameon='True',fontsize=30)\n",
    "\n",
    "            #cont = 5\n",
    "            #for a in range(0, 22):\n",
    "            #    plt.axvline(x=cont*a, color=\"red\")\n",
    "\n",
    "            ax.xaxis.set_major_locator(ticker.MultipleLocator(10))\n",
    "            plt.xticks(rotation=90)\n",
    "\n",
    "            fig.savefig(plots_prefix+str(counter)+\" P3_FLO_nNeurons_\"+str(n_neurons)+\".pdf\")\n",
    "            fig.savefig(plots_prefix+str(counter)+\" P3_FLO_nNeurons_\"+str(n_neurons)+\".png\")\n",
    "            plt.close()\n",
    "            counter+=1\n",
    "            count_color+=1\n",
    "            \n",
    "    elif attack in [\"SCA\"]:\n",
    "        fig, ax = plt.subplots(1, 1)\n",
    "        ax = sns.scatterplot(x=\"time_delta\", y=\"mean_spikes\", data=df_attack[(df_attack.paramI == paramI) & (df_attack.t_window == 2)]\n",
    "            , s=200, alpha=1.0, label=\"Attack\")\n",
    "        \n",
    "        ax.axes.set_title(\"(Position 3) Number spikes. SCA.\",fontsize=50)\n",
    "\n",
    "        ax.set_xlabel(\"Time (ms)\",fontsize=30, fontweight='bold')\n",
    "        ax.set_ylabel(\"Spikes mean\",fontsize=30, fontweight='bold')\n",
    "\n",
    "\n",
    "        ax.tick_params(labelsize=20)\n",
    "        eg = ax.legend(loc='best', fancybox=True, shadow=True, ncol=1, frameon='True',fontsize=30)\n",
    "\n",
    "        #cont = 5\n",
    "        #for a in range(0, 22):\n",
    "        #    plt.axvline(x=cont*a, color=\"red\")\n",
    "\n",
    "        ax.xaxis.set_major_locator(ticker.MultipleLocator(10))\n",
    "        plt.xticks(rotation=90)\n",
    "\n",
    "        fig.savefig(plots_prefix+str(counter)+\" P3_SCA.pdf\")\n",
    "        fig.savefig(plots_prefix+str(counter)+\" P3_SCA.png\")\n",
    "\n",
    "        plt.close()\n",
    "        counter+=1"
   ]
  },
  {
   "cell_type": "code",
   "execution_count": null,
   "metadata": {},
   "outputs": [],
   "source": []
  },
  {
   "cell_type": "code",
   "execution_count": null,
   "metadata": {},
   "outputs": [],
   "source": []
  },
  {
   "cell_type": "code",
   "execution_count": null,
   "metadata": {},
   "outputs": [],
   "source": []
  },
  {
   "cell_type": "markdown",
   "metadata": {},
   "source": [
    "#### Get neurons on layer 1 that connect with the same set of neurons on layer 2"
   ]
  },
  {
   "cell_type": "code",
   "execution_count": null,
   "metadata": {},
   "outputs": [],
   "source": [
    "csv_filename = \"synapsysConv1-Conv2.csv\""
   ]
  },
  {
   "cell_type": "code",
   "execution_count": null,
   "metadata": {},
   "outputs": [],
   "source": [
    "df = pd.read_csv(csv_filename, delimiter=\";\", dtype={'n_neurons': np.int32})"
   ]
  },
  {
   "cell_type": "code",
   "execution_count": null,
   "metadata": {
    "scrolled": true
   },
   "outputs": [],
   "source": [
    "df"
   ]
  },
  {
   "cell_type": "code",
   "execution_count": null,
   "metadata": {
    "scrolled": true
   },
   "outputs": [],
   "source": [
    "dict_connections = {}\n",
    "\n",
    "for neuron_L1 in range(0, 200):\n",
    "    if tuple(df[df.sourceNeuron == neuron_L1].targetNeuron) not in dict_connections.keys():\n",
    "        dict_connections[tuple(df[df.sourceNeuron == neuron_L1].targetNeuron)] = []\n",
    "    \n",
    "    dict_connections[tuple(df[df.sourceNeuron == neuron_L1].targetNeuron)].append(neuron_L1)\n",
    "\n",
    "dict_connections"
   ]
  },
  {
   "cell_type": "code",
   "execution_count": null,
   "metadata": {},
   "outputs": [],
   "source": [
    "for key in dict_connections:\n",
    "    print(\"L2: \", key)\n",
    "    print(\"L1: \", dict_connections[key])\n",
    "    print(\"\")"
   ]
  },
  {
   "cell_type": "code",
   "execution_count": null,
   "metadata": {},
   "outputs": [],
   "source": [
    "dict_connections[(0, 9, 18, 27, 36, 45, 54, 63, 1, 10, 19, 28, 37, 46, 55, 64, 3, 12, 21, 30, 39, 48, 57, 66, 4, 13, 22, 31, 40, 49, 58, 67, 6, 15, 24, 33, 42, 51, 60, 69, 7, 16, 25, 34, 43, 52, 61, 70)]"
   ]
  },
  {
   "cell_type": "code",
   "execution_count": null,
   "metadata": {},
   "outputs": [],
   "source": []
  }
 ],
 "metadata": {
  "kernelspec": {
   "display_name": "Python 3 (ipykernel)",
   "language": "python",
   "name": "python3"
  },
  "language_info": {
   "codemirror_mode": {
    "name": "ipython",
    "version": 3
   },
   "file_extension": ".py",
   "mimetype": "text/x-python",
   "name": "python",
   "nbconvert_exporter": "python",
   "pygments_lexer": "ipython3",
   "version": "3.10.4"
  }
 },
 "nbformat": 4,
 "nbformat_minor": 2
}
